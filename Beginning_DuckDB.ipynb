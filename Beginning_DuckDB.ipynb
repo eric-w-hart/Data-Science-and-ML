{
 "cells": [
  {
   "cell_type": "markdown",
   "metadata": {},
   "source": [
    "### Beginning DuckDB  \n",
    "In this post, I am documenting my learning about DuckDB.   \n",
    "\n",
    "DuckDB is a relational database that supports the SQL language. Think about your common database solution such as MySQL, etc. However, it lives mostly in memory. No need to connect to a remote destination IP and port. If working with data already written to the disk, then just point duckdb to the **.duckdb** file.\n",
    "\n",
    "DuckDB is considered a columnar database. While most of us may work with Pandas dataframe directly, DuckDB allows us to run SQL queries against those Pandas DataFrame if needed similarly to what you would have done against a remote SQL database.  \n",
    "\n",
    "We are able to run queries on data whether that data is on our locally or remotely. \n",
    "\n",
    "DuckDB is very useful in environments where there is not much memory  \n"
   ]
  },
  {
   "cell_type": "code",
   "execution_count": 1,
   "metadata": {},
   "outputs": [
    {
     "name": "stdout",
     "output_type": "stream",
     "text": [
      "Using pip 24.2 from /home/securitynik/miniconda3/envs/main_playground/lib/python3.12/site-packages/pip (python 3.12)\n",
      "Requirement already satisfied: duckdb in /home/securitynik/miniconda3/envs/main_playground/lib/python3.12/site-packages (1.2.1)\n"
     ]
    }
   ],
   "source": [
    "# First up, let's install DuckDB\n",
    "!pip install duckdb --upgrade --verbose --no-cache-dir"
   ]
  },
  {
   "cell_type": "code",
   "execution_count": 2,
   "metadata": {},
   "outputs": [],
   "source": [
    "%config SqlMagic.feedback = False\n",
    "%config SqlMagic.displaycon = False"
   ]
  },
  {
   "cell_type": "code",
   "execution_count": 3,
   "metadata": {},
   "outputs": [],
   "source": [
    "# With DuckDB installed, let's import the library\n",
    "import duckdb"
   ]
  },
  {
   "cell_type": "code",
   "execution_count": 4,
   "metadata": {},
   "outputs": [
    {
     "data": {
      "text/plain": [
       "'1.2.1'"
      ]
     },
     "execution_count": 4,
     "metadata": {},
     "output_type": "execute_result"
    }
   ],
   "source": [
    "# Let's get the duckdb version\n",
    "duckdb.__version__"
   ]
  },
  {
   "cell_type": "code",
   "execution_count": 5,
   "metadata": {},
   "outputs": [
    {
     "data": {
      "text/plain": [
       "┌─────────────────┬────────────┐\n",
       "│ library_version │ source_id  │\n",
       "│     varchar     │  varchar   │\n",
       "├─────────────────┼────────────┤\n",
       "│ v1.2.1          │ 8e52ec4395 │\n",
       "└─────────────────┴────────────┘"
      ]
     },
     "execution_count": 5,
     "metadata": {},
     "output_type": "execute_result"
    }
   ],
   "source": [
    "# Or alternatively\n",
    "duckdb.sql(query='CALL pragma_version()')"
   ]
  },
  {
   "cell_type": "code",
   "execution_count": 6,
   "metadata": {},
   "outputs": [
    {
     "data": {
      "text/plain": [
       "┌──────────────────┐\n",
       "│     platform     │\n",
       "│     varchar      │\n",
       "├──────────────────┤\n",
       "│ linux_amd64_gcc4 │\n",
       "└──────────────────┘"
      ]
     },
     "execution_count": 6,
     "metadata": {},
     "output_type": "execute_result"
    }
   ],
   "source": [
    "# What platform am I running duckdb on\n",
    "duckdb.sql(query='CALL pragma_platform()')"
   ]
  },
  {
   "cell_type": "code",
   "execution_count": 7,
   "metadata": {},
   "outputs": [
    {
     "data": {
      "text/plain": [
       "┌─────────────────────────────────────────────────────┐\n",
       "│                     user_agent                      │\n",
       "│                       varchar                       │\n",
       "├─────────────────────────────────────────────────────┤\n",
       "│ duckdb/v1.2.1(linux_amd64_gcc4) python/3.12 jupyter │\n",
       "└─────────────────────────────────────────────────────┘"
      ]
     },
     "execution_count": 7,
     "metadata": {},
     "output_type": "execute_result"
    }
   ],
   "source": [
    "# Get the user agent\n",
    "duckdb.sql(query='PRAGMA user_agent')"
   ]
  },
  {
   "cell_type": "code",
   "execution_count": 8,
   "metadata": {},
   "outputs": [
    {
     "data": {
      "text/plain": [
       "┌─────────────────────────────────────────────┬─────────────────┬────────────────────────────────────────────────────────────────────────────────────────────────────────────────┬────────────┬─────────┐\n",
       "│                    name                     │      value      │                                                  description                                                   │ input_type │  scope  │\n",
       "│                   varchar                   │     varchar     │                                                    varchar                                                     │  varchar   │ varchar │\n",
       "├─────────────────────────────────────────────┼─────────────────┼────────────────────────────────────────────────────────────────────────────────────────────────────────────────┼────────────┼─────────┤\n",
       "│ access_mode                                 │ automatic       │ Access mode of the database (AUTOMATIC, READ_ONLY or READ_WRITE)                                               │ VARCHAR    │ GLOBAL  │\n",
       "│ allocator_background_threads                │ false           │ Whether to enable the allocator background thread.                                                             │ BOOLEAN    │ GLOBAL  │\n",
       "│ allocator_bulk_deallocation_flush_threshold │ 512.0 MiB       │ If a bulk deallocation larger than this occurs, flush outstanding allocations.                                 │ VARCHAR    │ GLOBAL  │\n",
       "│ allocator_flush_threshold                   │ 128.0 MiB       │ Peak allocation threshold at which to flush the allocator after completing a task.                             │ VARCHAR    │ GLOBAL  │\n",
       "│ allow_community_extensions                  │ true            │ Allow to load community built extensions                                                                       │ BOOLEAN    │ GLOBAL  │\n",
       "│ allow_extensions_metadata_mismatch          │ false           │ Allow to load extensions with not compatible metadata                                                          │ BOOLEAN    │ GLOBAL  │\n",
       "│ allow_persistent_secrets                    │ true            │ Allow the creation of persistent secrets, that are stored and loaded on restarts                               │ BOOLEAN    │ GLOBAL  │\n",
       "│ allow_unredacted_secrets                    │ false           │ Allow printing unredacted secrets                                                                              │ BOOLEAN    │ GLOBAL  │\n",
       "│ allow_unsigned_extensions                   │ false           │ Allow to load extensions with invalid or missing signatures                                                    │ BOOLEAN    │ GLOBAL  │\n",
       "│ allowed_directories                         │ []              │ List of directories/prefixes that are ALWAYS allowed to be queried - even when enable_external_access is false │ VARCHAR[]  │ GLOBAL  │\n",
       "│    ·                                        │ ·               │          ·                                                                                                     │    ·       │   ·     │\n",
       "│    ·                                        │ ·               │          ·                                                                                                     │    ·       │   ·     │\n",
       "│    ·                                        │ ·               │          ·                                                                                                     │    ·       │   ·     │\n",
       "│ Calendar                                    │ gregorian       │ The current calendar                                                                                           │ VARCHAR    │ GLOBAL  │\n",
       "│ parquet_metadata_cache                      │ false           │ Cache Parquet metadata - useful when reading the same files multiple times                                     │ BOOLEAN    │ GLOBAL  │\n",
       "│ enable_geoparquet_conversion                │ true            │ Attempt to decode/encode geometry data in/as GeoParquet files if the spatial extension is present.             │ BOOLEAN    │ GLOBAL  │\n",
       "│ disable_parquet_prefetching                 │ false           │ Disable the prefetching mechanism in Parquet                                                                   │ BOOLEAN    │ GLOBAL  │\n",
       "│ binary_as_string                            │                 │ In Parquet files, interpret binary data as a string.                                                           │ BOOLEAN    │ GLOBAL  │\n",
       "│ python_scan_all_frames                      │ false           │ If set, restores the old behavior of scanning all preceding frames to locate the referenced variable.          │ BOOLEAN    │ GLOBAL  │\n",
       "│ TimeZone                                    │ America/Toronto │ The current time zone                                                                                          │ VARCHAR    │ GLOBAL  │\n",
       "│ prefetch_all_parquet_files                  │ false           │ Use the prefetching mechanism for all types of parquet files                                                   │ BOOLEAN    │ GLOBAL  │\n",
       "│ python_enable_replacements                  │ true            │ Whether variables visible to the current stack should be used for replacement scans.                           │ BOOLEAN    │ GLOBAL  │\n",
       "│ pandas_analyze_sample                       │ 1000            │ The maximum number of rows to sample when analyzing a pandas object column.                                    │ UBIGINT    │ GLOBAL  │\n",
       "├─────────────────────────────────────────────┴─────────────────┴────────────────────────────────────────────────────────────────────────────────────────────────────────────────┴────────────┴─────────┤\n",
       "│ 122 rows (20 shown)                                                                                                                                                                         5 columns │\n",
       "└───────────────────────────────────────────────────────────────────────────────────────────────────────────────────────────────────────────────────────────────────────────────────────────────────────┘"
      ]
     },
     "execution_count": 8,
     "metadata": {},
     "output_type": "execute_result"
    }
   ],
   "source": [
    "# Get the current DuckDB settings\n",
    "duckdb.sql(query='SELECT * FROM duckdb_settings()')"
   ]
  },
  {
   "cell_type": "code",
   "execution_count": 9,
   "metadata": {},
   "outputs": [
    {
     "name": "stdout",
     "output_type": "stream",
     "text": [
      "/tmp/duckdb.log\n"
     ]
    }
   ],
   "source": [
    "# Set the logging\n",
    "duckdb.sql(query='SET log_query_path = \"/tmp/duckdb.log\"')\n",
    "!ls /tmp/duckdb.log"
   ]
  },
  {
   "cell_type": "code",
   "execution_count": 10,
   "metadata": {},
   "outputs": [
    {
     "data": {
      "text/plain": [
       "┌────────────┬─────────┬──────────────────────┬─────────┬─────────────┬──────────────┐\n",
       "│    name    │  type   │      parameters      │ varargs │ return_type │ side_effects │\n",
       "│  varchar   │ varchar │      varchar[]       │ varchar │   varchar   │   boolean    │\n",
       "├────────────┼─────────┼──────────────────────┼─────────┼─────────────┼──────────────┤\n",
       "│ !__postfix │ SCALAR  │ [INTEGER]            │ NULL    │ HUGEINT     │ false        │\n",
       "│ !~~        │ SCALAR  │ [VARCHAR, VARCHAR]   │ NULL    │ BOOLEAN     │ false        │\n",
       "│ !~~*       │ SCALAR  │ [VARCHAR, VARCHAR]   │ NULL    │ BOOLEAN     │ false        │\n",
       "│ %          │ SCALAR  │ [BIGINT, BIGINT]     │ NULL    │ BIGINT      │ false        │\n",
       "│ %          │ SCALAR  │ [DOUBLE, DOUBLE]     │ NULL    │ DOUBLE      │ false        │\n",
       "│ %          │ SCALAR  │ [DECIMAL, DECIMAL]   │ NULL    │ DECIMAL     │ false        │\n",
       "│ %          │ SCALAR  │ [TINYINT, TINYINT]   │ NULL    │ TINYINT     │ false        │\n",
       "│ %          │ SCALAR  │ [FLOAT, FLOAT]       │ NULL    │ FLOAT       │ false        │\n",
       "│ %          │ SCALAR  │ [UINTEGER, UINTEGER] │ NULL    │ UINTEGER    │ false        │\n",
       "│ %          │ SCALAR  │ [UBIGINT, UBIGINT]   │ NULL    │ UBIGINT     │ false        │\n",
       "│ ·          │   ·     │     ·                │  ·      │    ·        │   ·          │\n",
       "│ ·          │   ·     │     ·                │  ·      │    ·        │   ·          │\n",
       "│ ·          │   ·     │     ·                │  ·      │    ·        │   ·          │\n",
       "│ ~          │ SCALAR  │ [TINYINT]            │ NULL    │ TINYINT     │ false        │\n",
       "│ ~          │ SCALAR  │ [UBIGINT]            │ NULL    │ UBIGINT     │ false        │\n",
       "│ ~          │ SCALAR  │ [UINTEGER]           │ NULL    │ UINTEGER    │ false        │\n",
       "│ ~          │ SCALAR  │ [USMALLINT]          │ NULL    │ USMALLINT   │ false        │\n",
       "│ ~          │ SCALAR  │ [BIT]                │ NULL    │ BIT         │ false        │\n",
       "│ ~          │ SCALAR  │ [UHUGEINT]           │ NULL    │ UHUGEINT    │ false        │\n",
       "│ ~          │ SCALAR  │ [UTINYINT]           │ NULL    │ UTINYINT    │ false        │\n",
       "│ ~~         │ SCALAR  │ [VARCHAR, VARCHAR]   │ NULL    │ BOOLEAN     │ false        │\n",
       "│ ~~*        │ SCALAR  │ [VARCHAR, VARCHAR]   │ NULL    │ BOOLEAN     │ false        │\n",
       "│ ~~~        │ SCALAR  │ [VARCHAR, VARCHAR]   │ NULL    │ BOOLEAN     │ false        │\n",
       "├────────────┴─────────┴──────────────────────┴─────────┴─────────────┴──────────────┤\n",
       "│ 2308 rows (20 shown)                                                     6 columns │\n",
       "└────────────────────────────────────────────────────────────────────────────────────┘"
      ]
     },
     "execution_count": 10,
     "metadata": {},
     "output_type": "execute_result"
    }
   ],
   "source": [
    "# Get a list of the available functions\n",
    "duckdb.sql('PRAGMA functions')"
   ]
  },
  {
   "cell_type": "code",
   "execution_count": 11,
   "metadata": {},
   "outputs": [
    {
     "name": "stdout",
     "output_type": "stream",
     "text": [
      "┌───────┐\n",
      "│   1   │\n",
      "│ int32 │\n",
      "├───────┤\n",
      "│     1 │\n",
      "└───────┘\n",
      "\n"
     ]
    }
   ],
   "source": [
    "# Take it for a test spin\n",
    "duckdb.sql('SELECT 1').show()"
   ]
  },
  {
   "cell_type": "markdown",
   "metadata": {},
   "source": [
    "With that simple test out of the way, let's get some real data to work with.  \n",
    "\n",
    "DuckDB is capable of reading data from different formats, such as CSV, Parquet, JSON, Pandas DataFrame, Numpy arrays,  etc. It can read CSV files using the **.read_csv** function or even directly via **.sql**. This **.sql** allows DuckDB to operate on in memory databases.To access an in memory database use the **connect** method without any arguments.\n",
    "\n",
    "\n",
    "While your CSV, JSON, etc., files are generally stored on your system, there is nothing stopping you from downloading from a remote location via https. If the need arises for you to store your data to disk, as in make it persistent, DuckDB also has facilities for that.  \n",
    "\n",
    "Let us get some data. For us, let's read the conn.log file from Zeek. This file is serialized in JSON format."
   ]
  },
  {
   "cell_type": "code",
   "execution_count": 12,
   "metadata": {},
   "outputs": [
    {
     "data": {
      "text/plain": [
       "┌───────────────────┬────────────────────┬──────────────┬───────────┬────────────────┬───────────┬─────────┬────────────┬────────────┬────────────┬──────────────┬──────────┬───────────┬───────────────┬───────────┬───────────────┬────────────────────────┬────────────┬────────────┬─────────┐\n",
       "│        ts         │        uid         │  id.orig_h   │ id.orig_p │   id.resp_h    │ id.resp_p │  proto  │ conn_state │ local_orig │ local_resp │ missed_bytes │ history  │ orig_pkts │ orig_ip_bytes │ resp_pkts │ resp_ip_bytes │        duration        │ orig_bytes │ resp_bytes │ service │\n",
       "│      double       │      varchar       │   varchar    │   int64   │    varchar     │   int64   │ varchar │  varchar   │  boolean   │  boolean   │    int64     │ varchar  │   int64   │     int64     │   int64   │     int64     │         double         │   int64    │   int64    │ varchar │\n",
       "├───────────────────┼────────────────────┼──────────────┼───────────┼────────────────┼───────────┼─────────┼────────────┼────────────┼────────────┼──────────────┼──────────┼───────────┼───────────────┼───────────┼───────────────┼────────────────────────┼────────────┼────────────┼─────────┤\n",
       "│  1696017594.59247 │ ChefyE3DEW1aClvrpg │ 127.0.0.1    │      6789 │ 127.0.0.1      │     59106 │ tcp     │ OTH        │ true       │ true       │            0 │ Ccc      │         0 │             0 │         0 │             0 │                   NULL │       NULL │       NULL │ NULL    │\n",
       "│ 1696017594.796073 │ CNVult2fJM0kSCwz44 │ 192.168.0.4  │      9200 │ 192.168.0.4    │     59876 │ tcp     │ OTH        │ true       │ true       │            0 │ CccC     │         0 │             0 │         0 │             0 │                   NULL │       NULL │       NULL │ NULL    │\n",
       "│ 1696017594.806907 │ CyrAyq3MxIBtwI3l14 │ 192.168.0.4  │      9200 │ 192.168.0.4    │     59896 │ tcp     │ OTH        │ true       │ true       │            0 │ CccC     │         0 │             0 │         0 │             0 │                   NULL │       NULL │       NULL │ NULL    │\n",
       "│ 1696017599.419025 │ CTFYJf1YlOlgiuIRq3 │ 192.168.0.29 │     54167 │ 192.168.0.4    │        80 │ tcp     │ REJ        │ true       │ true       │            0 │ Sr       │         1 │            52 │         1 │            40 │ 1.4066696166992188e-05 │          0 │          0 │ NULL    │\n",
       "│ 1696017599.419293 │ CFvCzJ3IqyN9ZPo6Yf │ 192.168.0.29 │     54169 │ 192.168.0.4    │        80 │ tcp     │ REJ        │ true       │ true       │            0 │ Sr       │         1 │            52 │         1 │            40 │  8.106231689453125e-06 │          0 │          0 │ NULL    │\n",
       "│ 1696017599.424701 │ C3DwpC23QXuD21IrTd │ 192.168.0.29 │     54170 │ 192.168.0.4    │        80 │ tcp     │ REJ        │ true       │ true       │            0 │ Sr       │         1 │            52 │         1 │            40 │  8.106231689453125e-06 │          0 │          0 │ NULL    │\n",
       "│ 1696017599.419025 │ CJZTFA4weMt0rOi6n8 │ 192.168.0.29 │     54168 │ 192.168.0.4    │        80 │ tcp     │ REJ        │ true       │ true       │            0 │ Sr       │         1 │            52 │         1 │            40 │ 1.0013580322265625e-05 │          0 │          0 │ NULL    │\n",
       "│ 1696017599.667551 │ CJ7CB33OMrEJAVp2Ok │ 192.168.0.29 │     54173 │ 192.168.0.4    │        80 │ tcp     │ REJ        │ true       │ true       │            0 │ Sr       │         1 │            52 │         1 │            40 │ 5.0067901611328125e-05 │          0 │          0 │ NULL    │\n",
       "│ 1696017599.667551 │ CD6nHS2nP0XlCzVCMl │ 192.168.0.29 │     54171 │ 192.168.0.4    │        80 │ tcp     │ REJ        │ true       │ true       │            0 │ Sr       │         1 │            52 │         1 │            40 │  2.002716064453125e-05 │          0 │          0 │ NULL    │\n",
       "│ 1696017599.667551 │ CDFYX72za0XMGX6uC6 │ 192.168.0.29 │     54172 │ 192.168.0.4    │        80 │ tcp     │ REJ        │ true       │ true       │            0 │ Sr       │         1 │            52 │         1 │            40 │  4.506111145019531e-05 │          0 │          0 │ NULL    │\n",
       "│         ·         │         ·          │     ·        │       ·   │     ·          │         · │  ·      │  ·         │  ·         │  ·         │            · │ ·        │         · │             · │         · │             · │                     ·  │          · │          · │  ·      │\n",
       "│         ·         │         ·          │     ·        │       ·   │     ·          │         · │  ·      │  ·         │  ·         │  ·         │            · │ ·        │         · │             · │         · │             · │                     ·  │          · │          · │  ·      │\n",
       "│         ·         │         ·          │     ·        │       ·   │     ·          │         · │  ·      │  ·         │  ·         │  ·         │            · │ ·        │         · │             · │         · │             · │                     ·  │          · │          · │  ·      │\n",
       "│ 1696018905.723928 │ CObyDx4iNx4KDJMGTe │ 127.0.0.1    │     34198 │ 127.0.0.1      │      6379 │ tcp     │ OTH        │ true       │ true       │            0 │ CcCc     │         0 │             0 │         0 │             0 │                   NULL │       NULL │       NULL │ NULL    │\n",
       "│ 1696018906.888415 │ CcSkFO3MAhD86Rfr44 │ 127.0.0.1    │     34176 │ 127.0.0.1      │      5601 │ tcp     │ RSTRH      │ true       │ true       │            0 │ Cr       │         0 │             0 │         2 │            80 │ 1.0967254638671875e-05 │          0 │          0 │ NULL    │\n",
       "│  1696018906.88883 │ Cd4NiO29fKOmJK6NF3 │ 127.0.0.1    │     34188 │ 127.0.0.1      │      5601 │ tcp     │ RSTRH      │ true       │ true       │            0 │ Cr       │         0 │             0 │         2 │            80 │ 1.4066696166992188e-05 │          0 │          0 │ NULL    │\n",
       "│ 1696018906.889349 │ CIaFAomZxIeEmOAp7  │ 127.0.0.1    │     34196 │ 127.0.0.1      │      5601 │ tcp     │ RSTRH      │ true       │ true       │            0 │ Cr       │         0 │             0 │         2 │            80 │ 1.1920928955078125e-05 │          0 │          0 │ NULL    │\n",
       "│ 1696018906.890834 │ CKW6LxjJG23rxjX9j  │ 127.0.0.1    │     34206 │ 127.0.0.1      │      5601 │ tcp     │ RSTRH      │ true       │ true       │            0 │ Cr       │         0 │             0 │         2 │            80 │  7.867813110351562e-06 │          0 │          0 │ NULL    │\n",
       "│ 1696018906.890836 │ CRJjSs2QUPE8pBJeQd │ 127.0.0.1    │     34210 │ 127.0.0.1      │      5601 │ tcp     │ RSTRH      │ true       │ true       │            0 │ Cr       │         0 │             0 │         2 │            80 │ 1.0967254638671875e-05 │          0 │          0 │ NULL    │\n",
       "│ 1696018906.890931 │ Cg6CSz2rQquEFxSoRk │ 127.0.0.1    │     34212 │ 127.0.0.1      │      5601 │ tcp     │ RSTRH      │ true       │ true       │            0 │ Cr       │         0 │             0 │         2 │            80 │ 1.2159347534179688e-05 │          0 │          0 │ NULL    │\n",
       "│ 1696018901.921446 │ CKUMT1QRYJny6TXi8  │ 192.168.0.10 │      5353 │ 224.0.0.251    │      5353 │ udp     │ S0         │ true       │ false      │            0 │ D        │         1 │            89 │         0 │             0 │                   NULL │       NULL │       NULL │ dns     │\n",
       "│ 1696018820.554161 │ C7MNhp4uTA6gWgypJd │ 192.168.0.95 │     56548 │ 142.251.33.170 │       443 │ tcp     │ SF         │ true       │ false      │            0 │ ShADadFf │        20 │          5747 │        19 │          6445 │      86.39099097251892 │       4699 │       5449 │ ssl     │\n",
       "│ 1696018902.235111 │ CHf8ci4iuePhEOFaDh │ 192.168.0.9  │     34313 │ 192.168.0.2    │        53 │ udp     │ SF         │ true       │ true       │            0 │ Dd       │         1 │            72 │         1 │           231 │  0.0002789497375488281 │         44 │        203 │ dns     │\n",
       "├───────────────────┴────────────────────┴──────────────┴───────────┴────────────────┴───────────┴─────────┴────────────┴────────────┴────────────┴──────────────┴──────────┴───────────┴───────────────┴───────────┴───────────────┴────────────────────────┴────────────┴────────────┴─────────┤\n",
       "│ ? rows (>9999 rows, 20 shown)                                                                                                                                                                                                                                                       20 columns │\n",
       "└────────────────────────────────────────────────────────────────────────────────────────────────────────────────────────────────────────────────────────────────────────────────────────────────────────────────────────────────────────────────────────────────────────────────────────────────┘"
      ]
     },
     "execution_count": 12,
     "metadata": {},
     "output_type": "execute_result"
    }
   ],
   "source": [
    "# Read the data and take a quick peak\n",
    "# Recently, I encountered a problem with loading a very large file where the kernel would crash\n",
    "# This prevents the kernel from crashing\n",
    "# https://github.com/duckdb/duckdb/issues/7087\n",
    "%config SqlMagic.autopandas = False\n",
    "\n",
    "# Alternatively, ensure ipywidgets is installed in the environment\n",
    "# !pip install ipywidgets --verbose --no-cache-dir\n",
    "# https://github.com/duckdb/duckdb/issues/6815\n",
    "\n",
    "quack = duckdb.read_json(path_or_buffer='/mnt/d/ML/conn-today.json')\n",
    "quack"
   ]
  },
  {
   "cell_type": "markdown",
   "metadata": {},
   "source": [
    "Now that we know we can read data, let's write this data back to the file system for testing. In this case, let's write in the Parquet format."
   ]
  },
  {
   "cell_type": "code",
   "execution_count": 13,
   "metadata": {},
   "outputs": [
    {
     "name": "stdout",
     "output_type": "stream",
     "text": [
      "-rwxrwxrwx 1 securitynik securitynik 1006239 Jan  1 13:54 /mnt/d/ML/conn-today.pqt\n"
     ]
    }
   ],
   "source": [
    "# Writing to the file system\n",
    "quack.write_parquet(file_name=r'/tmp/conn-today.pqt')\n",
    "\n",
    "# With the above done, let's verify the file was successfully written\n",
    "!ls -l /mnt/d/ML/conn-today.pqt"
   ]
  },
  {
   "cell_type": "markdown",
   "metadata": {},
   "source": [
    "We now know we can open files and write to the file system. Let's create persistent database. That is a database that is stored to the file system.  "
   ]
  },
  {
   "cell_type": "code",
   "execution_count": 14,
   "metadata": {},
   "outputs": [
    {
     "data": {
      "text/plain": [
       "<duckdb.duckdb.DuckDBPyConnection at 0x7faf602efd30>"
      ]
     },
     "execution_count": 14,
     "metadata": {},
     "output_type": "execute_result"
    }
   ],
   "source": [
    "# Create the database\n",
    "# Let's actually connect to that database and do some work with it\n",
    "con = duckdb.connect(database='/tmp/securitynik.duckdb', read_only=False)\n",
    "con"
   ]
  },
  {
   "cell_type": "code",
   "execution_count": 15,
   "metadata": {},
   "outputs": [
    {
     "name": "stdout",
     "output_type": "stream",
     "text": [
      "-rw-r--r-- 1 securitynik securitynik 12288 Mar 29 12:51 /tmp/securitynik.duckdb\n"
     ]
    }
   ],
   "source": [
    "# Verify if the was created\n",
    "!ls -l /tmp/securitynik.duckdb"
   ]
  },
  {
   "cell_type": "code",
   "execution_count": 16,
   "metadata": {},
   "outputs": [],
   "source": [
    "# Create a table named users\n",
    "con.sql(query='''CREATE TABLE IF NOT EXISTS users \n",
    "        (id INTEGER PRIMARY KEY,\n",
    "        fname VARCHAR,\n",
    "        lname VARCHAR,\n",
    "        username VARCHAR,  \n",
    "        )\n",
    "        ''')"
   ]
  },
  {
   "cell_type": "code",
   "execution_count": 17,
   "metadata": {},
   "outputs": [
    {
     "data": {
      "text/plain": [
       "┌─────────┐\n",
       "│  name   │\n",
       "│ varchar │\n",
       "├─────────┤\n",
       "│ users   │\n",
       "└─────────┘"
      ]
     },
     "execution_count": 17,
     "metadata": {},
     "output_type": "execute_result"
    }
   ],
   "source": [
    "# Let's list all tables in the securitynik database\n",
    "con.sql(query='PRAGMA show_tables')"
   ]
  },
  {
   "cell_type": "code",
   "execution_count": 18,
   "metadata": {},
   "outputs": [
    {
     "data": {
      "text/plain": [
       "┌───────┬─────────────────────┬─────────────────────┬────────────────────────┐\n",
       "│  id   │        fname        │        lname        │        username        │\n",
       "│ int32 │       varchar       │       varchar       │        varchar         │\n",
       "├───────┼─────────────────────┼─────────────────────┼────────────────────────┤\n",
       "│     1 │ guest_fname         │ guest_lname         │ guest_username         │\n",
       "│     2 │ anotehr_guest_fname │ anotehr_guest_lname │ anotehr_guest_username │\n",
       "│     3 │ you                 │ me                  │ somebody               │\n",
       "│     4 │ guest_fname         │ guest_lname         │ guest_username         │\n",
       "└───────┴─────────────────────┴─────────────────────┴────────────────────────┘"
      ]
     },
     "execution_count": 18,
     "metadata": {},
     "output_type": "execute_result"
    }
   ],
   "source": [
    "# Query the empty table\n",
    "con.sql(query='SELECT * FROM users')"
   ]
  },
  {
   "cell_type": "code",
   "execution_count": 20,
   "metadata": {},
   "outputs": [],
   "source": [
    "# Let's insert some records\n",
    "con.sql('''INSERT INTO users (id, fname, lname, username) VALUES (5, 'guest_fname', 'guest_lname', 'guest_username')''')"
   ]
  },
  {
   "cell_type": "code",
   "execution_count": 21,
   "metadata": {},
   "outputs": [],
   "source": [
    "# Well I did think that was going to work, as I expect the primary key to auto increment. \n",
    "# It did not.\n",
    "# Let us try this again. This time create a sequence\n",
    "# Let's overwrite the table we created before, with the new structure\n",
    "\n",
    "# Create a table named users\n",
    "con.sql(query='CREATE SEQUENCE IF NOT EXISTS id_sequence START 1')\n",
    "con.sql(query='''CREATE OR REPLACE TABLE users \n",
    "        (id INTEGER PRIMARY KEY DEFAULT nextval('id_sequence'),\n",
    "        fname VARCHAR,\n",
    "        lname VARCHAR,\n",
    "        username VARCHAR,  \n",
    "        )\n",
    "        ''')"
   ]
  },
  {
   "cell_type": "code",
   "execution_count": 22,
   "metadata": {},
   "outputs": [
    {
     "data": {
      "text/plain": [
       "┌───────┬─────────────┬─────────────┬────────────────┐\n",
       "│  id   │    fname    │    lname    │    username    │\n",
       "│ int32 │   varchar   │   varchar   │    varchar     │\n",
       "├───────┼─────────────┼─────────────┼────────────────┤\n",
       "│     4 │ guest_fname │ guest_lname │ guest_username │\n",
       "└───────┴─────────────┴─────────────┴────────────────┘"
      ]
     },
     "execution_count": 22,
     "metadata": {},
     "output_type": "execute_result"
    }
   ],
   "source": [
    "# Insert the records again\n",
    "con.sql(query='''INSERT INTO users \n",
    "        (fname, lname, username) \n",
    "        VALUES ('guest_fname', 'guest_lname', 'guest_username')''')\n",
    "\n",
    "# Run the questy again to see if this works\n",
    "con.sql(query='SELECT * FROM users')"
   ]
  },
  {
   "cell_type": "code",
   "execution_count": 23,
   "metadata": {},
   "outputs": [
    {
     "data": {
      "text/plain": [
       "┌───────┬─────────────────────┬─────────────────────┬────────────────────────┐\n",
       "│  id   │        fname        │        lname        │        username        │\n",
       "│ int32 │       varchar       │       varchar       │        varchar         │\n",
       "├───────┼─────────────────────┼─────────────────────┼────────────────────────┤\n",
       "│     4 │ guest_fname         │ guest_lname         │ guest_username         │\n",
       "│     5 │ anotehr_guest_fname │ anotehr_guest_lname │ anotehr_guest_username │\n",
       "│     6 │ you                 │ me                  │ somebody               │\n",
       "└───────┴─────────────────────┴─────────────────────┴────────────────────────┘"
      ]
     },
     "execution_count": 23,
     "metadata": {},
     "output_type": "execute_result"
    }
   ],
   "source": [
    "# Now we got that to work, let's add two records\n",
    "con.sql(query='''INSERT INTO users \n",
    "        (fname, lname, username) \n",
    "        VALUES ('anotehr_guest_fname', 'anotehr_guest_lname', 'anotehr_guest_username'),\n",
    "        ('you', 'me', 'somebody')'''\n",
    "        )\n",
    "\n",
    "# Run the questy again to see if this works\n",
    "con.sql(query='SELECT * FROM users')"
   ]
  },
  {
   "cell_type": "code",
   "execution_count": 25,
   "metadata": {},
   "outputs": [],
   "source": [
    "# Well at least we know that works.\n",
    "# No one wants to enter records one by one\n",
    "# Exporting some data from Postgres sql\n",
    "# $ psql --username securitynik --dbname securitynik --command \"select * from users;\" --csv > /tmp/users.csv\n",
    "# Read the csv vile\n",
    "con.sql(query='''INSERT INTO users \n",
    "        SELECT * FROM read_csv('/tmp/users.csv', delim=',', header=true, skip=0)\n",
    "        ON CONFLICT DO NOTHING\n",
    "        ''')"
   ]
  },
  {
   "cell_type": "code",
   "execution_count": 26,
   "metadata": {},
   "outputs": [
    {
     "data": {
      "text/plain": [
       "┌───────┬─────────────────────┬─────────────────────┬────────────────────────┐\n",
       "│  id   │        fname        │        lname        │        username        │\n",
       "│ int32 │       varchar       │       varchar       │        varchar         │\n",
       "├───────┼─────────────────────┼─────────────────────┼────────────────────────┤\n",
       "│     1 │ Security            │ Nik                 │ securitynik            │\n",
       "│     2 │ nik                 │ Alleyne             │ nika                   │\n",
       "│     3 │ SANS                │ Training            │ sans                   │\n",
       "│     4 │ guest_fname         │ guest_lname         │ guest_username         │\n",
       "│     5 │ anotehr_guest_fname │ anotehr_guest_lname │ anotehr_guest_username │\n",
       "│     6 │ you                 │ me                  │ somebody               │\n",
       "│     7 │ Saadia              │ K                   │ sk                     │\n",
       "│     8 │ Tren                │ A                   │ tba                    │\n",
       "│     9 │ Pam                 │ K                   │ pk                     │\n",
       "│    10 │ User                │ Guest               │ guest                  │\n",
       "├───────┴─────────────────────┴─────────────────────┴────────────────────────┤\n",
       "│ 10 rows                                                          4 columns │\n",
       "└────────────────────────────────────────────────────────────────────────────┘"
      ]
     },
     "execution_count": 26,
     "metadata": {},
     "output_type": "execute_result"
    }
   ],
   "source": [
    "# Run the query again to see if this works\n",
    "con.sql(query='SELECT * FROM users ORDER BY id')"
   ]
  },
  {
   "cell_type": "code",
   "execution_count": 29,
   "metadata": {},
   "outputs": [
    {
     "data": {
      "text/plain": [
       "┌───────┬──────────┬──────────┬─────────┐\n",
       "│  id   │ username │ blog_url │ user_id │\n",
       "│ int32 │ varchar  │ varchar  │  int32  │\n",
       "├───────┴──────────┴──────────┴─────────┤\n",
       "│                0 rows                 │\n",
       "└───────────────────────────────────────┘"
      ]
     },
     "execution_count": 29,
     "metadata": {},
     "output_type": "execute_result"
    }
   ],
   "source": [
    "# Ok let's create a whole new table \n",
    "# $ psql --username securitynik --dbname securitynik --command \"select * from bloggers;\" --csv  > /tmp/bloggers.csv\n",
    "\n",
    "con.sql(query='''CREATE OR REPLACE TABLE bloggers\n",
    "        ( id INTEGER PRIMARY KEY DEFAULT nextval('id_sequence'),  \n",
    "        username VARCHAR,\n",
    "        blog_url VARCHAR,\n",
    "        user_id INTEGER REFERENCES users(id) )\n",
    "         ''')\n",
    "\n",
    "# Query the table \n",
    "con.sql(query='SELECT * FROM bloggers')"
   ]
  },
  {
   "cell_type": "code",
   "execution_count": 30,
   "metadata": {},
   "outputs": [
    {
     "data": {
      "text/plain": [
       "┌───────┬─────────────┬─────────────────────────┬─────────┐\n",
       "│  id   │  username   │        blog_url         │ user_id │\n",
       "│ int32 │   varchar   │         varchar         │  int32  │\n",
       "├───────┼─────────────┼─────────────────────────┼─────────┤\n",
       "│     2 │ securitynik │ securitynik.blogspot.ca │       1 │\n",
       "│     1 │ securitynik │ www.securitynik.com     │       1 │\n",
       "│     3 │ pk          │ www.pk.local            │       3 │\n",
       "│     4 │ nta         │ www.nta.local           │       3 │\n",
       "│     5 │ nsa         │ www.nsa.local           │       4 │\n",
       "│     6 │ nsa         │ nsa.local               │       4 │\n",
       "│     7 │ test        │ 404.local               │      10 │\n",
       "└───────┴─────────────┴─────────────────────────┴─────────┘"
      ]
     },
     "execution_count": 30,
     "metadata": {},
     "output_type": "execute_result"
    }
   ],
   "source": [
    "# Load the data from a CSV file to populate the table\n",
    "con.sql(query=''' INSERT INTO bloggers SELECT * FROM read_csv('/tmp/bloggers.csv', delim=',', header=true, skip=0) ''')\n",
    "\n",
    "# Query the table \n",
    "con.sql(query='SELECT * FROM bloggers')"
   ]
  },
  {
   "cell_type": "code",
   "execution_count": 31,
   "metadata": {},
   "outputs": [],
   "source": [
    "# Let's build another table using the information we stored in the database earlier\n",
    "# If the table exists, then just move on\n",
    "con.sql('CREATE TABLE IF NOT EXISTS conn_log AS FROM read_parquet(\"/tmp/conn-today.pqt\")')"
   ]
  },
  {
   "cell_type": "code",
   "execution_count": 32,
   "metadata": {},
   "outputs": [
    {
     "data": {
      "text/plain": [
       "┌───────┬─────────────┬─────────────────────────┐\n",
       "│  seq  │    name     │          file           │\n",
       "│ int64 │   varchar   │         varchar         │\n",
       "├───────┼─────────────┼─────────────────────────┤\n",
       "│   546 │ securitynik │ /tmp/securitynik.duckdb │\n",
       "└───────┴─────────────┴─────────────────────────┘"
      ]
     },
     "execution_count": 32,
     "metadata": {},
     "output_type": "execute_result"
    }
   ],
   "source": [
    "# Look at the list of databases and their paths\n",
    "# We created one so the expectation here is only one\n",
    "con.sql('PRAGMA database_list')"
   ]
  },
  {
   "cell_type": "code",
   "execution_count": 33,
   "metadata": {},
   "outputs": [
    {
     "data": {
      "text/plain": [
       "┌───────────────┬───────────────┬────────────┬──────────────┬─────────────┬─────────────┬──────────┬──────────────┬──────────────┐\n",
       "│ database_name │ database_size │ block_size │ total_blocks │ used_blocks │ free_blocks │ wal_size │ memory_usage │ memory_limit │\n",
       "│    varchar    │    varchar    │   int64    │    int64     │    int64    │    int64    │ varchar  │   varchar    │   varchar    │\n",
       "├───────────────┼───────────────┼────────────┼──────────────┼─────────────┼─────────────┼──────────┼──────────────┼──────────────┤\n",
       "│ securitynik   │ 0 bytes       │     262144 │            0 │           0 │           0 │ 3.3 MiB  │ 13.1 MiB     │ 12.3 GiB     │\n",
       "└───────────────┴───────────────┴────────────┴──────────────┴─────────────┴─────────────┴──────────┴──────────────┴──────────────┘"
      ]
     },
     "execution_count": 33,
     "metadata": {},
     "output_type": "execute_result"
    }
   ],
   "source": [
    "# Get information on the database size\n",
    "con.sql('CALL pragma_database_size()')"
   ]
  },
  {
   "cell_type": "code",
   "execution_count": 34,
   "metadata": {},
   "outputs": [
    {
     "data": {
      "text/plain": [
       "┌──────────────────┬────────────────────┬─────────────────────────┐\n",
       "│       tag        │ memory_usage_bytes │ temporary_storage_bytes │\n",
       "│     varchar      │       int64        │          int64          │\n",
       "├──────────────────┼────────────────────┼─────────────────────────┤\n",
       "│ BASE_TABLE       │                  0 │                       0 │\n",
       "│ HASH_TABLE       │                  0 │                       0 │\n",
       "│ PARQUET_READER   │                  0 │                       0 │\n",
       "│ CSV_READER       │                  0 │                       0 │\n",
       "│ ORDER_BY         │                  0 │                       0 │\n",
       "│ ART_INDEX        │                  0 │                       0 │\n",
       "│ COLUMN_DATA      │                  0 │                       0 │\n",
       "│ METADATA         │                  0 │                       0 │\n",
       "│ OVERFLOW_STRINGS │                  0 │                       0 │\n",
       "│ IN_MEMORY_TABLE  │                  0 │                       0 │\n",
       "│ ALLOCATOR        │                  0 │                       0 │\n",
       "│ EXTENSION        │                  0 │                       0 │\n",
       "│ TRANSACTION      │                  0 │                       0 │\n",
       "├──────────────────┴────────────────────┴─────────────────────────┤\n",
       "│ 13 rows                                               3 columns │\n",
       "└─────────────────────────────────────────────────────────────────┘"
      ]
     },
     "execution_count": 34,
     "metadata": {},
     "output_type": "execute_result"
    }
   ],
   "source": [
    "# Let's get the memory \n",
    "# https://duckdb.org/2024/07/09/memory-management.html\n",
    "duckdb.sql('FROM duckdb_memory()')"
   ]
  },
  {
   "cell_type": "code",
   "execution_count": 35,
   "metadata": {},
   "outputs": [
    {
     "data": {
      "text/plain": [
       "┌─────────┬───────┐\n",
       "│  path   │ size  │\n",
       "│ varchar │ int64 │\n",
       "├─────────┴───────┤\n",
       "│     0 rows      │\n",
       "└─────────────────┘"
      ]
     },
     "execution_count": 35,
     "metadata": {},
     "output_type": "execute_result"
    }
   ],
   "source": [
    "# Get the current temporary files\n",
    "duckdb.sql('FROM duckdb_temporary_files()')"
   ]
  },
  {
   "cell_type": "code",
   "execution_count": 36,
   "metadata": {},
   "outputs": [
    {
     "data": {
      "text/plain": [
       "┌───────────────┬───────────────┬────────────┬──────────────┬─────────────┬─────────────┬──────────┬──────────────┬──────────────┐\n",
       "│ database_name │ database_size │ block_size │ total_blocks │ used_blocks │ free_blocks │ wal_size │ memory_usage │ memory_limit │\n",
       "│    varchar    │    varchar    │   int64    │    int64     │    int64    │    int64    │ varchar  │   varchar    │   varchar    │\n",
       "├───────────────┼───────────────┼────────────┼──────────────┼─────────────┼─────────────┼──────────┼──────────────┼──────────────┤\n",
       "│ securitynik   │ 0 bytes       │     262144 │            0 │           0 │           0 │ 3.3 MiB  │ 13.1 MiB     │ 953.6 MiB    │\n",
       "└───────────────┴───────────────┴────────────┴──────────────┴─────────────┴─────────────┴──────────┴──────────────┴──────────────┘"
      ]
     },
     "execution_count": 36,
     "metadata": {},
     "output_type": "execute_result"
    }
   ],
   "source": [
    "# How about we change the amount for the memory limit of the database\n",
    "con.sql(query=\"SET memory_limit = '1GB'\")\n",
    "con.sql('CALL pragma_database_size()')"
   ]
  },
  {
   "cell_type": "code",
   "execution_count": 37,
   "metadata": {},
   "outputs": [
    {
     "data": {
      "text/plain": [
       "┌──────────┐\n",
       "│   name   │\n",
       "│ varchar  │\n",
       "├──────────┤\n",
       "│ bloggers │\n",
       "│ conn_log │\n",
       "│ users    │\n",
       "└──────────┘"
      ]
     },
     "execution_count": 37,
     "metadata": {},
     "output_type": "execute_result"
    }
   ],
   "source": [
    "# Let's list all tables in the securitynik database\n",
    "con.sql('PRAGMA show_tables')"
   ]
  },
  {
   "cell_type": "code",
   "execution_count": 38,
   "metadata": {},
   "outputs": [
    {
     "data": {
      "text/plain": [
       "┌─────────────┬─────────┬──────────┬────────────────────────────────────────────────────────────────────────────────────────────────────────────────────────────────────────────────────────────────────────────────────────────────────────────────────────┬───────────────────────────────────────────────────────────────────────────────────────────────────────────────────────────────────────────────────────────────────────────┬───────────┐\n",
       "│  database   │ schema  │   name   │                                                                                                      column_names                                                                                                      │                                                                               column_types                                                                                │ temporary │\n",
       "│   varchar   │ varchar │ varchar  │                                                                                                       varchar[]                                                                                                        │                                                                                 varchar[]                                                                                 │  boolean  │\n",
       "├─────────────┼─────────┼──────────┼────────────────────────────────────────────────────────────────────────────────────────────────────────────────────────────────────────────────────────────────────────────────────────────────────────────────────────┼───────────────────────────────────────────────────────────────────────────────────────────────────────────────────────────────────────────────────────────────────────────┼───────────┤\n",
       "│ securitynik │ main    │ bloggers │ [id, username, blog_url, user_id]                                                                                                                                                                                      │ [INTEGER, VARCHAR, VARCHAR, INTEGER]                                                                                                                                      │ false     │\n",
       "│ securitynik │ main    │ conn_log │ [ts, uid, id.orig_h, id.orig_p, id.resp_h, id.resp_p, proto, conn_state, local_orig, local_resp, missed_bytes, history, orig_pkts, orig_ip_bytes, resp_pkts, resp_ip_bytes, duration, orig_bytes, resp_bytes, service] │ [DOUBLE, VARCHAR, VARCHAR, BIGINT, VARCHAR, BIGINT, VARCHAR, VARCHAR, BOOLEAN, BOOLEAN, BIGINT, VARCHAR, BIGINT, BIGINT, BIGINT, BIGINT, DOUBLE, BIGINT, BIGINT, VARCHAR] │ false     │\n",
       "│ securitynik │ main    │ users    │ [id, fname, lname, username]                                                                                                                                                                                           │ [INTEGER, VARCHAR, VARCHAR, VARCHAR]                                                                                                                                      │ false     │\n",
       "└─────────────┴─────────┴──────────┴────────────────────────────────────────────────────────────────────────────────────────────────────────────────────────────────────────────────────────────────────────────────────────────────────────────────────────┴───────────────────────────────────────────────────────────────────────────────────────────────────────────────────────────────────────────────────────────────────────────┴───────────┘"
      ]
     },
     "execution_count": 38,
     "metadata": {},
     "output_type": "execute_result"
    }
   ],
   "source": [
    "# Expand that view\n",
    "# Let's get a little bit more data about the tables in database, tables, columns, etc.\n",
    "con.sql('PRAGMA show_tables_expanded')"
   ]
  },
  {
   "cell_type": "code",
   "execution_count": 39,
   "metadata": {},
   "outputs": [
    {
     "data": {
      "text/plain": [
       "┌─────────────┬─────────────┬─────────┬─────────┬────────────────────────┬─────────┐\n",
       "│ column_name │ column_type │  null   │   key   │        default         │  extra  │\n",
       "│   varchar   │   varchar   │ varchar │ varchar │        varchar         │ varchar │\n",
       "├─────────────┼─────────────┼─────────┼─────────┼────────────────────────┼─────────┤\n",
       "│ id          │ INTEGER     │ NO      │ PRI     │ nextval('id_sequence') │ NULL    │\n",
       "│ fname       │ VARCHAR     │ YES     │ NULL    │ NULL                   │ NULL    │\n",
       "│ lname       │ VARCHAR     │ YES     │ NULL    │ NULL                   │ NULL    │\n",
       "│ username    │ VARCHAR     │ YES     │ NULL    │ NULL                   │ NULL    │\n",
       "└─────────────┴─────────────┴─────────┴─────────┴────────────────────────┴─────────┘"
      ]
     },
     "execution_count": 39,
     "metadata": {},
     "output_type": "execute_result"
    }
   ],
   "source": [
    "# Describe the users table\n",
    "con.sql('DESCRIBE users')"
   ]
  },
  {
   "cell_type": "code",
   "execution_count": 40,
   "metadata": {},
   "outputs": [
    {
     "data": {
      "text/plain": [
       "┌─────────────┬─────────────┬─────────┬─────────┬────────────────────────┬─────────┐\n",
       "│ column_name │ column_type │  null   │   key   │        default         │  extra  │\n",
       "│   varchar   │   varchar   │ varchar │ varchar │        varchar         │ varchar │\n",
       "├─────────────┼─────────────┼─────────┼─────────┼────────────────────────┼─────────┤\n",
       "│ id          │ INTEGER     │ NO      │ PRI     │ nextval('id_sequence') │ NULL    │\n",
       "│ username    │ VARCHAR     │ YES     │ NULL    │ NULL                   │ NULL    │\n",
       "│ blog_url    │ VARCHAR     │ YES     │ NULL    │ NULL                   │ NULL    │\n",
       "│ user_id     │ INTEGER     │ YES     │ NULL    │ NULL                   │ NULL    │\n",
       "└─────────────┴─────────────┴─────────┴─────────┴────────────────────────┴─────────┘"
      ]
     },
     "execution_count": 40,
     "metadata": {},
     "output_type": "execute_result"
    }
   ],
   "source": [
    "# Describe the bloggers table\n",
    "con.sql('DESCRIBE bloggers')"
   ]
  },
  {
   "cell_type": "code",
   "execution_count": 41,
   "metadata": {},
   "outputs": [
    {
     "data": {
      "text/plain": [
       "┌───────────────┬─────────────┬─────────┬─────────┬─────────┬─────────┐\n",
       "│  column_name  │ column_type │  null   │   key   │ default │  extra  │\n",
       "│    varchar    │   varchar   │ varchar │ varchar │ varchar │ varchar │\n",
       "├───────────────┼─────────────┼─────────┼─────────┼─────────┼─────────┤\n",
       "│ ts            │ DOUBLE      │ YES     │ NULL    │ NULL    │ NULL    │\n",
       "│ uid           │ VARCHAR     │ YES     │ NULL    │ NULL    │ NULL    │\n",
       "│ id.orig_h     │ VARCHAR     │ YES     │ NULL    │ NULL    │ NULL    │\n",
       "│ id.orig_p     │ BIGINT      │ YES     │ NULL    │ NULL    │ NULL    │\n",
       "│ id.resp_h     │ VARCHAR     │ YES     │ NULL    │ NULL    │ NULL    │\n",
       "│ id.resp_p     │ BIGINT      │ YES     │ NULL    │ NULL    │ NULL    │\n",
       "│ proto         │ VARCHAR     │ YES     │ NULL    │ NULL    │ NULL    │\n",
       "│ conn_state    │ VARCHAR     │ YES     │ NULL    │ NULL    │ NULL    │\n",
       "│ local_orig    │ BOOLEAN     │ YES     │ NULL    │ NULL    │ NULL    │\n",
       "│ local_resp    │ BOOLEAN     │ YES     │ NULL    │ NULL    │ NULL    │\n",
       "│ missed_bytes  │ BIGINT      │ YES     │ NULL    │ NULL    │ NULL    │\n",
       "│ history       │ VARCHAR     │ YES     │ NULL    │ NULL    │ NULL    │\n",
       "│ orig_pkts     │ BIGINT      │ YES     │ NULL    │ NULL    │ NULL    │\n",
       "│ orig_ip_bytes │ BIGINT      │ YES     │ NULL    │ NULL    │ NULL    │\n",
       "│ resp_pkts     │ BIGINT      │ YES     │ NULL    │ NULL    │ NULL    │\n",
       "│ resp_ip_bytes │ BIGINT      │ YES     │ NULL    │ NULL    │ NULL    │\n",
       "│ duration      │ DOUBLE      │ YES     │ NULL    │ NULL    │ NULL    │\n",
       "│ orig_bytes    │ BIGINT      │ YES     │ NULL    │ NULL    │ NULL    │\n",
       "│ resp_bytes    │ BIGINT      │ YES     │ NULL    │ NULL    │ NULL    │\n",
       "│ service       │ VARCHAR     │ YES     │ NULL    │ NULL    │ NULL    │\n",
       "├───────────────┴─────────────┴─────────┴─────────┴─────────┴─────────┤\n",
       "│ 20 rows                                                   6 columns │\n",
       "└─────────────────────────────────────────────────────────────────────┘"
      ]
     },
     "execution_count": 41,
     "metadata": {},
     "output_type": "execute_result"
    }
   ],
   "source": [
    "# Describe the conn table\n",
    "con.sql('DESCRIBE conn_log')"
   ]
  },
  {
   "cell_type": "code",
   "execution_count": 42,
   "metadata": {},
   "outputs": [
    {
     "data": {
      "text/plain": [
       "┌───────┬───────────────┬─────────┬─────────┬────────────┬─────────┐\n",
       "│  cid  │     name      │  type   │ notnull │ dflt_value │   pk    │\n",
       "│ int32 │    varchar    │ varchar │ boolean │  varchar   │ boolean │\n",
       "├───────┼───────────────┼─────────┼─────────┼────────────┼─────────┤\n",
       "│     0 │ ts            │ DOUBLE  │ false   │ NULL       │ false   │\n",
       "│     1 │ uid           │ VARCHAR │ false   │ NULL       │ false   │\n",
       "│     2 │ id.orig_h     │ VARCHAR │ false   │ NULL       │ false   │\n",
       "│     3 │ id.orig_p     │ BIGINT  │ false   │ NULL       │ false   │\n",
       "│     4 │ id.resp_h     │ VARCHAR │ false   │ NULL       │ false   │\n",
       "│     5 │ id.resp_p     │ BIGINT  │ false   │ NULL       │ false   │\n",
       "│     6 │ proto         │ VARCHAR │ false   │ NULL       │ false   │\n",
       "│     7 │ conn_state    │ VARCHAR │ false   │ NULL       │ false   │\n",
       "│     8 │ local_orig    │ BOOLEAN │ false   │ NULL       │ false   │\n",
       "│     9 │ local_resp    │ BOOLEAN │ false   │ NULL       │ false   │\n",
       "│    10 │ missed_bytes  │ BIGINT  │ false   │ NULL       │ false   │\n",
       "│    11 │ history       │ VARCHAR │ false   │ NULL       │ false   │\n",
       "│    12 │ orig_pkts     │ BIGINT  │ false   │ NULL       │ false   │\n",
       "│    13 │ orig_ip_bytes │ BIGINT  │ false   │ NULL       │ false   │\n",
       "│    14 │ resp_pkts     │ BIGINT  │ false   │ NULL       │ false   │\n",
       "│    15 │ resp_ip_bytes │ BIGINT  │ false   │ NULL       │ false   │\n",
       "│    16 │ duration      │ DOUBLE  │ false   │ NULL       │ false   │\n",
       "│    17 │ orig_bytes    │ BIGINT  │ false   │ NULL       │ false   │\n",
       "│    18 │ resp_bytes    │ BIGINT  │ false   │ NULL       │ false   │\n",
       "│    19 │ service       │ VARCHAR │ false   │ NULL       │ false   │\n",
       "├───────┴───────────────┴─────────┴─────────┴────────────┴─────────┤\n",
       "│ 20 rows                                                6 columns │\n",
       "└──────────────────────────────────────────────────────────────────┘"
      ]
     },
     "execution_count": 42,
     "metadata": {},
     "output_type": "execute_result"
    }
   ],
   "source": [
    "# Get information on the table from a different perspective\n",
    "con.sql('PRAGMA table_info(conn_log)')"
   ]
  },
  {
   "cell_type": "code",
   "execution_count": 43,
   "metadata": {},
   "outputs": [
    {
     "data": {
      "text/plain": [
       "┌──────────────┬─────────────┬───────────┬─────────────┬────────────┬──────────────┬───────┬───────┬──────────────┬───────────────────────────────────────────────────────────────────────────────────────────────────────────────┬─────────────┬────────────┬──────────┬──────────────┬──────────────┬──────────────────────┐\n",
       "│ row_group_id │ column_name │ column_id │ column_path │ segment_id │ segment_type │ start │ count │ compression  │                                                     stats                                                     │ has_updates │ persistent │ block_id │ block_offset │ segment_info │ additional_block_ids │\n",
       "│    int64     │   varchar   │   int64   │   varchar   │   int64    │   varchar    │ int64 │ int64 │   varchar    │                                                    varchar                                                    │   boolean   │  boolean   │  int64   │    int64     │   varchar    │       int64[]        │\n",
       "├──────────────┼─────────────┼───────────┼─────────────┼────────────┼──────────────┼───────┼───────┼──────────────┼───────────────────────────────────────────────────────────────────────────────────────────────────────────────┼─────────────┼────────────┼──────────┼──────────────┼──────────────┼──────────────────────┤\n",
       "│            0 │ ts          │         0 │ [0]         │          0 │ DOUBLE       │     0 │  2048 │ Uncompressed │ [Min: 1695988071.878734, Max: 1696017841.374835][Has Null: false, Has No Null: true]                          │ false       │ false      │     NULL │         NULL │              │ NULL                 │\n",
       "│            0 │ ts          │         0 │ [0]         │          1 │ DOUBLE       │  2048 │ 22000 │ Uncompressed │ [Min: 1695902349.570724, Max: 1696021196.891631][Has Null: false, Has No Null: true]                          │ false       │ false      │     NULL │         NULL │              │ NULL                 │\n",
       "│            0 │ ts          │         0 │ [0, 0]      │          0 │ VALIDITY     │     0 │ 16384 │ Uncompressed │ [Has Null: false, Has No Null: true]                                                                          │ false       │ false      │     NULL │         NULL │              │ NULL                 │\n",
       "│            0 │ ts          │         0 │ [0, 0]      │          1 │ VALIDITY     │ 16384 │  7664 │ Uncompressed │ [Has Null: false, Has No Null: true]                                                                          │ false       │ false      │     NULL │         NULL │              │ NULL                 │\n",
       "│            0 │ uid         │         1 │ [1]         │          0 │ VARCHAR      │     0 │  1507 │ Uncompressed │ [Min: C02hF41c, Max: CzyGgP2N, Has Unicode: false, Max String Length: 18][Has Null: false, Has No Null: true] │ false       │ false      │     NULL │         NULL │              │ NULL                 │\n",
       "│            0 │ uid         │         1 │ [1]         │          1 │ VARCHAR      │  1507 │ 12062 │ Uncompressed │ [Min: C00gvb5r, Max: Czzwaz1N, Has Unicode: false, Max String Length: 18][Has Null: false, Has No Null: true] │ false       │ false      │     NULL │         NULL │              │ NULL                 │\n",
       "│            0 │ uid         │         1 │ [1]         │          2 │ VARCHAR      │ 13569 │ 10479 │ Uncompressed │ [Min: C00QBOAf, Max: Czzwwao7, Has Unicode: false, Max String Length: 18][Has Null: false, Has No Null: true] │ false       │ false      │     NULL │         NULL │              │ NULL                 │\n",
       "│            0 │ uid         │         1 │ [1, 0]      │          0 │ VALIDITY     │     0 │ 16384 │ Uncompressed │ [Has Null: false, Has No Null: true]                                                                          │ false       │ false      │     NULL │         NULL │              │ NULL                 │\n",
       "│            0 │ uid         │         1 │ [1, 0]      │          1 │ VALIDITY     │ 16384 │  7664 │ Uncompressed │ [Has Null: false, Has No Null: true]                                                                          │ false       │ false      │     NULL │         NULL │              │ NULL                 │\n",
       "│            0 │ id.orig_h   │         2 │ [2]         │          0 │ VARCHAR      │     0 │  2232 │ Uncompressed │ [Min: 127.0.0., Max: fe80::eb, Has Unicode: false, Max String Length: 25][Has Null: false, Has No Null: true] │ false       │ false      │     NULL │         NULL │              │ NULL                 │\n",
       "│            · │     ·       │         · │  ·          │          · │    ·         │     · │    ·  │      ·       │                  ·                                                                                            │   ·         │   ·        │       ·  │           ·  │      ·       │  ·                   │\n",
       "│            · │     ·       │         · │  ·          │          · │    ·         │     · │    ·  │      ·       │                  ·                                                                                            │   ·         │   ·        │       ·  │           ·  │      ·       │  ·                   │\n",
       "│            · │     ·       │         · │  ·          │          · │    ·         │     · │    ·  │      ·       │                  ·                                                                                            │   ·         │   ·        │       ·  │           ·  │      ·       │  ·                   │\n",
       "│            0 │ orig_bytes  │        17 │ [17, 0]     │          0 │ VALIDITY     │     0 │ 16384 │ Uncompressed │ [Has Null: true, Has No Null: true]                                                                           │ false       │ false      │     NULL │         NULL │              │ NULL                 │\n",
       "│            0 │ orig_bytes  │        17 │ [17, 0]     │          1 │ VALIDITY     │ 16384 │  7664 │ Uncompressed │ [Has Null: true, Has No Null: true]                                                                           │ false       │ false      │     NULL │         NULL │              │ NULL                 │\n",
       "│            0 │ resp_bytes  │        18 │ [18]        │          0 │ BIGINT       │     0 │  2048 │ Uncompressed │ [Min: 0, Max: 5003779][Has Null: false, Has No Null: true]                                                    │ false       │ false      │     NULL │         NULL │              │ NULL                 │\n",
       "│            0 │ resp_bytes  │        18 │ [18]        │          1 │ BIGINT       │  2048 │ 22000 │ Uncompressed │ [Min: 0, Max: 1207605466][Has Null: false, Has No Null: true]                                                 │ false       │ false      │     NULL │         NULL │              │ NULL                 │\n",
       "│            0 │ resp_bytes  │        18 │ [18, 0]     │          0 │ VALIDITY     │     0 │ 16384 │ Uncompressed │ [Has Null: true, Has No Null: true]                                                                           │ false       │ false      │     NULL │         NULL │              │ NULL                 │\n",
       "│            0 │ resp_bytes  │        18 │ [18, 0]     │          1 │ VALIDITY     │ 16384 │  7664 │ Uncompressed │ [Has Null: true, Has No Null: true]                                                                           │ false       │ false      │     NULL │         NULL │              │ NULL                 │\n",
       "│            0 │ service     │        19 │ [19]        │          0 │ VARCHAR      │     0 │  6707 │ Uncompressed │ [Min: dhcp, Max: syslog, Has Unicode: false, Max String Length: 8][Has Null: false, Has No Null: true]        │ false       │ false      │     NULL │         NULL │              │ NULL                 │\n",
       "│            0 │ service     │        19 │ [19]        │          1 │ VARCHAR      │  6707 │ 17341 │ Uncompressed │ [Min: dhcp, Max: syslog, Has Unicode: false, Max String Length: 8][Has Null: false, Has No Null: true]        │ false       │ false      │     NULL │         NULL │              │ NULL                 │\n",
       "│            0 │ service     │        19 │ [19, 0]     │          0 │ VALIDITY     │     0 │ 16384 │ Uncompressed │ [Has Null: true, Has No Null: true]                                                                           │ false       │ false      │     NULL │         NULL │              │ NULL                 │\n",
       "│            0 │ service     │        19 │ [19, 0]     │          1 │ VALIDITY     │ 16384 │  7664 │ Uncompressed │ [Has Null: true, Has No Null: true]                                                                           │ false       │ false      │     NULL │         NULL │              │ NULL                 │\n",
       "├──────────────┴─────────────┴───────────┴─────────────┴────────────┴──────────────┴───────┴───────┴──────────────┴───────────────────────────────────────────────────────────────────────────────────────────────────────────────┴─────────────┴────────────┴──────────┴──────────────┴──────────────┴──────────────────────┤\n",
       "│ 83 rows (20 shown)                                                                                                                                                                                                                                                                                              16 columns │\n",
       "└────────────────────────────────────────────────────────────────────────────────────────────────────────────────────────────────────────────────────────────────────────────────────────────────────────────────────────────────────────────────────────────────────────────────────────────────────────────────────────────┘"
      ]
     },
     "execution_count": 43,
     "metadata": {},
     "output_type": "execute_result"
    }
   ],
   "source": [
    "# Get the storage info for the conn table\n",
    "# Could do the same for the others\n",
    "con.sql(query='CALL pragma_storage_info(conn_log)')"
   ]
  },
  {
   "cell_type": "code",
   "execution_count": 44,
   "metadata": {},
   "outputs": [
    {
     "data": {
      "text/plain": [
       "┌───────────────────┬────────────────────┬──────────────┬───────────┬────────────────┬───────────┬─────────┬────────────┬────────────┬────────────┬──────────────┬──────────┬───────────┬───────────────┬───────────┬───────────────┬────────────────────────┬────────────┬────────────┬─────────┐\n",
       "│        ts         │        uid         │  id.orig_h   │ id.orig_p │   id.resp_h    │ id.resp_p │  proto  │ conn_state │ local_orig │ local_resp │ missed_bytes │ history  │ orig_pkts │ orig_ip_bytes │ resp_pkts │ resp_ip_bytes │        duration        │ orig_bytes │ resp_bytes │ service │\n",
       "│      double       │      varchar       │   varchar    │   int64   │    varchar     │   int64   │ varchar │  varchar   │  boolean   │  boolean   │    int64     │ varchar  │   int64   │     int64     │   int64   │     int64     │         double         │   int64    │   int64    │ varchar │\n",
       "├───────────────────┼────────────────────┼──────────────┼───────────┼────────────────┼───────────┼─────────┼────────────┼────────────┼────────────┼──────────────┼──────────┼───────────┼───────────────┼───────────┼───────────────┼────────────────────────┼────────────┼────────────┼─────────┤\n",
       "│  1696017594.59247 │ ChefyE3DEW1aClvrpg │ 127.0.0.1    │      6789 │ 127.0.0.1      │     59106 │ tcp     │ OTH        │ true       │ true       │            0 │ Ccc      │         0 │             0 │         0 │             0 │                   NULL │       NULL │       NULL │ NULL    │\n",
       "│ 1696017594.796073 │ CNVult2fJM0kSCwz44 │ 192.168.0.4  │      9200 │ 192.168.0.4    │     59876 │ tcp     │ OTH        │ true       │ true       │            0 │ CccC     │         0 │             0 │         0 │             0 │                   NULL │       NULL │       NULL │ NULL    │\n",
       "│ 1696017594.806907 │ CyrAyq3MxIBtwI3l14 │ 192.168.0.4  │      9200 │ 192.168.0.4    │     59896 │ tcp     │ OTH        │ true       │ true       │            0 │ CccC     │         0 │             0 │         0 │             0 │                   NULL │       NULL │       NULL │ NULL    │\n",
       "│ 1696017599.419025 │ CTFYJf1YlOlgiuIRq3 │ 192.168.0.29 │     54167 │ 192.168.0.4    │        80 │ tcp     │ REJ        │ true       │ true       │            0 │ Sr       │         1 │            52 │         1 │            40 │ 1.4066696166992188e-05 │          0 │          0 │ NULL    │\n",
       "│ 1696017599.419293 │ CFvCzJ3IqyN9ZPo6Yf │ 192.168.0.29 │     54169 │ 192.168.0.4    │        80 │ tcp     │ REJ        │ true       │ true       │            0 │ Sr       │         1 │            52 │         1 │            40 │  8.106231689453125e-06 │          0 │          0 │ NULL    │\n",
       "│ 1696017599.424701 │ C3DwpC23QXuD21IrTd │ 192.168.0.29 │     54170 │ 192.168.0.4    │        80 │ tcp     │ REJ        │ true       │ true       │            0 │ Sr       │         1 │            52 │         1 │            40 │  8.106231689453125e-06 │          0 │          0 │ NULL    │\n",
       "│ 1696017599.419025 │ CJZTFA4weMt0rOi6n8 │ 192.168.0.29 │     54168 │ 192.168.0.4    │        80 │ tcp     │ REJ        │ true       │ true       │            0 │ Sr       │         1 │            52 │         1 │            40 │ 1.0013580322265625e-05 │          0 │          0 │ NULL    │\n",
       "│ 1696017599.667551 │ CJ7CB33OMrEJAVp2Ok │ 192.168.0.29 │     54173 │ 192.168.0.4    │        80 │ tcp     │ REJ        │ true       │ true       │            0 │ Sr       │         1 │            52 │         1 │            40 │ 5.0067901611328125e-05 │          0 │          0 │ NULL    │\n",
       "│ 1696017599.667551 │ CD6nHS2nP0XlCzVCMl │ 192.168.0.29 │     54171 │ 192.168.0.4    │        80 │ tcp     │ REJ        │ true       │ true       │            0 │ Sr       │         1 │            52 │         1 │            40 │  2.002716064453125e-05 │          0 │          0 │ NULL    │\n",
       "│ 1696017599.667551 │ CDFYX72za0XMGX6uC6 │ 192.168.0.29 │     54172 │ 192.168.0.4    │        80 │ tcp     │ REJ        │ true       │ true       │            0 │ Sr       │         1 │            52 │         1 │            40 │  4.506111145019531e-05 │          0 │          0 │ NULL    │\n",
       "│         ·         │         ·          │     ·        │       ·   │     ·          │         · │  ·      │  ·         │  ·         │  ·         │            · │ ·        │         · │             · │         · │             · │                     ·  │          · │          · │  ·      │\n",
       "│         ·         │         ·          │     ·        │       ·   │     ·          │         · │  ·      │  ·         │  ·         │  ·         │            · │ ·        │         · │             · │         · │             · │                     ·  │          · │          · │  ·      │\n",
       "│         ·         │         ·          │     ·        │       ·   │     ·          │         · │  ·      │  ·         │  ·         │  ·         │            · │ ·        │         · │             · │         · │             · │                     ·  │          · │          · │  ·      │\n",
       "│ 1696018905.723928 │ CObyDx4iNx4KDJMGTe │ 127.0.0.1    │     34198 │ 127.0.0.1      │      6379 │ tcp     │ OTH        │ true       │ true       │            0 │ CcCc     │         0 │             0 │         0 │             0 │                   NULL │       NULL │       NULL │ NULL    │\n",
       "│ 1696018906.888415 │ CcSkFO3MAhD86Rfr44 │ 127.0.0.1    │     34176 │ 127.0.0.1      │      5601 │ tcp     │ RSTRH      │ true       │ true       │            0 │ Cr       │         0 │             0 │         2 │            80 │ 1.0967254638671875e-05 │          0 │          0 │ NULL    │\n",
       "│  1696018906.88883 │ Cd4NiO29fKOmJK6NF3 │ 127.0.0.1    │     34188 │ 127.0.0.1      │      5601 │ tcp     │ RSTRH      │ true       │ true       │            0 │ Cr       │         0 │             0 │         2 │            80 │ 1.4066696166992188e-05 │          0 │          0 │ NULL    │\n",
       "│ 1696018906.889349 │ CIaFAomZxIeEmOAp7  │ 127.0.0.1    │     34196 │ 127.0.0.1      │      5601 │ tcp     │ RSTRH      │ true       │ true       │            0 │ Cr       │         0 │             0 │         2 │            80 │ 1.1920928955078125e-05 │          0 │          0 │ NULL    │\n",
       "│ 1696018906.890834 │ CKW6LxjJG23rxjX9j  │ 127.0.0.1    │     34206 │ 127.0.0.1      │      5601 │ tcp     │ RSTRH      │ true       │ true       │            0 │ Cr       │         0 │             0 │         2 │            80 │  7.867813110351562e-06 │          0 │          0 │ NULL    │\n",
       "│ 1696018906.890836 │ CRJjSs2QUPE8pBJeQd │ 127.0.0.1    │     34210 │ 127.0.0.1      │      5601 │ tcp     │ RSTRH      │ true       │ true       │            0 │ Cr       │         0 │             0 │         2 │            80 │ 1.0967254638671875e-05 │          0 │          0 │ NULL    │\n",
       "│ 1696018906.890931 │ Cg6CSz2rQquEFxSoRk │ 127.0.0.1    │     34212 │ 127.0.0.1      │      5601 │ tcp     │ RSTRH      │ true       │ true       │            0 │ Cr       │         0 │             0 │         2 │            80 │ 1.2159347534179688e-05 │          0 │          0 │ NULL    │\n",
       "│ 1696018901.921446 │ CKUMT1QRYJny6TXi8  │ 192.168.0.10 │      5353 │ 224.0.0.251    │      5353 │ udp     │ S0         │ true       │ false      │            0 │ D        │         1 │            89 │         0 │             0 │                   NULL │       NULL │       NULL │ dns     │\n",
       "│ 1696018820.554161 │ C7MNhp4uTA6gWgypJd │ 192.168.0.95 │     56548 │ 142.251.33.170 │       443 │ tcp     │ SF         │ true       │ false      │            0 │ ShADadFf │        20 │          5747 │        19 │          6445 │      86.39099097251892 │       4699 │       5449 │ ssl     │\n",
       "│ 1696018902.235111 │ CHf8ci4iuePhEOFaDh │ 192.168.0.9  │     34313 │ 192.168.0.2    │        53 │ udp     │ SF         │ true       │ true       │            0 │ Dd       │         1 │            72 │         1 │           231 │  0.0002789497375488281 │         44 │        203 │ dns     │\n",
       "├───────────────────┴────────────────────┴──────────────┴───────────┴────────────────┴───────────┴─────────┴────────────┴────────────┴────────────┴──────────────┴──────────┴───────────┴───────────────┴───────────┴───────────────┴────────────────────────┴────────────┴────────────┴─────────┤\n",
       "│ ? rows (>9999 rows, 20 shown)                                                                                                                                                                                                                                                       20 columns │\n",
       "└────────────────────────────────────────────────────────────────────────────────────────────────────────────────────────────────────────────────────────────────────────────────────────────────────────────────────────────────────────────────────────────────────────────────────────────────┘"
      ]
     },
     "execution_count": 44,
     "metadata": {},
     "output_type": "execute_result"
    }
   ],
   "source": [
    "# Let's now confirm the data can be accessed from the conn_log table\n",
    "con.sql('SELECT * FROM conn_log')"
   ]
  },
  {
   "cell_type": "code",
   "execution_count": 45,
   "metadata": {},
   "outputs": [
    {
     "data": {
      "text/plain": [
       "┌──────────────┐\n",
       "│ count_star() │\n",
       "│    int64     │\n",
       "├──────────────┤\n",
       "│        24048 │\n",
       "└──────────────┘"
      ]
     },
     "execution_count": 45,
     "metadata": {},
     "output_type": "execute_result"
    }
   ],
   "source": [
    "# Try a different command\n",
    "# Count the number fo records\n",
    "con.sql('SELECT COUNT(*) FROM conn_log')"
   ]
  },
  {
   "cell_type": "code",
   "execution_count": 46,
   "metadata": {},
   "outputs": [
    {
     "name": "stdout",
     "output_type": "stream",
     "text": [
      "(1696017594.59247, 'ChefyE3DEW1aClvrpg', '127.0.0.1', 6789, '127.0.0.1', 59106, 'tcp', 'OTH', True, True, 0, 'Ccc', 0, 0, 0, 0, None, None, None, None)\n"
     ]
    }
   ],
   "source": [
    "# try the execute command to grab one record\n",
    "con.execute('SELECT * FROM conn_log')\n",
    "print(con.fetchone())"
   ]
  },
  {
   "cell_type": "markdown",
   "metadata": {},
   "source": [
    "**Getting our SQL Kung-fu on**"
   ]
  },
  {
   "cell_type": "code",
   "execution_count": 47,
   "metadata": {},
   "outputs": [
    {
     "data": {
      "text/plain": [
       "┌───────────────────┬────────────────────┬──────────────┬───────────┬────────────────┬───────────┬─────────┬────────────┬────────────┬────────────┬──────────────┬─────────────┬───────────┬───────────────┬───────────┬───────────────┬────────────────────┬────────────┬────────────┬─────────┐\n",
       "│        ts         │        uid         │  id.orig_h   │ id.orig_p │   id.resp_h    │ id.resp_p │  proto  │ conn_state │ local_orig │ local_resp │ missed_bytes │   history   │ orig_pkts │ orig_ip_bytes │ resp_pkts │ resp_ip_bytes │      duration      │ orig_bytes │ resp_bytes │ service │\n",
       "│      double       │      varchar       │   varchar    │   int64   │    varchar     │   int64   │ varchar │  varchar   │  boolean   │  boolean   │    int64     │   varchar   │   int64   │     int64     │   int64   │     int64     │       double       │   int64    │   int64    │ varchar │\n",
       "├───────────────────┼────────────────────┼──────────────┼───────────┼────────────────┼───────────┼─────────┼────────────┼────────────┼────────────┼──────────────┼─────────────┼───────────┼───────────────┼───────────┼───────────────┼────────────────────┼────────────┼────────────┼─────────┤\n",
       "│ 1695902349.570724 │ CtdFrS2ZW2F9TjtAV3 │ 192.168.0.31 │     49545 │ 52.226.139.180 │       443 │ tcp     │ RSTR       │ true       │ false      │            0 │ ShADdatr    │      1940 │        179947 │       993 │        214632 │ 115607.98462510109 │     102335 │     173088 │ ssl     │\n",
       "│ 1695985777.608423 │ CncOml3BdQQHaibTti │ 192.168.0.31 │     61204 │ 192.168.0.4    │        22 │ tcp     │ OTH        │ true       │ true       │            0 │ DacAc       │        45 │         26136 │        18 │           720 │ 28853.100048065186 │      24336 │      21888 │ NULL    │\n",
       "│ 1695986467.290568 │ CDlk8k1WOPCBftYas  │ 192.168.0.28 │     50051 │ 194.24.0.155   │       443 │ tcp     │ SF         │ true       │ false      │            0 │ ShADadTTfFr │     34178 │       9027403 │     46280 │      15126779 │ 28258.325418949127 │    7659535 │   13275555 │ ssl     │\n",
       "│ 1695987812.836527 │ C5joBY3pbKN8YCOuxd │ 192.168.0.4  │      9200 │ 192.168.0.31   │     55874 │ tcp     │ OTH        │ true       │ true       │            0 │ CdAaCtCttCD │      7228 │        289124 │     26008 │      28472103 │  29665.03855085373 │    3773030 │   27431294 │ NULL    │\n",
       "│ 1695987822.035829 │ CsqLYG90S5u8wUGji  │ 192.168.0.31 │     55906 │ 192.168.0.4    │      9200 │ tcp     │ OTH        │ true       │ true       │            0 │ DacAcTcTcT  │     37698 │      42754618 │      9589 │        383560 │ 29664.822754859924 │   41183458 │    3923632 │ NULL    │\n",
       "│ 1695987837.823028 │ C3uhyF2oaouFzSjN97 │ 192.168.0.31 │     56024 │ 192.168.0.4    │      9200 │ tcp     │ OTH        │ true       │ true       │            0 │ DacAccc     │     32628 │      40508275 │      5091 │        203640 │ 29650.207310914993 │   39203107 │    4989212 │ NULL    │\n",
       "│  1695987841.26211 │ Crk9iC31gRok9a9xbe │ 192.168.0.31 │     64293 │ 192.168.0.4    │      9200 │ tcp     │ OTH        │ true       │ true       │            0 │ DacAcccc    │    134993 │     179434842 │     14664 │        586560 │ 29641.363101005554 │  174035086 │   20021013 │ NULL    │\n",
       "│ 1695987841.467097 │ CHI4O441XT8p4KCel7 │ 192.168.0.31 │     64292 │ 192.168.0.4    │      9200 │ tcp     │ OTH        │ true       │ true       │            0 │ DacAccc     │     26687 │      31708936 │      4444 │        177760 │  29640.22217488289 │   30641456 │    3466091 │ NULL    │\n",
       "│ 1695987861.700626 │ CaXyts2pErtFF9wXa  │ 192.168.0.31 │     64349 │ 192.168.0.4    │      8220 │ tcp     │ OTH        │ true       │ true       │            0 │ DcTcTAacTcT │      2372 │        503027 │       362 │         14480 │ 29651.999841213226 │     406240 │      25806 │ NULL    │\n",
       "│ 1695987879.732932 │ Ckq79n3YM1DYlGztQj │ 192.168.0.31 │     64402 │ 20.7.2.167     │       443 │ tcp     │ S1         │ true       │ false      │            0 │ ShADdatT    │      1322 │         86325 │       723 │        161477 │ 29591.701333999634 │      33377 │     132533 │ ssl     │\n",
       "├───────────────────┴────────────────────┴──────────────┴───────────┴────────────────┴───────────┴─────────┴────────────┴────────────┴────────────┴──────────────┴─────────────┴───────────┴───────────────┴───────────┴───────────────┴────────────────────┴────────────┴────────────┴─────────┤\n",
       "│ 10 rows                                                                                                                                                                                                                                                                            20 columns │\n",
       "└───────────────────────────────────────────────────────────────────────────────────────────────────────────────────────────────────────────────────────────────────────────────────────────────────────────────────────────────────────────────────────────────────────────────────────────────┘"
      ]
     },
     "execution_count": 47,
     "metadata": {},
     "output_type": "execute_result"
    }
   ],
   "source": [
    "# Let's select the first 10 records and order them by the timestamp (ts) column\n",
    "con.sql('SELECT * FROM conn_log ORDER BY ts LIMIT 10')"
   ]
  },
  {
   "cell_type": "code",
   "execution_count": 48,
   "metadata": {},
   "outputs": [
    {
     "data": {
      "text/plain": [
       "┌────────────────────┐\n",
       "│ count(\"id.orig_h\") │\n",
       "│       int64        │\n",
       "├────────────────────┤\n",
       "│              24048 │\n",
       "└────────────────────┘"
      ]
     },
     "execution_count": 48,
     "metadata": {},
     "output_type": "execute_result"
    }
   ],
   "source": [
    "# How many unique source IPs. are there\n",
    "con.sql('SELECT DISTINCT COUNT(\"id.orig_h\") FROM conn_log')"
   ]
  },
  {
   "cell_type": "code",
   "execution_count": 49,
   "metadata": {},
   "outputs": [
    {
     "data": {
      "text/plain": [
       "┌───────────────────────────┐\n",
       "│         id.orig_h         │\n",
       "│          varchar          │\n",
       "├───────────────────────────┤\n",
       "│ 192.168.0.62              │\n",
       "│ 192.168.0.75              │\n",
       "│ 192.168.0.24              │\n",
       "│ 192.168.0.31              │\n",
       "│ fe80::eb3f:74b2:4679:6bae │\n",
       "│ fe80::8450:9cff:fe16:ef95 │\n",
       "│ 192.168.0.2               │\n",
       "│ 192.168.0.78              │\n",
       "│ 192.168.0.8               │\n",
       "│ 144.195.33.213            │\n",
       "├───────────────────────────┤\n",
       "│          10 rows          │\n",
       "└───────────────────────────┘"
      ]
     },
     "execution_count": 49,
     "metadata": {},
     "output_type": "execute_result"
    }
   ],
   "source": [
    "# Get 10 unique source IP addresses\n",
    "con.sql('SELECT DISTINCT \"id.orig_h\" FROM conn_log ORDER BY ts LIMIT 10')"
   ]
  },
  {
   "cell_type": "code",
   "execution_count": 50,
   "metadata": {},
   "outputs": [
    {
     "data": {
      "text/plain": [
       "┌────────────────────┐\n",
       "│   max(duration)    │\n",
       "│       double       │\n",
       "├────────────────────┤\n",
       "│ 115607.98462510109 │\n",
       "└────────────────────┘"
      ]
     },
     "execution_count": 50,
     "metadata": {},
     "output_type": "execute_result"
    }
   ],
   "source": [
    "# Get the largest duration value from the conn_log table\n",
    "con.sql('SELECT MAX(duration) FROM conn_log')"
   ]
  },
  {
   "cell_type": "code",
   "execution_count": 51,
   "metadata": {},
   "outputs": [
    {
     "data": {
      "text/plain": [
       "┌───────────────────┐\n",
       "│   sum(duration)   │\n",
       "│      double       │\n",
       "├───────────────────┤\n",
       "│ 825393.7917554379 │\n",
       "└───────────────────┘"
      ]
     },
     "execution_count": 51,
     "metadata": {},
     "output_type": "execute_result"
    }
   ],
   "source": [
    "# Get a sum of the duration\n",
    "# Get the largest duration\n",
    "con.sql('SELECT SUM(duration) FROM conn_log')"
   ]
  },
  {
   "cell_type": "code",
   "execution_count": 52,
   "metadata": {},
   "outputs": [
    {
     "data": {
      "text/plain": [
       "┌───────────────────┬────────────────────┬──────────────┬───────────┬────────────────┬───────────┬─────────┬────────────┬────────────┬────────────┬──────────────┬──────────────────┬───────────┬───────────────┬───────────┬───────────────┬────────────────────┬────────────┬────────────┬──────────┐\n",
       "│        ts         │        uid         │  id.orig_h   │ id.orig_p │   id.resp_h    │ id.resp_p │  proto  │ conn_state │ local_orig │ local_resp │ missed_bytes │     history      │ orig_pkts │ orig_ip_bytes │ resp_pkts │ resp_ip_bytes │      duration      │ orig_bytes │ resp_bytes │ service  │\n",
       "│      double       │      varchar       │   varchar    │   int64   │    varchar     │   int64   │ varchar │  varchar   │  boolean   │  boolean   │    int64     │     varchar      │   int64   │     int64     │   int64   │     int64     │       double       │   int64    │   int64    │ varchar  │\n",
       "├───────────────────┼────────────────────┼──────────────┼───────────┼────────────────┼───────────┼─────────┼────────────┼────────────┼────────────┼──────────────┼──────────────────┼───────────┼───────────────┼───────────┼───────────────┼────────────────────┼────────────┼────────────┼──────────┤\n",
       "│ 1696001198.477327 │ CthQmt3D5lmDwrRxUl │ 192.168.0.31 │     64113 │ 165.225.208.44 │       443 │ tcp     │ RSTR       │ true       │ false      │            0 │ ShADadttfr       │       821 │         57635 │      1113 │         77717 │ 16416.052615880966 │      24783 │      32633 │ http,ssl │\n",
       "│ 1695988071.878734 │ CYUQe22Chebdk2ue1e │ 192.168.0.31 │     51760 │ 165.225.208.44 │       443 │ tcp     │ RSTR       │ true       │ false      │            0 │ ShADdaTtr        │     17442 │       8006593 │     15058 │       1295176 │  29656.26557993889 │    7308515 │     692511 │ http,ssl │\n",
       "│ 1695993805.606007 │ CRqfCIG05qUCcFcF   │ 192.168.0.31 │     55543 │ 165.225.208.44 │       443 │ tcp     │ RSTR       │ true       │ false      │            0 │ ShADdafr         │      3150 │        757605 │      1603 │        212389 │ 23924.337345838547 │     631593 │     148257 │ http,ssl │\n",
       "│ 1696017154.127833 │ CfLKAp3pg8ZlCxVyk  │ 192.168.0.95 │     35630 │ 34.98.105.85   │       443 │ tcp     │ SF         │ true       │ false      │            0 │ ShADadtFf        │        20 │          2284 │        22 │          3070 │  618.8180551528931 │       1212 │       1772 │ ssl      │\n",
       "│ 1696017188.275085 │ CSRhux2BwyF9SSzjDf │ 192.168.0.95 │     49344 │ 34.149.46.130  │       443 │ tcp     │ SF         │ true       │ false      │            0 │ ShADadtFf        │        18 │          1960 │        15 │          6040 │   610.352108001709 │       1004 │       5213 │ ssl      │\n",
       "│ 1696013462.724543 │ C9cDe6AsEAPhEMtz3  │ 192.168.0.4  │     45896 │ 192.168.0.4    │      9200 │ tcp     │ OTH        │ true       │ true       │            0 │ CcCcdtCcCc       │         0 │             0 │         8 │        158640 │  829.5498898029327 │          0 │    1130643 │ NULL     │\n",
       "│ 1696014296.808231 │ Cz0pxS1Dc1Hyeee1oi │ 192.168.0.95 │     36214 │ 35.190.43.134  │       443 │ tcp     │ SF         │ true       │ false      │            0 │ ShADadtTtTFf     │      2631 │       1228772 │      3102 │        381324 │   3605.96328496933 │    1085598 │     217061 │ ssl      │\n",
       "│ 1696014305.462842 │ C9h2V91yAFnETUWv3d │ 192.168.0.95 │     42906 │ 35.241.16.93   │       443 │ tcp     │ SF         │ true       │ false      │            0 │ ShADadtTtTtFf    │    101623 │       5545672 │    198999 │     282826980 │ 3600.5622630119324 │     238732 │  272326569 │ ssl      │\n",
       "│ 1696014299.370463 │ C0Qevr3bZU4jN01Jxi │ 192.168.0.95 │     45584 │ 35.244.195.33  │       443 │ tcp     │ SF         │ true       │ false      │            0 │ ShADadTtTFf      │      2886 │       2271164 │      3173 │        210558 │  3633.840800046921 │    2109815 │      44965 │ ssl      │\n",
       "│ 1696014302.590874 │ CqNKQg2vpiCuP7sbyc │ 192.168.0.95 │     36194 │ 35.190.43.134  │       443 │ tcp     │ SF         │ true       │ false      │            0 │ ShADadTttFf      │      3371 │       2609139 │      4730 │       3203393 │ 3635.4489800930023 │    2430560 │    2949340 │ ssl      │\n",
       "│         ·         │         ·          │      ·       │       ·   │      ·         │        ·  │  ·      │ ·          │  ·         │  ·         │            · │    ·             │        ·  │          ·    │        ·  │           ·   │          ·         │       ·    │       ·    │  ·       │\n",
       "│         ·         │         ·          │      ·       │       ·   │      ·         │        ·  │  ·      │ ·          │  ·         │  ·         │            · │    ·             │        ·  │          ·    │        ·  │           ·   │          ·         │       ·    │       ·    │  ·       │\n",
       "│         ·         │         ·          │      ·       │       ·   │      ·         │        ·  │  ·      │ ·          │  ·         │  ·         │            · │    ·             │        ·  │          ·    │        ·  │           ·   │          ·         │       ·    │       ·    │  ·       │\n",
       "│ 1696012901.408566 │ CwhEP81Uxlkbteq98g │ 192.168.0.31 │     53452 │ 192.168.0.4    │      9200 │ tcp     │ OTH        │ true       │ true       │            0 │ DaccAcc          │      3622 │       4019502 │      1019 │         40760 │  4567.867408037186 │    3874622 │    9237265 │ NULL     │\n",
       "│ 1695987879.732932 │ Ckq79n3YM1DYlGztQj │ 192.168.0.31 │     64402 │ 20.7.2.167     │       443 │ tcp     │ S1         │ true       │ false      │            0 │ ShADdatT         │      1322 │         86325 │       723 │        161477 │ 29591.701333999634 │      33377 │     132533 │ ssl      │\n",
       "│ 1695987812.836527 │ C5joBY3pbKN8YCOuxd │ 192.168.0.4  │      9200 │ 192.168.0.31   │     55874 │ tcp     │ OTH        │ true       │ true       │            0 │ CdAaCtCttCD      │      7228 │        289124 │     26008 │      28472103 │  29665.03855085373 │    3773030 │   27431294 │ NULL     │\n",
       "│ 1695987841.467097 │ CHI4O441XT8p4KCel7 │ 192.168.0.31 │     64292 │ 192.168.0.4    │      9200 │ tcp     │ OTH        │ true       │ true       │            0 │ DacAccc          │     26687 │      31708936 │      4444 │        177760 │  29640.22217488289 │   30641456 │    3466091 │ NULL     │\n",
       "│  1695987841.26211 │ Crk9iC31gRok9a9xbe │ 192.168.0.31 │     64293 │ 192.168.0.4    │      9200 │ tcp     │ OTH        │ true       │ true       │            0 │ DacAcccc         │    134993 │     179434842 │     14664 │        586560 │ 29641.363101005554 │  174035086 │   20021013 │ NULL     │\n",
       "│ 1695987822.035829 │ CsqLYG90S5u8wUGji  │ 192.168.0.31 │     55906 │ 192.168.0.4    │      9200 │ tcp     │ OTH        │ true       │ true       │            0 │ DacAcTcTcT       │     37698 │      42754618 │      9589 │        383560 │ 29664.822754859924 │   41183458 │    3923632 │ NULL     │\n",
       "│ 1695987837.823028 │ C3uhyF2oaouFzSjN97 │ 192.168.0.31 │     56024 │ 192.168.0.4    │      9200 │ tcp     │ OTH        │ true       │ true       │            0 │ DacAccc          │     32628 │      40508275 │      5091 │        203640 │ 29650.207310914993 │   39203107 │    4989212 │ NULL     │\n",
       "│ 1695987861.700626 │ CaXyts2pErtFF9wXa  │ 192.168.0.31 │     64349 │ 192.168.0.4    │      8220 │ tcp     │ OTH        │ true       │ true       │            0 │ DcTcTAacTcT      │      2372 │        503027 │       362 │         14480 │ 29651.999841213226 │     406240 │      25806 │ NULL     │\n",
       "│ 1696018279.366769 │ CiIl0H14bcFsvU5rl8 │ 192.168.0.28 │     62619 │ 52.236.189.131 │       443 │ tcp     │ SF         │ true       │ false      │            0 │ ShADadFRf        │        36 │          3259 │        23 │          5250 │  2881.177577018738 │       1807 │       4318 │ ssl      │\n",
       "│ 1696016643.701357 │ CKp1k11TDBV8LP78z8 │ 192.168.0.4  │      9200 │ 192.168.0.4    │     52692 │ tcp     │ OTH        │ true       │ true       │            0 │ CccCDTdtcCTtcTCt │       950 │      19671082 │       354 │       6590072 │  950.9789581298828 │   11236853 │    5558486 │ NULL     │\n",
       "├───────────────────┴────────────────────┴──────────────┴───────────┴────────────────┴───────────┴─────────┴────────────┴────────────┴────────────┴──────────────┴──────────────────┴───────────┴───────────────┴───────────┴───────────────┴────────────────────┴────────────┴────────────┴──────────┤\n",
       "│ 117 rows (20 shown)                                                                                                                                                                                                                                                                      20 columns │\n",
       "└─────────────────────────────────────────────────────────────────────────────────────────────────────────────────────────────────────────────────────────────────────────────────────────────────────────────────────────────────────────────────────────────────────────────────────────────────────┘"
      ]
     },
     "execution_count": 52,
     "metadata": {},
     "output_type": "execute_result"
    }
   ],
   "source": [
    "# Find all records where the duration is greater than 10 minutes\n",
    "con.sql('SELECT * FROM conn_log WHERE duration > 600')"
   ]
  },
  {
   "cell_type": "code",
   "execution_count": 53,
   "metadata": {},
   "outputs": [
    {
     "data": {
      "text/plain": [
       "┌───────────────┬─────────────┬─────────────────────┬───────────────────────────┬───────────────┬────────────────────┬────────────────────┬───────────────────────┬────────────────────────┬─────────────────────┬───────┬─────────────────┐\n",
       "│  column_name  │ column_type │         min         │            max            │ approx_unique │        avg         │        std         │          q25          │          q50           │         q75         │ count │ null_percentage │\n",
       "│    varchar    │   varchar   │       varchar       │          varchar          │     int64     │      varchar       │      varchar       │        varchar        │        varchar         │       varchar       │ int64 │  decimal(9,2)   │\n",
       "├───────────────┼─────────────┼─────────────────────┼───────────────────────────┼───────────────┼────────────────────┼────────────────────┼───────────────────────┼────────────────────────┼─────────────────────┼───────┼─────────────────┤\n",
       "│ ts            │ DOUBLE      │ 1695902349.570724   │ 1696021196.891631         │         23507 │ 1696019189.3099442 │ 1522.739253401068  │ 1696018291.1364       │ 1696019188.5998018     │ 1696020144.2070863  │ 24048 │            0.00 │\n",
       "│ uid           │ VARCHAR     │ C00QBOAfKJrEqHbVd   │ Czzwwao74C247141          │         27708 │ NULL               │ NULL               │ NULL                  │ NULL                   │ NULL                │ 24048 │            0.00 │\n",
       "│ id.orig_h     │ VARCHAR     │ 0.0.0.0             │ fe80::feff:9d34:8053:3941 │            43 │ NULL               │ NULL               │ NULL                  │ NULL                   │ NULL                │ 24048 │            0.00 │\n",
       "│ id.orig_p     │ BIGINT      │ 3                   │ 65533                     │          8083 │ 44199.226921157686 │ 15648.404314729143 │ 36980                 │ 48824                  │ 55423               │ 24048 │            0.00 │\n",
       "│ id.resp_h     │ VARCHAR     │ 10.20.68.131        │ ff02::fb                  │           556 │ NULL               │ NULL               │ NULL                  │ NULL                   │ NULL                │ 24048 │            0.00 │\n",
       "│ id.resp_p     │ BIGINT      │ 0                   │ 60990                     │           822 │ 8453.76355622089   │ 13554.57326964631  │ 80                    │ 5601                   │ 7804                │ 24048 │            0.00 │\n",
       "│ proto         │ VARCHAR     │ icmp                │ udp                       │             3 │ NULL               │ NULL               │ NULL                  │ NULL                   │ NULL                │ 24048 │            0.00 │\n",
       "│ conn_state    │ VARCHAR     │ OTH                 │ SHR                       │            12 │ NULL               │ NULL               │ NULL                  │ NULL                   │ NULL                │ 24048 │            0.00 │\n",
       "│ local_orig    │ BOOLEAN     │ false               │ true                      │             2 │ NULL               │ NULL               │ NULL                  │ NULL                   │ NULL                │ 24048 │            0.00 │\n",
       "│ local_resp    │ BOOLEAN     │ false               │ true                      │             2 │ NULL               │ NULL               │ NULL                  │ NULL                   │ NULL                │ 24048 │            0.00 │\n",
       "│ missed_bytes  │ BIGINT      │ 0                   │ 0                         │             1 │ 0.0                │ 0.0                │ 0                     │ 0                      │ 0                   │ 24048 │            0.00 │\n",
       "│ history       │ VARCHAR     │ AR                  │ ^r                        │           336 │ NULL               │ NULL               │ NULL                  │ NULL                   │ NULL                │ 24048 │            0.35 │\n",
       "│ orig_pkts     │ BIGINT      │ 0                   │ 147309                    │           234 │ 30.57871756487026  │ 1516.8692623036454 │ 0                     │ 0                      │ 1                   │ 24048 │            0.00 │\n",
       "│ orig_ip_bytes │ BIGINT      │ 0                   │ 179434842                 │          1785 │ 52559.4756736527   │ 1425437.5443200406 │ 0                     │ 0                      │ 72                  │ 24048 │            0.00 │\n",
       "│ resp_pkts     │ BIGINT      │ 0                   │ 836146                    │           301 │ 58.96935296074518  │ 5560.4751666363445 │ 0                     │ 0                      │ 1                   │ 24048 │            0.00 │\n",
       "│ resp_ip_bytes │ BIGINT      │ 0                   │ 1253112745                │          1798 │ 106486.88165335995 │ 8331311.519403015  │ 0                     │ 0                      │ 80                  │ 24048 │            0.00 │\n",
       "│ duration      │ DOUBLE      │ 9.5367431640625e-07 │ 115607.98462510109        │          5229 │ 81.07994025102533  │ 1519.5804669497707 │ 3.808511394914908e-05 │ 0.00032864257265000535 │ 0.19543872098509354 │ 24048 │           57.67 │\n",
       "│ orig_bytes    │ BIGINT      │ 0                   │ 174035086                 │          1921 │ 88125.17396856581  │ 1952446.0773816886 │ 0                     │ 44                     │ 218                 │ 24048 │           57.67 │\n",
       "│ resp_bytes    │ BIGINT      │ 0                   │ 1207605466                │          2177 │ 222419.0982318271  │ 12304760.588368597 │ 0                     │ 110                    │ 203                 │ 24048 │           57.67 │\n",
       "│ service       │ VARCHAR     │ dhcp                │ syslog                    │             7 │ NULL               │ NULL               │ NULL                  │ NULL                   │ NULL                │ 24048 │           68.67 │\n",
       "├───────────────┴─────────────┴─────────────────────┴───────────────────────────┴───────────────┴────────────────────┴────────────────────┴───────────────────────┴────────────────────────┴─────────────────────┴───────┴─────────────────┤\n",
       "│ 20 rows                                                                                                                                                                                                                       12 columns │\n",
       "└──────────────────────────────────────────────────────────────────────────────────────────────────────────────────────────────────────────────────────────────────────────────────────────────────────────────────────────────────────────┘"
      ]
     },
     "execution_count": 53,
     "metadata": {},
     "output_type": "execute_result"
    }
   ],
   "source": [
    "# Summarize the table\n",
    "con.sql(query='SUMMARIZE conn_log')"
   ]
  },
  {
   "cell_type": "code",
   "execution_count": 54,
   "metadata": {},
   "outputs": [
    {
     "data": {
      "text/html": [
       "<div>\n",
       "<style scoped>\n",
       "    .dataframe tbody tr th:only-of-type {\n",
       "        vertical-align: middle;\n",
       "    }\n",
       "\n",
       "    .dataframe tbody tr th {\n",
       "        vertical-align: top;\n",
       "    }\n",
       "\n",
       "    .dataframe thead th {\n",
       "        text-align: right;\n",
       "    }\n",
       "</style>\n",
       "<table border=\"1\" class=\"dataframe\">\n",
       "  <thead>\n",
       "    <tr style=\"text-align: right;\">\n",
       "      <th></th>\n",
       "      <th>id.orig_h</th>\n",
       "      <th>id.resp_h</th>\n",
       "    </tr>\n",
       "  </thead>\n",
       "  <tbody>\n",
       "    <tr>\n",
       "      <th>0</th>\n",
       "      <td>192.168.0.31</td>\n",
       "      <td>165.225.208.44</td>\n",
       "    </tr>\n",
       "    <tr>\n",
       "      <th>1</th>\n",
       "      <td>192.168.0.31</td>\n",
       "      <td>165.225.208.44</td>\n",
       "    </tr>\n",
       "    <tr>\n",
       "      <th>2</th>\n",
       "      <td>192.168.0.31</td>\n",
       "      <td>165.225.208.44</td>\n",
       "    </tr>\n",
       "    <tr>\n",
       "      <th>3</th>\n",
       "      <td>192.168.0.95</td>\n",
       "      <td>34.98.105.85</td>\n",
       "    </tr>\n",
       "    <tr>\n",
       "      <th>4</th>\n",
       "      <td>192.168.0.95</td>\n",
       "      <td>34.149.46.130</td>\n",
       "    </tr>\n",
       "    <tr>\n",
       "      <th>...</th>\n",
       "      <td>...</td>\n",
       "      <td>...</td>\n",
       "    </tr>\n",
       "    <tr>\n",
       "      <th>112</th>\n",
       "      <td>192.168.0.31</td>\n",
       "      <td>192.168.0.4</td>\n",
       "    </tr>\n",
       "    <tr>\n",
       "      <th>113</th>\n",
       "      <td>192.168.0.31</td>\n",
       "      <td>192.168.0.4</td>\n",
       "    </tr>\n",
       "    <tr>\n",
       "      <th>114</th>\n",
       "      <td>192.168.0.31</td>\n",
       "      <td>192.168.0.4</td>\n",
       "    </tr>\n",
       "    <tr>\n",
       "      <th>115</th>\n",
       "      <td>192.168.0.28</td>\n",
       "      <td>52.236.189.131</td>\n",
       "    </tr>\n",
       "    <tr>\n",
       "      <th>116</th>\n",
       "      <td>192.168.0.4</td>\n",
       "      <td>192.168.0.4</td>\n",
       "    </tr>\n",
       "  </tbody>\n",
       "</table>\n",
       "<p>117 rows × 2 columns</p>\n",
       "</div>"
      ],
      "text/plain": [
       "        id.orig_h       id.resp_h\n",
       "0    192.168.0.31  165.225.208.44\n",
       "1    192.168.0.31  165.225.208.44\n",
       "2    192.168.0.31  165.225.208.44\n",
       "3    192.168.0.95    34.98.105.85\n",
       "4    192.168.0.95   34.149.46.130\n",
       "..            ...             ...\n",
       "112  192.168.0.31     192.168.0.4\n",
       "113  192.168.0.31     192.168.0.4\n",
       "114  192.168.0.31     192.168.0.4\n",
       "115  192.168.0.28  52.236.189.131\n",
       "116   192.168.0.4     192.168.0.4\n",
       "\n",
       "[117 rows x 2 columns]"
      ]
     },
     "execution_count": 54,
     "metadata": {},
     "output_type": "execute_result"
    }
   ],
   "source": [
    "# We might instead want to see the information above as a dataframe\n",
    "# Let's use the **.df** function to get the data as a dataframe\n",
    "con.sql('SELECT \"id.orig_h\", \"id.resp_h\" FROM conn_log WHERE duration > 600').df()"
   ]
  },
  {
   "cell_type": "code",
   "execution_count": 55,
   "metadata": {},
   "outputs": [
    {
     "data": {
      "text/html": [
       "<div>\n",
       "<style scoped>\n",
       "    .dataframe tbody tr th:only-of-type {\n",
       "        vertical-align: middle;\n",
       "    }\n",
       "\n",
       "    .dataframe tbody tr th {\n",
       "        vertical-align: top;\n",
       "    }\n",
       "\n",
       "    .dataframe thead th {\n",
       "        text-align: right;\n",
       "    }\n",
       "</style>\n",
       "<table border=\"1\" class=\"dataframe\">\n",
       "  <thead>\n",
       "    <tr style=\"text-align: right;\">\n",
       "      <th></th>\n",
       "      <th>ts</th>\n",
       "      <th>uid</th>\n",
       "      <th>id.orig_h</th>\n",
       "      <th>id.orig_p</th>\n",
       "      <th>id.resp_h</th>\n",
       "      <th>id.resp_p</th>\n",
       "      <th>proto</th>\n",
       "      <th>conn_state</th>\n",
       "      <th>local_orig</th>\n",
       "      <th>local_resp</th>\n",
       "      <th>missed_bytes</th>\n",
       "      <th>history</th>\n",
       "      <th>orig_pkts</th>\n",
       "      <th>orig_ip_bytes</th>\n",
       "      <th>resp_pkts</th>\n",
       "      <th>resp_ip_bytes</th>\n",
       "      <th>duration</th>\n",
       "      <th>orig_bytes</th>\n",
       "      <th>resp_bytes</th>\n",
       "      <th>service</th>\n",
       "    </tr>\n",
       "  </thead>\n",
       "  <tbody>\n",
       "    <tr>\n",
       "      <th>0</th>\n",
       "      <td>1.696001e+09</td>\n",
       "      <td>CthQmt3D5lmDwrRxUl</td>\n",
       "      <td>192.168.0.31</td>\n",
       "      <td>64113</td>\n",
       "      <td>165.225.208.44</td>\n",
       "      <td>443</td>\n",
       "      <td>tcp</td>\n",
       "      <td>RSTR</td>\n",
       "      <td>True</td>\n",
       "      <td>False</td>\n",
       "      <td>0</td>\n",
       "      <td>ShADadttfr</td>\n",
       "      <td>821</td>\n",
       "      <td>57635</td>\n",
       "      <td>1113</td>\n",
       "      <td>77717</td>\n",
       "      <td>16416.052616</td>\n",
       "      <td>24783</td>\n",
       "      <td>32633</td>\n",
       "      <td>http,ssl</td>\n",
       "    </tr>\n",
       "    <tr>\n",
       "      <th>1</th>\n",
       "      <td>1.695988e+09</td>\n",
       "      <td>CYUQe22Chebdk2ue1e</td>\n",
       "      <td>192.168.0.31</td>\n",
       "      <td>51760</td>\n",
       "      <td>165.225.208.44</td>\n",
       "      <td>443</td>\n",
       "      <td>tcp</td>\n",
       "      <td>RSTR</td>\n",
       "      <td>True</td>\n",
       "      <td>False</td>\n",
       "      <td>0</td>\n",
       "      <td>ShADdaTtr</td>\n",
       "      <td>17442</td>\n",
       "      <td>8006593</td>\n",
       "      <td>15058</td>\n",
       "      <td>1295176</td>\n",
       "      <td>29656.265580</td>\n",
       "      <td>7308515</td>\n",
       "      <td>692511</td>\n",
       "      <td>http,ssl</td>\n",
       "    </tr>\n",
       "    <tr>\n",
       "      <th>2</th>\n",
       "      <td>1.695994e+09</td>\n",
       "      <td>CRqfCIG05qUCcFcF</td>\n",
       "      <td>192.168.0.31</td>\n",
       "      <td>55543</td>\n",
       "      <td>165.225.208.44</td>\n",
       "      <td>443</td>\n",
       "      <td>tcp</td>\n",
       "      <td>RSTR</td>\n",
       "      <td>True</td>\n",
       "      <td>False</td>\n",
       "      <td>0</td>\n",
       "      <td>ShADdafr</td>\n",
       "      <td>3150</td>\n",
       "      <td>757605</td>\n",
       "      <td>1603</td>\n",
       "      <td>212389</td>\n",
       "      <td>23924.337346</td>\n",
       "      <td>631593</td>\n",
       "      <td>148257</td>\n",
       "      <td>http,ssl</td>\n",
       "    </tr>\n",
       "    <tr>\n",
       "      <th>3</th>\n",
       "      <td>1.696017e+09</td>\n",
       "      <td>CfLKAp3pg8ZlCxVyk</td>\n",
       "      <td>192.168.0.95</td>\n",
       "      <td>35630</td>\n",
       "      <td>34.98.105.85</td>\n",
       "      <td>443</td>\n",
       "      <td>tcp</td>\n",
       "      <td>SF</td>\n",
       "      <td>True</td>\n",
       "      <td>False</td>\n",
       "      <td>0</td>\n",
       "      <td>ShADadtFf</td>\n",
       "      <td>20</td>\n",
       "      <td>2284</td>\n",
       "      <td>22</td>\n",
       "      <td>3070</td>\n",
       "      <td>618.818055</td>\n",
       "      <td>1212</td>\n",
       "      <td>1772</td>\n",
       "      <td>ssl</td>\n",
       "    </tr>\n",
       "    <tr>\n",
       "      <th>4</th>\n",
       "      <td>1.696017e+09</td>\n",
       "      <td>CSRhux2BwyF9SSzjDf</td>\n",
       "      <td>192.168.0.95</td>\n",
       "      <td>49344</td>\n",
       "      <td>34.149.46.130</td>\n",
       "      <td>443</td>\n",
       "      <td>tcp</td>\n",
       "      <td>SF</td>\n",
       "      <td>True</td>\n",
       "      <td>False</td>\n",
       "      <td>0</td>\n",
       "      <td>ShADadtFf</td>\n",
       "      <td>18</td>\n",
       "      <td>1960</td>\n",
       "      <td>15</td>\n",
       "      <td>6040</td>\n",
       "      <td>610.352108</td>\n",
       "      <td>1004</td>\n",
       "      <td>5213</td>\n",
       "      <td>ssl</td>\n",
       "    </tr>\n",
       "    <tr>\n",
       "      <th>...</th>\n",
       "      <td>...</td>\n",
       "      <td>...</td>\n",
       "      <td>...</td>\n",
       "      <td>...</td>\n",
       "      <td>...</td>\n",
       "      <td>...</td>\n",
       "      <td>...</td>\n",
       "      <td>...</td>\n",
       "      <td>...</td>\n",
       "      <td>...</td>\n",
       "      <td>...</td>\n",
       "      <td>...</td>\n",
       "      <td>...</td>\n",
       "      <td>...</td>\n",
       "      <td>...</td>\n",
       "      <td>...</td>\n",
       "      <td>...</td>\n",
       "      <td>...</td>\n",
       "      <td>...</td>\n",
       "      <td>...</td>\n",
       "    </tr>\n",
       "    <tr>\n",
       "      <th>112</th>\n",
       "      <td>1.695988e+09</td>\n",
       "      <td>CsqLYG90S5u8wUGji</td>\n",
       "      <td>192.168.0.31</td>\n",
       "      <td>55906</td>\n",
       "      <td>192.168.0.4</td>\n",
       "      <td>9200</td>\n",
       "      <td>tcp</td>\n",
       "      <td>OTH</td>\n",
       "      <td>True</td>\n",
       "      <td>True</td>\n",
       "      <td>0</td>\n",
       "      <td>DacAcTcTcT</td>\n",
       "      <td>37698</td>\n",
       "      <td>42754618</td>\n",
       "      <td>9589</td>\n",
       "      <td>383560</td>\n",
       "      <td>29664.822755</td>\n",
       "      <td>41183458</td>\n",
       "      <td>3923632</td>\n",
       "      <td>None</td>\n",
       "    </tr>\n",
       "    <tr>\n",
       "      <th>113</th>\n",
       "      <td>1.695988e+09</td>\n",
       "      <td>C3uhyF2oaouFzSjN97</td>\n",
       "      <td>192.168.0.31</td>\n",
       "      <td>56024</td>\n",
       "      <td>192.168.0.4</td>\n",
       "      <td>9200</td>\n",
       "      <td>tcp</td>\n",
       "      <td>OTH</td>\n",
       "      <td>True</td>\n",
       "      <td>True</td>\n",
       "      <td>0</td>\n",
       "      <td>DacAccc</td>\n",
       "      <td>32628</td>\n",
       "      <td>40508275</td>\n",
       "      <td>5091</td>\n",
       "      <td>203640</td>\n",
       "      <td>29650.207311</td>\n",
       "      <td>39203107</td>\n",
       "      <td>4989212</td>\n",
       "      <td>None</td>\n",
       "    </tr>\n",
       "    <tr>\n",
       "      <th>114</th>\n",
       "      <td>1.695988e+09</td>\n",
       "      <td>CaXyts2pErtFF9wXa</td>\n",
       "      <td>192.168.0.31</td>\n",
       "      <td>64349</td>\n",
       "      <td>192.168.0.4</td>\n",
       "      <td>8220</td>\n",
       "      <td>tcp</td>\n",
       "      <td>OTH</td>\n",
       "      <td>True</td>\n",
       "      <td>True</td>\n",
       "      <td>0</td>\n",
       "      <td>DcTcTAacTcT</td>\n",
       "      <td>2372</td>\n",
       "      <td>503027</td>\n",
       "      <td>362</td>\n",
       "      <td>14480</td>\n",
       "      <td>29651.999841</td>\n",
       "      <td>406240</td>\n",
       "      <td>25806</td>\n",
       "      <td>None</td>\n",
       "    </tr>\n",
       "    <tr>\n",
       "      <th>115</th>\n",
       "      <td>1.696018e+09</td>\n",
       "      <td>CiIl0H14bcFsvU5rl8</td>\n",
       "      <td>192.168.0.28</td>\n",
       "      <td>62619</td>\n",
       "      <td>52.236.189.131</td>\n",
       "      <td>443</td>\n",
       "      <td>tcp</td>\n",
       "      <td>SF</td>\n",
       "      <td>True</td>\n",
       "      <td>False</td>\n",
       "      <td>0</td>\n",
       "      <td>ShADadFRf</td>\n",
       "      <td>36</td>\n",
       "      <td>3259</td>\n",
       "      <td>23</td>\n",
       "      <td>5250</td>\n",
       "      <td>2881.177577</td>\n",
       "      <td>1807</td>\n",
       "      <td>4318</td>\n",
       "      <td>ssl</td>\n",
       "    </tr>\n",
       "    <tr>\n",
       "      <th>116</th>\n",
       "      <td>1.696017e+09</td>\n",
       "      <td>CKp1k11TDBV8LP78z8</td>\n",
       "      <td>192.168.0.4</td>\n",
       "      <td>9200</td>\n",
       "      <td>192.168.0.4</td>\n",
       "      <td>52692</td>\n",
       "      <td>tcp</td>\n",
       "      <td>OTH</td>\n",
       "      <td>True</td>\n",
       "      <td>True</td>\n",
       "      <td>0</td>\n",
       "      <td>CccCDTdtcCTtcTCt</td>\n",
       "      <td>950</td>\n",
       "      <td>19671082</td>\n",
       "      <td>354</td>\n",
       "      <td>6590072</td>\n",
       "      <td>950.978958</td>\n",
       "      <td>11236853</td>\n",
       "      <td>5558486</td>\n",
       "      <td>None</td>\n",
       "    </tr>\n",
       "  </tbody>\n",
       "</table>\n",
       "<p>117 rows × 20 columns</p>\n",
       "</div>"
      ],
      "text/plain": [
       "               ts                 uid     id.orig_h  id.orig_p  \\\n",
       "0    1.696001e+09  CthQmt3D5lmDwrRxUl  192.168.0.31      64113   \n",
       "1    1.695988e+09  CYUQe22Chebdk2ue1e  192.168.0.31      51760   \n",
       "2    1.695994e+09    CRqfCIG05qUCcFcF  192.168.0.31      55543   \n",
       "3    1.696017e+09   CfLKAp3pg8ZlCxVyk  192.168.0.95      35630   \n",
       "4    1.696017e+09  CSRhux2BwyF9SSzjDf  192.168.0.95      49344   \n",
       "..            ...                 ...           ...        ...   \n",
       "112  1.695988e+09   CsqLYG90S5u8wUGji  192.168.0.31      55906   \n",
       "113  1.695988e+09  C3uhyF2oaouFzSjN97  192.168.0.31      56024   \n",
       "114  1.695988e+09   CaXyts2pErtFF9wXa  192.168.0.31      64349   \n",
       "115  1.696018e+09  CiIl0H14bcFsvU5rl8  192.168.0.28      62619   \n",
       "116  1.696017e+09  CKp1k11TDBV8LP78z8   192.168.0.4       9200   \n",
       "\n",
       "          id.resp_h  id.resp_p proto conn_state  local_orig  local_resp  \\\n",
       "0    165.225.208.44        443   tcp       RSTR        True       False   \n",
       "1    165.225.208.44        443   tcp       RSTR        True       False   \n",
       "2    165.225.208.44        443   tcp       RSTR        True       False   \n",
       "3      34.98.105.85        443   tcp         SF        True       False   \n",
       "4     34.149.46.130        443   tcp         SF        True       False   \n",
       "..              ...        ...   ...        ...         ...         ...   \n",
       "112     192.168.0.4       9200   tcp        OTH        True        True   \n",
       "113     192.168.0.4       9200   tcp        OTH        True        True   \n",
       "114     192.168.0.4       8220   tcp        OTH        True        True   \n",
       "115  52.236.189.131        443   tcp         SF        True       False   \n",
       "116     192.168.0.4      52692   tcp        OTH        True        True   \n",
       "\n",
       "     missed_bytes           history  orig_pkts  orig_ip_bytes  resp_pkts  \\\n",
       "0               0        ShADadttfr        821          57635       1113   \n",
       "1               0         ShADdaTtr      17442        8006593      15058   \n",
       "2               0          ShADdafr       3150         757605       1603   \n",
       "3               0         ShADadtFf         20           2284         22   \n",
       "4               0         ShADadtFf         18           1960         15   \n",
       "..            ...               ...        ...            ...        ...   \n",
       "112             0        DacAcTcTcT      37698       42754618       9589   \n",
       "113             0           DacAccc      32628       40508275       5091   \n",
       "114             0       DcTcTAacTcT       2372         503027        362   \n",
       "115             0         ShADadFRf         36           3259         23   \n",
       "116             0  CccCDTdtcCTtcTCt        950       19671082        354   \n",
       "\n",
       "     resp_ip_bytes      duration  orig_bytes  resp_bytes   service  \n",
       "0            77717  16416.052616       24783       32633  http,ssl  \n",
       "1          1295176  29656.265580     7308515      692511  http,ssl  \n",
       "2           212389  23924.337346      631593      148257  http,ssl  \n",
       "3             3070    618.818055        1212        1772       ssl  \n",
       "4             6040    610.352108        1004        5213       ssl  \n",
       "..             ...           ...         ...         ...       ...  \n",
       "112         383560  29664.822755    41183458     3923632      None  \n",
       "113         203640  29650.207311    39203107     4989212      None  \n",
       "114          14480  29651.999841      406240       25806      None  \n",
       "115           5250   2881.177577        1807        4318       ssl  \n",
       "116        6590072    950.978958    11236853     5558486      None  \n",
       "\n",
       "[117 rows x 20 columns]"
      ]
     },
     "execution_count": 55,
     "metadata": {},
     "output_type": "execute_result"
    }
   ],
   "source": [
    "# Let pull back all the tables and some rows and store these into a dataframe\n",
    "tmp_df = con.sql('SELECT * FROM conn_log WHERE duration > 600').df()\n",
    "tmp_df"
   ]
  },
  {
   "cell_type": "code",
   "execution_count": 56,
   "metadata": {},
   "outputs": [
    {
     "data": {
      "text/html": [
       "<div>\n",
       "<style scoped>\n",
       "    .dataframe tbody tr th:only-of-type {\n",
       "        vertical-align: middle;\n",
       "    }\n",
       "\n",
       "    .dataframe tbody tr th {\n",
       "        vertical-align: top;\n",
       "    }\n",
       "\n",
       "    .dataframe thead th {\n",
       "        text-align: right;\n",
       "    }\n",
       "</style>\n",
       "<table border=\"1\" class=\"dataframe\">\n",
       "  <thead>\n",
       "    <tr style=\"text-align: right;\">\n",
       "      <th></th>\n",
       "      <th>ts</th>\n",
       "      <th>uid</th>\n",
       "      <th>id.orig_h</th>\n",
       "      <th>id.orig_p</th>\n",
       "      <th>id.resp_h</th>\n",
       "      <th>id.resp_p</th>\n",
       "      <th>proto</th>\n",
       "      <th>conn_state</th>\n",
       "      <th>local_orig</th>\n",
       "      <th>local_resp</th>\n",
       "      <th>missed_bytes</th>\n",
       "      <th>history</th>\n",
       "      <th>orig_pkts</th>\n",
       "      <th>orig_ip_bytes</th>\n",
       "      <th>resp_pkts</th>\n",
       "      <th>resp_ip_bytes</th>\n",
       "      <th>duration</th>\n",
       "      <th>orig_bytes</th>\n",
       "      <th>resp_bytes</th>\n",
       "      <th>service</th>\n",
       "    </tr>\n",
       "  </thead>\n",
       "  <tbody>\n",
       "    <tr>\n",
       "      <th>0</th>\n",
       "      <td>1.696001e+09</td>\n",
       "      <td>CthQmt3D5lmDwrRxUl</td>\n",
       "      <td>192.168.0.31</td>\n",
       "      <td>64113</td>\n",
       "      <td>165.225.208.44</td>\n",
       "      <td>443</td>\n",
       "      <td>tcp</td>\n",
       "      <td>RSTR</td>\n",
       "      <td>True</td>\n",
       "      <td>False</td>\n",
       "      <td>0</td>\n",
       "      <td>ShADadttfr</td>\n",
       "      <td>821</td>\n",
       "      <td>57635</td>\n",
       "      <td>1113</td>\n",
       "      <td>77717</td>\n",
       "      <td>16416.052616</td>\n",
       "      <td>24783</td>\n",
       "      <td>32633</td>\n",
       "      <td>http,ssl</td>\n",
       "    </tr>\n",
       "    <tr>\n",
       "      <th>1</th>\n",
       "      <td>1.695988e+09</td>\n",
       "      <td>CYUQe22Chebdk2ue1e</td>\n",
       "      <td>192.168.0.31</td>\n",
       "      <td>51760</td>\n",
       "      <td>165.225.208.44</td>\n",
       "      <td>443</td>\n",
       "      <td>tcp</td>\n",
       "      <td>RSTR</td>\n",
       "      <td>True</td>\n",
       "      <td>False</td>\n",
       "      <td>0</td>\n",
       "      <td>ShADdaTtr</td>\n",
       "      <td>17442</td>\n",
       "      <td>8006593</td>\n",
       "      <td>15058</td>\n",
       "      <td>1295176</td>\n",
       "      <td>29656.265580</td>\n",
       "      <td>7308515</td>\n",
       "      <td>692511</td>\n",
       "      <td>http,ssl</td>\n",
       "    </tr>\n",
       "    <tr>\n",
       "      <th>2</th>\n",
       "      <td>1.695994e+09</td>\n",
       "      <td>CRqfCIG05qUCcFcF</td>\n",
       "      <td>192.168.0.31</td>\n",
       "      <td>55543</td>\n",
       "      <td>165.225.208.44</td>\n",
       "      <td>443</td>\n",
       "      <td>tcp</td>\n",
       "      <td>RSTR</td>\n",
       "      <td>True</td>\n",
       "      <td>False</td>\n",
       "      <td>0</td>\n",
       "      <td>ShADdafr</td>\n",
       "      <td>3150</td>\n",
       "      <td>757605</td>\n",
       "      <td>1603</td>\n",
       "      <td>212389</td>\n",
       "      <td>23924.337346</td>\n",
       "      <td>631593</td>\n",
       "      <td>148257</td>\n",
       "      <td>http,ssl</td>\n",
       "    </tr>\n",
       "    <tr>\n",
       "      <th>3</th>\n",
       "      <td>1.696017e+09</td>\n",
       "      <td>CfLKAp3pg8ZlCxVyk</td>\n",
       "      <td>192.168.0.95</td>\n",
       "      <td>35630</td>\n",
       "      <td>34.98.105.85</td>\n",
       "      <td>443</td>\n",
       "      <td>tcp</td>\n",
       "      <td>SF</td>\n",
       "      <td>True</td>\n",
       "      <td>False</td>\n",
       "      <td>0</td>\n",
       "      <td>ShADadtFf</td>\n",
       "      <td>20</td>\n",
       "      <td>2284</td>\n",
       "      <td>22</td>\n",
       "      <td>3070</td>\n",
       "      <td>618.818055</td>\n",
       "      <td>1212</td>\n",
       "      <td>1772</td>\n",
       "      <td>ssl</td>\n",
       "    </tr>\n",
       "    <tr>\n",
       "      <th>4</th>\n",
       "      <td>1.696017e+09</td>\n",
       "      <td>CSRhux2BwyF9SSzjDf</td>\n",
       "      <td>192.168.0.95</td>\n",
       "      <td>49344</td>\n",
       "      <td>34.149.46.130</td>\n",
       "      <td>443</td>\n",
       "      <td>tcp</td>\n",
       "      <td>SF</td>\n",
       "      <td>True</td>\n",
       "      <td>False</td>\n",
       "      <td>0</td>\n",
       "      <td>ShADadtFf</td>\n",
       "      <td>18</td>\n",
       "      <td>1960</td>\n",
       "      <td>15</td>\n",
       "      <td>6040</td>\n",
       "      <td>610.352108</td>\n",
       "      <td>1004</td>\n",
       "      <td>5213</td>\n",
       "      <td>ssl</td>\n",
       "    </tr>\n",
       "    <tr>\n",
       "      <th>...</th>\n",
       "      <td>...</td>\n",
       "      <td>...</td>\n",
       "      <td>...</td>\n",
       "      <td>...</td>\n",
       "      <td>...</td>\n",
       "      <td>...</td>\n",
       "      <td>...</td>\n",
       "      <td>...</td>\n",
       "      <td>...</td>\n",
       "      <td>...</td>\n",
       "      <td>...</td>\n",
       "      <td>...</td>\n",
       "      <td>...</td>\n",
       "      <td>...</td>\n",
       "      <td>...</td>\n",
       "      <td>...</td>\n",
       "      <td>...</td>\n",
       "      <td>...</td>\n",
       "      <td>...</td>\n",
       "      <td>...</td>\n",
       "    </tr>\n",
       "    <tr>\n",
       "      <th>112</th>\n",
       "      <td>1.695988e+09</td>\n",
       "      <td>CsqLYG90S5u8wUGji</td>\n",
       "      <td>192.168.0.31</td>\n",
       "      <td>55906</td>\n",
       "      <td>192.168.0.4</td>\n",
       "      <td>9200</td>\n",
       "      <td>tcp</td>\n",
       "      <td>OTH</td>\n",
       "      <td>True</td>\n",
       "      <td>True</td>\n",
       "      <td>0</td>\n",
       "      <td>DacAcTcTcT</td>\n",
       "      <td>37698</td>\n",
       "      <td>42754618</td>\n",
       "      <td>9589</td>\n",
       "      <td>383560</td>\n",
       "      <td>29664.822755</td>\n",
       "      <td>41183458</td>\n",
       "      <td>3923632</td>\n",
       "      <td>None</td>\n",
       "    </tr>\n",
       "    <tr>\n",
       "      <th>113</th>\n",
       "      <td>1.695988e+09</td>\n",
       "      <td>C3uhyF2oaouFzSjN97</td>\n",
       "      <td>192.168.0.31</td>\n",
       "      <td>56024</td>\n",
       "      <td>192.168.0.4</td>\n",
       "      <td>9200</td>\n",
       "      <td>tcp</td>\n",
       "      <td>OTH</td>\n",
       "      <td>True</td>\n",
       "      <td>True</td>\n",
       "      <td>0</td>\n",
       "      <td>DacAccc</td>\n",
       "      <td>32628</td>\n",
       "      <td>40508275</td>\n",
       "      <td>5091</td>\n",
       "      <td>203640</td>\n",
       "      <td>29650.207311</td>\n",
       "      <td>39203107</td>\n",
       "      <td>4989212</td>\n",
       "      <td>None</td>\n",
       "    </tr>\n",
       "    <tr>\n",
       "      <th>114</th>\n",
       "      <td>1.695988e+09</td>\n",
       "      <td>CaXyts2pErtFF9wXa</td>\n",
       "      <td>192.168.0.31</td>\n",
       "      <td>64349</td>\n",
       "      <td>192.168.0.4</td>\n",
       "      <td>8220</td>\n",
       "      <td>tcp</td>\n",
       "      <td>OTH</td>\n",
       "      <td>True</td>\n",
       "      <td>True</td>\n",
       "      <td>0</td>\n",
       "      <td>DcTcTAacTcT</td>\n",
       "      <td>2372</td>\n",
       "      <td>503027</td>\n",
       "      <td>362</td>\n",
       "      <td>14480</td>\n",
       "      <td>29651.999841</td>\n",
       "      <td>406240</td>\n",
       "      <td>25806</td>\n",
       "      <td>None</td>\n",
       "    </tr>\n",
       "    <tr>\n",
       "      <th>115</th>\n",
       "      <td>1.696018e+09</td>\n",
       "      <td>CiIl0H14bcFsvU5rl8</td>\n",
       "      <td>192.168.0.28</td>\n",
       "      <td>62619</td>\n",
       "      <td>52.236.189.131</td>\n",
       "      <td>443</td>\n",
       "      <td>tcp</td>\n",
       "      <td>SF</td>\n",
       "      <td>True</td>\n",
       "      <td>False</td>\n",
       "      <td>0</td>\n",
       "      <td>ShADadFRf</td>\n",
       "      <td>36</td>\n",
       "      <td>3259</td>\n",
       "      <td>23</td>\n",
       "      <td>5250</td>\n",
       "      <td>2881.177577</td>\n",
       "      <td>1807</td>\n",
       "      <td>4318</td>\n",
       "      <td>ssl</td>\n",
       "    </tr>\n",
       "    <tr>\n",
       "      <th>116</th>\n",
       "      <td>1.696017e+09</td>\n",
       "      <td>CKp1k11TDBV8LP78z8</td>\n",
       "      <td>192.168.0.4</td>\n",
       "      <td>9200</td>\n",
       "      <td>192.168.0.4</td>\n",
       "      <td>52692</td>\n",
       "      <td>tcp</td>\n",
       "      <td>OTH</td>\n",
       "      <td>True</td>\n",
       "      <td>True</td>\n",
       "      <td>0</td>\n",
       "      <td>CccCDTdtcCTtcTCt</td>\n",
       "      <td>950</td>\n",
       "      <td>19671082</td>\n",
       "      <td>354</td>\n",
       "      <td>6590072</td>\n",
       "      <td>950.978958</td>\n",
       "      <td>11236853</td>\n",
       "      <td>5558486</td>\n",
       "      <td>None</td>\n",
       "    </tr>\n",
       "  </tbody>\n",
       "</table>\n",
       "<p>117 rows × 20 columns</p>\n",
       "</div>"
      ],
      "text/plain": [
       "               ts                 uid     id.orig_h  id.orig_p  \\\n",
       "0    1.696001e+09  CthQmt3D5lmDwrRxUl  192.168.0.31      64113   \n",
       "1    1.695988e+09  CYUQe22Chebdk2ue1e  192.168.0.31      51760   \n",
       "2    1.695994e+09    CRqfCIG05qUCcFcF  192.168.0.31      55543   \n",
       "3    1.696017e+09   CfLKAp3pg8ZlCxVyk  192.168.0.95      35630   \n",
       "4    1.696017e+09  CSRhux2BwyF9SSzjDf  192.168.0.95      49344   \n",
       "..            ...                 ...           ...        ...   \n",
       "112  1.695988e+09   CsqLYG90S5u8wUGji  192.168.0.31      55906   \n",
       "113  1.695988e+09  C3uhyF2oaouFzSjN97  192.168.0.31      56024   \n",
       "114  1.695988e+09   CaXyts2pErtFF9wXa  192.168.0.31      64349   \n",
       "115  1.696018e+09  CiIl0H14bcFsvU5rl8  192.168.0.28      62619   \n",
       "116  1.696017e+09  CKp1k11TDBV8LP78z8   192.168.0.4       9200   \n",
       "\n",
       "          id.resp_h  id.resp_p proto conn_state  local_orig  local_resp  \\\n",
       "0    165.225.208.44        443   tcp       RSTR        True       False   \n",
       "1    165.225.208.44        443   tcp       RSTR        True       False   \n",
       "2    165.225.208.44        443   tcp       RSTR        True       False   \n",
       "3      34.98.105.85        443   tcp         SF        True       False   \n",
       "4     34.149.46.130        443   tcp         SF        True       False   \n",
       "..              ...        ...   ...        ...         ...         ...   \n",
       "112     192.168.0.4       9200   tcp        OTH        True        True   \n",
       "113     192.168.0.4       9200   tcp        OTH        True        True   \n",
       "114     192.168.0.4       8220   tcp        OTH        True        True   \n",
       "115  52.236.189.131        443   tcp         SF        True       False   \n",
       "116     192.168.0.4      52692   tcp        OTH        True        True   \n",
       "\n",
       "     missed_bytes           history  orig_pkts  orig_ip_bytes  resp_pkts  \\\n",
       "0               0        ShADadttfr        821          57635       1113   \n",
       "1               0         ShADdaTtr      17442        8006593      15058   \n",
       "2               0          ShADdafr       3150         757605       1603   \n",
       "3               0         ShADadtFf         20           2284         22   \n",
       "4               0         ShADadtFf         18           1960         15   \n",
       "..            ...               ...        ...            ...        ...   \n",
       "112             0        DacAcTcTcT      37698       42754618       9589   \n",
       "113             0           DacAccc      32628       40508275       5091   \n",
       "114             0       DcTcTAacTcT       2372         503027        362   \n",
       "115             0         ShADadFRf         36           3259         23   \n",
       "116             0  CccCDTdtcCTtcTCt        950       19671082        354   \n",
       "\n",
       "     resp_ip_bytes      duration  orig_bytes  resp_bytes   service  \n",
       "0            77717  16416.052616       24783       32633  http,ssl  \n",
       "1          1295176  29656.265580     7308515      692511  http,ssl  \n",
       "2           212389  23924.337346      631593      148257  http,ssl  \n",
       "3             3070    618.818055        1212        1772       ssl  \n",
       "4             6040    610.352108        1004        5213       ssl  \n",
       "..             ...           ...         ...         ...       ...  \n",
       "112         383560  29664.822755    41183458     3923632      None  \n",
       "113         203640  29650.207311    39203107     4989212      None  \n",
       "114          14480  29651.999841      406240       25806      None  \n",
       "115           5250   2881.177577        1807        4318       ssl  \n",
       "116        6590072    950.978958    11236853     5558486      None  \n",
       "\n",
       "[117 rows x 20 columns]"
      ]
     },
     "execution_count": 56,
     "metadata": {},
     "output_type": "execute_result"
    }
   ],
   "source": [
    "# Could also get the data as pandas dataframe using fetchdf command\n",
    "con.sql('SELECT * FROM conn_log WHERE duration > 600').fetchdf()"
   ]
  },
  {
   "cell_type": "code",
   "execution_count": 57,
   "metadata": {},
   "outputs": [
    {
     "data": {
      "text/plain": [
       "{'ts': array([1.69600120e+09, 1.69598807e+09, 1.69599381e+09, 1.69601715e+09,\n",
       "        1.69601719e+09, 1.69601346e+09, 1.69601430e+09, 1.69601431e+09,\n",
       "        1.69601430e+09, 1.69601430e+09, 1.69601697e+09, 1.69590235e+09,\n",
       "        1.69600940e+09, 1.69601382e+09, 1.69601381e+09, 1.69601629e+09,\n",
       "        1.69601629e+09, 1.69601629e+09, 1.69601628e+09, 1.69598578e+09,\n",
       "        1.69601540e+09, 1.69598647e+09, 1.69601273e+09, 1.69601497e+09,\n",
       "        1.69601446e+09, 1.69601716e+09, 1.69601749e+09, 1.69601794e+09,\n",
       "        1.69601685e+09, 1.69601799e+09, 1.69601096e+09, 1.69601641e+09,\n",
       "        1.69601796e+09, 1.69601811e+09, 1.69601425e+09, 1.69601362e+09,\n",
       "        1.69601431e+09, 1.69601473e+09, 1.69601412e+09, 1.69601468e+09,\n",
       "        1.69601346e+09, 1.69601859e+09, 1.69601494e+09, 1.69601503e+09,\n",
       "        1.69601208e+09, 1.69601869e+09, 1.69601463e+09, 1.69601504e+09,\n",
       "        1.69601567e+09, 1.69601501e+09, 1.69601635e+09, 1.69601431e+09,\n",
       "        1.69601846e+09, 1.69601495e+09, 1.69601869e+09, 1.69601851e+09,\n",
       "        1.69601828e+09, 1.69601880e+09, 1.69601881e+09, 1.69601898e+09,\n",
       "        1.69601908e+09, 1.69601484e+09, 1.69601441e+09, 1.69601413e+09,\n",
       "        1.69601862e+09, 1.69601793e+09, 1.69601915e+09, 1.69601500e+09,\n",
       "        1.69601920e+09, 1.69601532e+09, 1.69600213e+09, 1.69601869e+09,\n",
       "        1.69601885e+09, 1.69601865e+09, 1.69601456e+09, 1.69601808e+09,\n",
       "        1.69601532e+09, 1.69601852e+09, 1.69601897e+09, 1.69601951e+09,\n",
       "        1.69601943e+09, 1.69601954e+09, 1.69601869e+09, 1.69601545e+09,\n",
       "        1.69601947e+09, 1.69601904e+09, 1.69601628e+09, 1.69601976e+09,\n",
       "        1.69601583e+09, 1.69601627e+09, 1.69601942e+09, 1.69601997e+09,\n",
       "        1.69601875e+09, 1.69601151e+09, 1.69601639e+09, 1.69601976e+09,\n",
       "        1.69601954e+09, 1.69601997e+09, 1.69601635e+09, 1.69601690e+09,\n",
       "        1.69601501e+09, 1.69601467e+09, 1.69602029e+09, 1.69602037e+09,\n",
       "        1.69602038e+09, 1.69602038e+09, 1.69602038e+09, 1.69601290e+09,\n",
       "        1.69598788e+09, 1.69598781e+09, 1.69598784e+09, 1.69598784e+09,\n",
       "        1.69598782e+09, 1.69598784e+09, 1.69598786e+09, 1.69601828e+09,\n",
       "        1.69601664e+09]),\n",
       " 'uid': array(['CthQmt3D5lmDwrRxUl', 'CYUQe22Chebdk2ue1e', 'CRqfCIG05qUCcFcF',\n",
       "        'CfLKAp3pg8ZlCxVyk', 'CSRhux2BwyF9SSzjDf', 'C9cDe6AsEAPhEMtz3',\n",
       "        'Cz0pxS1Dc1Hyeee1oi', 'C9h2V91yAFnETUWv3d', 'C0Qevr3bZU4jN01Jxi',\n",
       "        'CqNKQg2vpiCuP7sbyc', 'CrM7pv2uiY2NktYrek', 'CtdFrS2ZW2F9TjtAV3',\n",
       "        'CpEsnc2MR7zWdNWqYg', 'CnaQLw40otQQKFxHZe', 'Cmv9p4oAl1bKlQ5l2',\n",
       "        'C3TdRY1hjdrbKHQCLf', 'CZBnvR6fVvBXxULGl', 'CdBXOM30IxSlVsK5af',\n",
       "        'C9BknK2JEVTkpDvlL9', 'CncOml3BdQQHaibTti', 'CsXH8G1gQWhBmUHig',\n",
       "        'CDlk8k1WOPCBftYas', 'CBp3M3101WDdALN5ke', 'C0IxrZ3FImk9PFE6Z3',\n",
       "        'C2xHVj4vjWrZ3Ht5Z9', 'CP4Gxo3lEsB7G78n74', 'ChX5cr1F32HRzjftq6',\n",
       "        'CSxPOt4IwUJlqIFrc3', 'CWLR8d3ReqUdvcDbYe', 'Cc58WRNsaQE05vOja',\n",
       "        'Crv6g5ORUxibg9qth', 'CcY5mb3YFvauvPR1nb', 'CyFZJ53U9V08anfZD9',\n",
       "        'CptTHj1M1BBQZ59Vn1', 'C0o6Ch4wckZERgj1tl', 'CsYHsi1weYYmiudBId',\n",
       "        'CKUQnrrB7uXsuk6K8', 'CRUDOo4VawvO4e97ah', 'CqC1Hm3RtRa3ineGPc',\n",
       "        'Cp09vA3hecmWtoTSi9', 'Ctr5nf1wIwZpFIUx0b', 'Ctmdwh1Anah8QPhjs',\n",
       "        'CMADst3Q8zRcgy2Srk', 'C2Fqgx27PL1Rwf397d', 'Ctnm3a2LvzaI1Kid9h',\n",
       "        'CHADPA2t36l4qyLCAl', 'C4HpmL3gKoMzsEHRWi', 'ClcWaZ8WDVtPINNC9',\n",
       "        'CXDbn32IbcqJNTElJi', 'C6DEUeigXC4x5uxja', 'CuvDxutRmvvBIOr93',\n",
       "        'COSkrj2DmxNGSb05Cj', 'CbWAqo1f0ODxrDRqN6', 'C1LNngZNHaZTIYI03',\n",
       "        'C4SE1B2lSxEnVSTRm1', 'C5HW4O3Eqinjy9fCzl', 'CeYQKR3mAmYjx0wfU7',\n",
       "        'CnI0qvgY3WvyHu0L8', 'CvEJDO3t71nZ52yLVd', 'CcATaV1RBO2NHzpfG9',\n",
       "        'CU69I01IObEJ0b4dOg', 'Cteebj3LqRtjm7UjSa', 'C5wAeQ1Ux2YER2Y9jj',\n",
       "        'Ci5Tbt4KYHAarIRD2k', 'CPls3J1Y5nlXp5Shak', 'CKiGE74JFo25bad4ne',\n",
       "        'CLGm4nXoD46M8LTOh', 'CALs8u2B4OtvorVtx2', 'CSxqEt05ksGDiqAMb',\n",
       "        'C9H3hH2ShlbjaN9aTj', 'CdZJGT1eyo5FnaGFuc', 'CLIVpIUXH17ADwAci',\n",
       "        'CgFUBh1qz0Bvp0m0Fh', 'C4sSm7mLvfJBInn72', 'ClxzU5hiw95EFdqp1',\n",
       "        'CQSBx84atkfkK5C7n7', 'C9XZh6BFALDm6Y9Fh', 'CWczAq4bdnTzdGCUX9',\n",
       "        'Cs8Eqr2Vqih99qOyH4', 'CquOyf4NtafUB0B0F2', 'C6ny21MQUGfONhuu1',\n",
       "        'CCsGu73hAgbpHnKLZf', 'C03mu04CbEfedz4dHk', 'Cuxdxa25P5nWSaikN6',\n",
       "        'Cpzele2NdNUsEeyJC5', 'CtGoRh2MX5YKgULwte', 'C50JjT3PTk6jo9oWol',\n",
       "        'C22zNz3jsGDNowNDz8', 'CvLPWc4PBcPBxnsfBc', 'CxuHaN3VSIH4v5Ugff',\n",
       "        'CxH4mt4U5XFVSmpnH5', 'CDRvz52QHBz9TQqHnd', 'C3NJ9dgSS8urMEX0d',\n",
       "        'CdeZqa227phYitiU6', 'Cqzjoi3F0Roq1dOuo1', 'Ct5FDL1XbvfrLjADPb',\n",
       "        'CvmRns7kez15K6Nb6', 'CUBnEWnbXoWpiq0Dh', 'ChTyW2161DbxdZyOD',\n",
       "        'CJSzdP3YIGUqdI9sYj', 'C1W8524ie0HTgdL3Oh', 'CIch5X2FcmwpJBpGz9',\n",
       "        'CJAEhb4kVn3fVmPn9h', 'CvKmic38ytsdZyBOX', 'Cigc9K3CXyC0zXeTOf',\n",
       "        'Ck2icf2YeZS9dnJ6rl', 'CqMqSw3R85pLYoGtm8', 'CwhEP81Uxlkbteq98g',\n",
       "        'Ckq79n3YM1DYlGztQj', 'C5joBY3pbKN8YCOuxd', 'CHI4O441XT8p4KCel7',\n",
       "        'Crk9iC31gRok9a9xbe', 'CsqLYG90S5u8wUGji', 'C3uhyF2oaouFzSjN97',\n",
       "        'CaXyts2pErtFF9wXa', 'CiIl0H14bcFsvU5rl8', 'CKp1k11TDBV8LP78z8'],\n",
       "       dtype=object),\n",
       " 'id.orig_h': array(['192.168.0.31', '192.168.0.31', '192.168.0.31', '192.168.0.95',\n",
       "        '192.168.0.95', '192.168.0.4', '192.168.0.95', '192.168.0.95',\n",
       "        '192.168.0.95', '192.168.0.95', '192.168.0.28', '192.168.0.31',\n",
       "        '192.168.0.4', '192.168.0.4', '192.168.0.4', '192.168.0.78',\n",
       "        '192.168.0.78', '192.168.0.78', '192.168.0.78', '192.168.0.31',\n",
       "        '192.168.0.28', '192.168.0.28', '192.168.0.4', '192.168.0.28',\n",
       "        '192.168.0.95', '192.168.0.95', '192.168.0.78', '192.168.0.31',\n",
       "        '192.168.0.95', '192.168.0.31', '192.168.0.4', '192.168.0.28',\n",
       "        '192.168.0.95', '192.168.0.95', '192.168.0.75', '192.168.0.4',\n",
       "        '192.168.0.95', '192.168.0.4', '192.168.0.4', '192.168.0.4',\n",
       "        '192.168.0.4', '192.168.0.31', '192.168.0.75', '192.168.0.4',\n",
       "        '192.168.0.31', '192.168.0.95', '192.168.0.4', '192.168.0.4',\n",
       "        '192.168.0.35', '192.168.0.4', '192.168.0.28', '192.168.0.10',\n",
       "        '192.168.0.78', '192.168.0.4', '192.168.0.95', '192.168.0.28',\n",
       "        '192.168.0.95', '192.168.0.78', '192.168.0.52', '192.168.0.4',\n",
       "        '192.168.0.24', '192.168.0.28', '192.168.0.10', '192.168.0.4',\n",
       "        '192.168.0.24', '192.168.0.31', '192.168.0.78', '192.168.0.4',\n",
       "        '192.168.0.31', '192.168.0.4', '192.168.0.78', '192.168.0.95',\n",
       "        '192.168.0.31', '192.168.0.31', '192.168.0.4', '192.168.0.28',\n",
       "        '192.168.0.4', '192.168.0.78', '192.168.0.95', '192.168.0.24',\n",
       "        '192.168.0.95', '192.168.0.95', '192.168.0.95', '192.168.0.4',\n",
       "        '192.168.0.4', '192.168.0.95', '192.168.0.28', '192.168.0.31',\n",
       "        '192.168.0.4', '192.168.0.4', '192.168.0.28', '192.168.0.95',\n",
       "        '192.168.0.28', '192.168.0.4', '192.168.0.4', '192.168.0.31',\n",
       "        '192.168.0.95', '192.168.0.78', '192.168.0.4', '192.168.0.4',\n",
       "        '192.168.0.4', '192.168.0.4', '192.168.0.31', '192.168.0.24',\n",
       "        '192.168.0.24', '192.168.0.24', '192.168.0.24', '192.168.0.31',\n",
       "        '192.168.0.31', '192.168.0.4', '192.168.0.31', '192.168.0.31',\n",
       "        '192.168.0.31', '192.168.0.31', '192.168.0.31', '192.168.0.28',\n",
       "        '192.168.0.4'], dtype=object),\n",
       " 'id.orig_p': array([64113, 51760, 55543, 35630, 49344, 45896, 36214, 42906, 45584,\n",
       "        36194, 62517, 49545, 57908, 46544,  9200, 56462, 56480, 56486,\n",
       "        59466, 61204, 62343, 50051,  9200, 62286, 43824, 47666, 40954,\n",
       "        51790, 39706, 55368, 37220, 62467, 50304, 36792, 45646, 39518,\n",
       "        47512,  9200,  9200, 35604,  9200, 55620, 33222, 53838, 62545,\n",
       "        38336,  9200, 53828, 33794, 53860, 62463, 39380, 48870,  9200,\n",
       "        38338, 62639, 35650, 58974, 54871,  9200, 35716, 53866, 37506,\n",
       "        52204, 50050, 51775, 50252, 39784, 55784,  9200, 38628, 38346,\n",
       "        55692, 55633,  9200, 62611,  9200, 46220, 49518, 41594, 35794,\n",
       "        48116, 35770,  9200,     3, 57574, 62459, 55947,  9200,  9200,\n",
       "        62723, 55324, 62668, 56062, 33002, 55946, 58298, 57702,  9200,\n",
       "         9200, 33822, 37636, 56175, 38334, 43768, 43786, 43784, 53452,\n",
       "        64402,  9200, 64292, 64293, 55906, 56024, 64349, 62619,  9200]),\n",
       " 'id.resp_h': array(['165.225.208.44', '165.225.208.44', '165.225.208.44',\n",
       "        '34.98.105.85', '34.149.46.130', '192.168.0.4', '35.190.43.134',\n",
       "        '35.241.16.93', '35.244.195.33', '35.190.43.134', '52.96.50.130',\n",
       "        '52.226.139.180', '192.168.0.4', '192.168.0.4', '192.168.0.4',\n",
       "        '52.96.230.226', '52.96.230.226', '52.96.230.226', '40.99.164.82',\n",
       "        '192.168.0.4', '52.236.189.131', '194.24.0.155', '192.168.0.4',\n",
       "        '52.96.230.82', '34.102.159.121', '18.67.16.254', '35.81.12.210',\n",
       "        '20.96.64.214', '35.190.22.22', '52.96.215.18', '192.168.0.4',\n",
       "        '52.96.215.50', '18.67.38.243', '35.190.43.134', '142.251.16.188',\n",
       "        '192.168.0.4', '3.90.122.13', '192.168.0.4', '192.168.0.4',\n",
       "        '192.168.0.4', '192.168.0.4', '20.96.64.214', '34.95.80.200',\n",
       "        '192.168.0.4', '192.168.0.4', '13.226.139.250', '192.168.0.4',\n",
       "        '192.168.0.4', '50.19.151.41', '192.168.0.4', '40.99.164.98',\n",
       "        '104.26.4.178', '142.251.41.74', '192.168.0.4', '13.226.139.250',\n",
       "        '52.96.50.98', '142.251.32.74', '77.111.246.126', '72.21.81.240',\n",
       "        '192.168.0.52', '151.101.125.91', '52.96.230.226', '89.187.183.77',\n",
       "        '192.168.0.4', '34.227.200.162', '52.96.88.226', '216.239.36.158',\n",
       "        '192.168.0.4', '20.96.64.214', '192.168.0.4', '172.253.115.188',\n",
       "        '13.226.139.250', '52.96.230.210', '52.96.230.210', '192.168.0.4',\n",
       "        '52.96.88.210', '192.168.0.4', '107.167.110.216', '34.149.46.130',\n",
       "        '31.13.80.48', '142.251.32.74', '162.159.138.232', '34.98.105.85',\n",
       "        '192.168.0.4', '192.168.0.4', '13.33.163.246', '52.96.191.146',\n",
       "        '40.99.226.162', '192.168.0.4', '192.168.0.4', '40.99.227.82',\n",
       "        '142.251.41.42', '52.123.250.159', '192.168.0.4', '192.168.0.4',\n",
       "        '40.99.226.162', '162.159.135.234', '142.251.33.170',\n",
       "        '192.168.0.4', '192.168.0.4', '192.168.0.4', '192.168.0.4',\n",
       "        '20.96.64.214', '151.101.125.44', '151.101.125.44',\n",
       "        '151.101.125.44', '151.101.125.44', '192.168.0.4', '20.7.2.167',\n",
       "        '192.168.0.31', '192.168.0.4', '192.168.0.4', '192.168.0.4',\n",
       "        '192.168.0.4', '192.168.0.4', '52.236.189.131', '192.168.0.4'],\n",
       "       dtype=object),\n",
       " 'id.resp_p': array([  443,   443,   443,   443,   443,  9200,   443,   443,   443,\n",
       "          443,   443,   443,  9200,  9200, 46590,   443,   443,   443,\n",
       "          443,    22,   443,   443, 48590,   443,   443,   443,   443,\n",
       "          443,   443,   443,  9200,   443,   443,   443,  5228,  9200,\n",
       "          443, 39332, 52214,  9200, 45158,   443,   443,  9200,    22,\n",
       "          443, 56038,  9200,   443,  9200,   443,    80,   443, 36588,\n",
       "          443,   443,   443,   443,    80, 54787,   443,   443,  8888,\n",
       "         9200,   443,   443,   443,  9200,   443, 51986,  5228,   443,\n",
       "          443,   443, 43368,   443, 52006,   443,   443,  5222,   443,\n",
       "          443,   443, 59060,     1,   443,   443,   443, 47810, 41534,\n",
       "          443,   443,   443,  9200,  9200,   443,   443,   443, 60472,\n",
       "        54714,  9200,  9200,   443,   443,   443,   443,   443,  9200,\n",
       "          443, 55874,  9200,  9200,  9200,  9200,  8220,   443, 52692]),\n",
       " 'proto': array(['tcp', 'tcp', 'tcp', 'tcp', 'tcp', 'tcp', 'tcp', 'tcp', 'tcp',\n",
       "        'tcp', 'tcp', 'tcp', 'tcp', 'tcp', 'tcp', 'tcp', 'tcp', 'tcp',\n",
       "        'tcp', 'tcp', 'tcp', 'tcp', 'tcp', 'tcp', 'tcp', 'tcp', 'tcp',\n",
       "        'tcp', 'tcp', 'tcp', 'tcp', 'tcp', 'tcp', 'tcp', 'tcp', 'tcp',\n",
       "        'tcp', 'tcp', 'tcp', 'tcp', 'tcp', 'tcp', 'tcp', 'tcp', 'tcp',\n",
       "        'tcp', 'tcp', 'tcp', 'tcp', 'tcp', 'tcp', 'tcp', 'tcp', 'tcp',\n",
       "        'tcp', 'tcp', 'tcp', 'tcp', 'tcp', 'tcp', 'tcp', 'tcp', 'tcp',\n",
       "        'tcp', 'tcp', 'tcp', 'tcp', 'tcp', 'tcp', 'tcp', 'tcp', 'tcp',\n",
       "        'tcp', 'tcp', 'tcp', 'tcp', 'tcp', 'tcp', 'tcp', 'tcp', 'tcp',\n",
       "        'tcp', 'tcp', 'tcp', 'icmp', 'tcp', 'tcp', 'tcp', 'tcp', 'tcp',\n",
       "        'tcp', 'tcp', 'tcp', 'tcp', 'tcp', 'tcp', 'tcp', 'tcp', 'tcp',\n",
       "        'tcp', 'tcp', 'tcp', 'tcp', 'tcp', 'tcp', 'tcp', 'tcp', 'tcp',\n",
       "        'tcp', 'tcp', 'tcp', 'tcp', 'tcp', 'tcp', 'tcp', 'tcp', 'tcp'],\n",
       "       dtype=object),\n",
       " 'conn_state': array(['RSTR', 'RSTR', 'RSTR', 'SF', 'SF', 'OTH', 'SF', 'SF', 'SF', 'SF',\n",
       "        'SF', 'RSTR', 'OTH', 'OTH', 'OTH', 'RSTR', 'RSTR', 'RSTR', 'RSTR',\n",
       "        'OTH', 'SF', 'SF', 'OTH', 'RSTR', 'SF', 'SF', 'RSTO', 'SF', 'SF',\n",
       "        'SF', 'OTH', 'RSTR', 'RSTO', 'SF', 'S2', 'OTH', 'SF', 'OTH', 'OTH',\n",
       "        'OTH', 'OTH', 'SF', 'S3', 'OTH', 'OTH', 'SF', 'OTH', 'OTH', 'SF',\n",
       "        'OTH', 'SF', 'SF', 'SF', 'OTH', 'SF', 'SF', 'RSTO', 'SF', 'SF',\n",
       "        'OTH', 'SF', 'SF', 'SF', 'OTH', 'RSTO', 'SF', 'SF', 'OTH', 'SF',\n",
       "        'OTH', 'S1', 'SF', 'SF', 'SF', 'OTH', 'SF', 'OTH', 'RSTO', 'SF',\n",
       "        'SF', 'SF', 'SF', 'SF', 'OTH', 'OTH', 'SF', 'SF', 'SF', 'OTH',\n",
       "        'OTH', 'SF', 'RSTO', 'RSTR', 'OTH', 'OTH', 'SF', 'SF', 'SF', 'OTH',\n",
       "        'OTH', 'OTH', 'OTH', 'SF', 'SF', 'SF', 'SF', 'SF', 'OTH', 'S1',\n",
       "        'OTH', 'OTH', 'OTH', 'OTH', 'OTH', 'OTH', 'SF', 'OTH'],\n",
       "       dtype=object),\n",
       " 'local_orig': array([ True,  True,  True,  True,  True,  True,  True,  True,  True,\n",
       "         True,  True,  True,  True,  True,  True,  True,  True,  True,\n",
       "         True,  True,  True,  True,  True,  True,  True,  True,  True,\n",
       "         True,  True,  True,  True,  True,  True,  True,  True,  True,\n",
       "         True,  True,  True,  True,  True,  True,  True,  True,  True,\n",
       "         True,  True,  True,  True,  True,  True,  True,  True,  True,\n",
       "         True,  True,  True,  True,  True,  True,  True,  True,  True,\n",
       "         True,  True,  True,  True,  True,  True,  True,  True,  True,\n",
       "         True,  True,  True,  True,  True,  True,  True,  True,  True,\n",
       "         True,  True,  True,  True,  True,  True,  True,  True,  True,\n",
       "         True,  True,  True,  True,  True,  True,  True,  True,  True,\n",
       "         True,  True,  True,  True,  True,  True,  True,  True,  True,\n",
       "         True,  True,  True,  True,  True,  True,  True,  True,  True]),\n",
       " 'local_resp': array([False, False, False, False, False,  True, False, False, False,\n",
       "        False, False, False,  True,  True,  True, False, False, False,\n",
       "        False,  True, False, False,  True, False, False, False, False,\n",
       "        False, False, False,  True, False, False, False, False,  True,\n",
       "        False,  True,  True,  True,  True, False, False,  True,  True,\n",
       "        False,  True,  True, False,  True, False, False, False,  True,\n",
       "        False, False, False, False, False,  True, False, False, False,\n",
       "         True, False, False, False,  True, False,  True, False, False,\n",
       "        False, False,  True, False,  True, False, False, False, False,\n",
       "        False, False,  True,  True, False, False, False,  True,  True,\n",
       "        False, False, False,  True,  True, False, False, False,  True,\n",
       "         True,  True,  True, False, False, False, False, False,  True,\n",
       "        False,  True,  True,  True,  True,  True,  True, False,  True]),\n",
       " 'missed_bytes': array([0, 0, 0, 0, 0, 0, 0, 0, 0, 0, 0, 0, 0, 0, 0, 0, 0, 0, 0, 0, 0, 0,\n",
       "        0, 0, 0, 0, 0, 0, 0, 0, 0, 0, 0, 0, 0, 0, 0, 0, 0, 0, 0, 0, 0, 0,\n",
       "        0, 0, 0, 0, 0, 0, 0, 0, 0, 0, 0, 0, 0, 0, 0, 0, 0, 0, 0, 0, 0, 0,\n",
       "        0, 0, 0, 0, 0, 0, 0, 0, 0, 0, 0, 0, 0, 0, 0, 0, 0, 0, 0, 0, 0, 0,\n",
       "        0, 0, 0, 0, 0, 0, 0, 0, 0, 0, 0, 0, 0, 0, 0, 0, 0, 0, 0, 0, 0, 0,\n",
       "        0, 0, 0, 0, 0, 0, 0]),\n",
       " 'history': masked_array(data=['ShADadttfr', 'ShADdaTtr', 'ShADdafr', 'ShADadtFf',\n",
       "                    'ShADadtFf', 'CcCcdtCcCc', 'ShADadtTtTFf',\n",
       "                    'ShADadtTtTtFf', 'ShADadTtTFf', 'ShADadTttFf',\n",
       "                    'ShADdaFf', 'ShADdatr', 'CcCcdtCcCcCctDTTtTA',\n",
       "                    'CcCcdtDTCtcTCctT', 'CccCDTdtcTCtcCTt', 'ShADadr',\n",
       "                    'ShADdar', 'ShADdaTr', 'ShADdtar', 'DacAc', 'ShADadFf',\n",
       "                    'ShADadTTfFr', 'CccCDTdtcCTtcCTtcC', 'ShADdar',\n",
       "                    'ShADadTtTFf', 'ShADadtfF', 'ShADadfR', 'ShADadFf',\n",
       "                    'ShADadFtf', 'ShADdaFf', 'CcCcdtCcCcCDTtTc',\n",
       "                    'ShADdaTr', 'ShADadR', 'ShADadtFf', 'ShADadF',\n",
       "                    'CcdtCcDTCctTCctTC', 'ShADadTtFfR', 'CccCDTdtcCTtcCTt',\n",
       "                    'CccCDTdtcCTtcTCtc', 'CdtcCcCcCcDT',\n",
       "                    'CccdtCDTtTctCTctC', 'ShADadFf', 'ShADadtf',\n",
       "                    'CcCcdtDTCtcTCtcT', 'Dac', 'ShADadtfF',\n",
       "                    'CccCDTdtcTCtcCTt', 'CcdtCcDTCctTCtcT', 'ShADadTtfF',\n",
       "                    'CcCcdtDTCctTCctT', 'ShADdaFf', 'ShADadFf',\n",
       "                    'ShADadfFr', 'CcdtDTcCCccC', 'ShADadttfF', 'ShADdaFf',\n",
       "                    'ShADadR', 'ShADadtTFfR', 'ShDAadtfFr', 'AR',\n",
       "                    'ShADadfF', 'ShADdaFf', 'ShADadtttTtfFr',\n",
       "                    'CcdtCcDTCtcTCtcTC', 'ShADadfR', 'ShADdaFf',\n",
       "                    'ShADadtFf', 'CcCcDTCcCcdttTCc', 'ShADadFf',\n",
       "                    'CccCDTdtcTCtcCTt', 'ShADadtt', 'ShADadtFRfR',\n",
       "                    'ShADdaFf', 'ShADdaFf', 'CccCDTdtcCTtcaCTtc',\n",
       "                    'ShADadFf', 'CccCdtDTcTCtcCTt', 'ShADadftR',\n",
       "                    'ShADadFf', 'ShADadtfF', 'ShADadFf', 'ShADadtfF',\n",
       "                    'ShADadTtFf', 'CccCDTdtcCTtcCTt', --, 'ShADadttFTfR',\n",
       "                    'ShADdaFf', 'ShADadFf', 'CccCDTdtcCTtcCTt',\n",
       "                    'CccCDTdtcCTtcCTt', 'ShADdaTFf', 'ShADadR', 'ShADadr',\n",
       "                    'CcCcdtCcCcCcDTtT', 'CcCdtcCtcC', 'ShADadFf',\n",
       "                    'ShADadtfF', 'ShADadfFr', 'CcCcDTdtcCTtcCTt',\n",
       "                    'CccCDTdtcCTtcCTtc', 'CcCcDTCcCcdtAtTtTCc',\n",
       "                    'CcCcdtCcCcDTCc', 'ShADadFf', 'ShADadftF', 'ShADadftF',\n",
       "                    'ShADadfF', 'ShADadfF', 'DaccAcc', 'ShADdatT',\n",
       "                    'CdAaCtCttCD', 'DacAccc', 'DacAcccc', 'DacAcTcTcT',\n",
       "                    'DacAccc', 'DcTcTAacTcT', 'ShADadFRf',\n",
       "                    'CccCDTdtcCTtcTCt'],\n",
       "              mask=[False, False, False, False, False, False, False, False,\n",
       "                    False, False, False, False, False, False, False, False,\n",
       "                    False, False, False, False, False, False, False, False,\n",
       "                    False, False, False, False, False, False, False, False,\n",
       "                    False, False, False, False, False, False, False, False,\n",
       "                    False, False, False, False, False, False, False, False,\n",
       "                    False, False, False, False, False, False, False, False,\n",
       "                    False, False, False, False, False, False, False, False,\n",
       "                    False, False, False, False, False, False, False, False,\n",
       "                    False, False, False, False, False, False, False, False,\n",
       "                    False, False, False, False,  True, False, False, False,\n",
       "                    False, False, False, False, False, False, False, False,\n",
       "                    False, False, False, False, False, False, False, False,\n",
       "                    False, False, False, False, False, False, False, False,\n",
       "                    False, False, False, False, False],\n",
       "        fill_value=np.str_('?'),\n",
       "             dtype=object),\n",
       " 'orig_pkts': array([   821,  17442,   3150,     20,     18,      0,   2631, 101623,\n",
       "          2886,   3371,    112,   1940,    246,    208,    712,     17,\n",
       "            29,     14,    250,     45,     36,  34178,   1814,    283,\n",
       "           762,    469,     16,     80,     26,    281,     56,    158,\n",
       "           292,     14,     19,    600,   1402,    560,   1274,      6,\n",
       "           912,     94,     11,    254,      6,    518,    978,    240,\n",
       "            92,    280,    145,    157,    246,      6,   1958,    131,\n",
       "           203,    106,      4,     10,     64,    585, 147309,    576,\n",
       "            14,     70,    132,     22,     65,    738,    355,   1465,\n",
       "           154,    475,   1470,    151,   1080,     13,     17,     33,\n",
       "            70,    106,    135,   1108,     28,    635,    352,    122,\n",
       "           956,    666,    123,    102,     16,     48,      0,    131,\n",
       "           109,     18,    556,   1176,    248,      4,     65,     15,\n",
       "            13,     19,     15,   3622,   1322,   7228,  26687, 134993,\n",
       "         37698,  32628,   2372,     36,    950]),\n",
       " 'orig_ip_bytes': array([    57635,   8006593,    757605,      2284,      1960,         0,\n",
       "          1228772,   5545672,   2271164,   2609139,     48707,    179947,\n",
       "         14588316,   3722334,  16650374,      6567,      6961,      6485,\n",
       "            18389,     26136,      3253,   9027403,  39315754,     87739,\n",
       "           264556,     38950,      3764,     68879,      5758,    187221,\n",
       "          2463060,     36432,     25753,      2393,      2102,  11062560,\n",
       "           357959,  11172460,  28454496,     66048,  10648468,     98302,\n",
       "             1683,   4384246,      2832,     38305,  21284908,   4183416,\n",
       "            99313,   5047060,     29913,     54143,     14853,    105482,\n",
       "           151623,     58655,     20574,     12950,       458,       400,\n",
       "             6524,    299229,   8215344,  10382654,      2610,      8065,\n",
       "            20945,    630676,     58821,  14085900,     25979,    124158,\n",
       "            77951,    490924,  37234842,     39760,  22401624,      1798,\n",
       "             2234,      2515,     21520,     30713,     11190,  23892870,\n",
       "            16128,     56174,    105626,     67228,  22225762,  15109798,\n",
       "            47540,     11091,      4010,   1897678,         0,     67548,\n",
       "             9001,      5027,  10891920,  24122028,  12935584,     43554,\n",
       "            58879,      2342,      2192,      2240,      2012,   4019502,\n",
       "            86325,    289124,  31708936, 179434842,  42754618,  40508275,\n",
       "           503027,      3259,  19671082]),\n",
       " 'resp_pkts': array([  1113,  15058,   1603,     22,     15,      8,   3102, 198999,\n",
       "          3173,   4730,    104,    993,    422,    524,    260,     18,\n",
       "            42,     12,    262,     18,     26,  46280,    704,    299,\n",
       "           858,    825,     14,     53,     25,    330,    154,    156,\n",
       "           981,     15,     19,   1446,   1422,    222,    448,      6,\n",
       "          4678,     55,     22,    768,      4,   1265,    350,    594,\n",
       "            52,    652,    236,    160,    294,      6,   8123,    165,\n",
       "           191,    188,     14,      0,    186,   1225, 836146,   1526,\n",
       "            15,    152,    174,     78,     41,    280,    404,   7921,\n",
       "           144,    325,    562,    149,    448,     12,     13,     34,\n",
       "            79,    103,    136,    392,      0,    933,    341,    115,\n",
       "           322,    244,    173,     95,     98,     92,    126,    127,\n",
       "            97,     21,    214,    424,    274,     12,     41,     16,\n",
       "            15,     24,     18,   1019,    723,  26008,   4444,  14664,\n",
       "          9589,   5091,    362,     23,    354]),\n",
       " 'resp_ip_bytes': array([     77717,    1295176,     212389,       3070,       6040,\n",
       "            158640,     381324,  282826980,     210558,    3203393,\n",
       "             25519,     214632,   25438746,    9935096,    4730652,\n",
       "             15995,      50010,       7021,     379438,        720,\n",
       "              5318,   15126779,   12627032,      55563,     179608,\n",
       "            901655,       7374,      18073,       2661,     114736,\n",
       "           8560922,      24859,    1410851,       2211,       7195,\n",
       "          29531868,     677658,    4072812,    7766818,      73256,\n",
       "          76869140,      16009,       7865,   18991998,        160,\n",
       "           1820608,    6369856,   12461076,      11201,   13044600,\n",
       "             71821,      84887,     407903,      66600,   11867663,\n",
       "             88037,      19097,      23721,       3185,          0,\n",
       "            258522,    1085411, 1253112745,   31306180,       8063,\n",
       "             60002,      18777,    4048282,      15052,    5244966,\n",
       "            195177,   11480765,      35925,      76896,   12329942,\n",
       "             25757,    7873282,       4187,       1909,       2701,\n",
       "             13357,      25193,      68400,    7042162,          0,\n",
       "           1296210,      64948,      33326,    5637276,    4413000,\n",
       "            117140,      10251,     136366,    4374084,    5736558,\n",
       "             29609,      42728,       8450,    3795904,    7768568,\n",
       "          16802364,     268902,      15052,       5595,       5543,\n",
       "             17275,       5524,      40760,     161477,   28472103,\n",
       "            177760,     586560,     383560,     203640,      14480,\n",
       "              5250,    6590072]),\n",
       " 'duration': array([ 16416.05261588,  29656.26557994,  23924.33734584,    618.81805515,\n",
       "           610.352108  ,    829.5498898 ,   3605.96328497,   3600.56226301,\n",
       "          3633.84080005,   3635.44898009,    972.82387495, 115607.9846251 ,\n",
       "          4970.05280304,    679.62907481,    695.9717679 ,   1862.91243291,\n",
       "          1862.29763103,   1865.88093209,   1876.59867692,  28853.10004807,\n",
       "          2881.20179701,  28258.32541895,   1998.34650016,   3365.57977509,\n",
       "          3889.55941296,   1325.58857512,   1003.41423512,    600.35030484,\n",
       "          1704.56207609,    614.54094195,   4064.34999895,   2253.80500698,\n",
       "           755.80996895,    610.48898816,    877.10647511,   1665.779773  ,\n",
       "          4625.17991686,    713.97546315,   1325.99839091,    785.79089713,\n",
       "          2040.00601506,    600.36295295,    665.50247788,    610.02803302,\n",
       "          3600.14113307,    604.66556406,   1068.26831698,    660.32596087,\n",
       "          3629.06239104,    739.43149686,   3024.2640841 ,   5082.80937409,\n",
       "           966.3035109 ,    935.89841604,    828.7093749 ,   1022.86397386,\n",
       "          1270.65930796,    790.9091239 ,    786.52234006,    681.98394585,\n",
       "           610.23214698,   4855.72319102,   5296.9582901 ,   2013.96344304,\n",
       "          1116.15156317,   1800.19127202,    618.72871113,   1201.52811909,\n",
       "           607.01130009,    944.92798209,  14162.37525392,   1219.315979  ,\n",
       "          1077.736274  ,   1279.54936695,   1788.02376699,   1899.23894882,\n",
       "          1085.9575069 ,   1508.0449369 ,   1052.59375405,    600.52335906,\n",
       "           777.37241197,    705.1015172 ,   1589.80913305,   1235.99428511,\n",
       "           757.75594783,   1246.82486415,   4164.48621106,    719.41460681,\n",
       "          1059.06381392,    626.96298409,   1164.0153842 ,    642.01859903,\n",
       "          1867.09755397,   5512.54256797,    648.38938808,    885.27542591,\n",
       "          1112.21140289,    713.33373284,    797.93210888,   1406.97733784,\n",
       "          2238.329252  ,   2607.00379109,    606.98927617,    610.20223403,\n",
       "           610.24447703,    610.21324492,    610.21424198,   4567.86740804,\n",
       "         29591.701334  ,  29665.03855085,  29640.22217488,  29641.36310101,\n",
       "         29664.82275486,  29650.20731091,  29651.99984121,   2881.17757702,\n",
       "           950.97895813]),\n",
       " 'orig_bytes': array([    24783,   7308515,    631593,      1212,      1004,         0,\n",
       "          1085598,    238732,   2109815,   2430560,     44215,    102335,\n",
       "         11167726,   3078139,   9315244,      5675,      5445,      5384,\n",
       "             5325,     24336,      1801,   7659535,  22341597,     76407,\n",
       "           214373,     14530,      2912,     65667,      4386,    175969,\n",
       "          7161457,     28640,     10561,      1645,      1106,   9224914,\n",
       "           280731,   6516843,  16060251,    973502,   5453707,     94530,\n",
       "             1103,   3943604,      2592,     11337,  12084867,   3664513,\n",
       "            93061,   4084824,     24101,     45971,      2053,   1172906,\n",
       "            45835,     53403,     10010,      7392,       286,         1,\n",
       "             3176,    275817,    401570,   8812636,      1862,      5253,\n",
       "            14061,   3083252,     56209,   8134866,      7415,     48222,\n",
       "            71779,    471912,  20690299,     33708,  12734710,      1090,\n",
       "             1342,       755,     17872,     25157,      3943,  13502193,\n",
       "            15344,     22851,     91534,     62336,  12420021,   8438373,\n",
       "            41148,      5779,      3358,   5328214,         0,     62296,\n",
       "             3241,      4083,   6368914,  13858322,  11450022,   5502697,\n",
       "            56267,      1542,      1496,      1232,      1212,   3874622,\n",
       "            33377,   3773030,  30641456, 174035086,  41183458,  39203107,\n",
       "           406240,      1807,  11236853]),\n",
       " 'resp_bytes': array([     32633,     692511,     148257,       1772,       5213,\n",
       "           1130643,     217061,  272326569,      44965,    2949340,\n",
       "             21347,     173088,   18961304,    5742815,    4050431,\n",
       "             15063,      47830,       6389,     356082,      21888,\n",
       "              4254,   13275555,   10672901,      43591,     134526,\n",
       "            858685,       6638,      15941,       1280,     101524,\n",
       "           9662201,      18595,    1359831,       1350,       6187,\n",
       "          17026298,     598057,    3517214,    6837373,    1032674,\n",
       "          42930477,      13797,       5832,   10519622,       2784,\n",
       "           1753706,    5449864,    7184154,       8407,    7503355,\n",
       "             62369,      76559,     392619,    1991005,   11430834,\n",
       "             81425,       9157,      13891,        289,          0,\n",
       "            248842,    1036399, 1207605466,   17918152,       7275,\n",
       "             53910,       9683,    3336221,      13400,    4416270,\n",
       "            165745,   11067542,      30153,      63884,    9406903,\n",
       "             19785,    6579965,       3531,       1225,        808,\n",
       "              9241,      19528,      61143,    6010055,          0,\n",
       "           1246798,      51296,      28714,    4922840,    3628765,\n",
       "            110196,       5303,     132434,    8959772,    3093656,\n",
       "             24517,      37019,       7374,    3359739,    6749358,\n",
       "          10930281,    3724121,      13400,       4731,       4731,\n",
       "             16019,       4580,    9237265,     132533,   27431294,\n",
       "           3466091,   20021013,    3923632,    4989212,      25806,\n",
       "              4318,    5558486]),\n",
       " 'service': masked_array(data=['http,ssl', 'http,ssl', 'http,ssl', 'ssl', 'ssl', --,\n",
       "                    'ssl', 'ssl', 'ssl', 'ssl', 'ssl', 'ssl', --, --, --,\n",
       "                    'ssl', 'ssl', 'ssl', 'ssl', --, 'ssl', 'ssl', --,\n",
       "                    'ssl', 'ssl', 'ssl', 'ssl', 'ssl', 'ssl', 'ssl', --,\n",
       "                    'ssl', 'ssl', 'ssl', 'ssl', --, 'ssl', --, --, --, --,\n",
       "                    'ssl', 'ssl', --, --, 'ssl', --, --, 'ssl', --, 'ssl',\n",
       "                    'http', 'ssl', --, 'ssl', 'ssl', 'ssl', 'ssl', 'http',\n",
       "                    --, 'ssl', 'ssl', 'http', --, 'ssl', 'ssl', 'ssl', --,\n",
       "                    'ssl', --, 'ssl', 'ssl', 'ssl', 'ssl', --, 'ssl', --,\n",
       "                    'ssl', 'ssl', --, 'ssl', 'ssl', 'ssl', --, --, 'ssl',\n",
       "                    'ssl', 'ssl', --, --, 'ssl', 'ssl', 'ssl', --, --,\n",
       "                    'ssl', 'ssl', 'ssl', --, --, --, --, 'ssl', 'ssl',\n",
       "                    'ssl', 'ssl', 'ssl', --, 'ssl', --, --, --, --, --, --,\n",
       "                    'ssl', --],\n",
       "              mask=[False, False, False, False, False,  True, False, False,\n",
       "                    False, False, False, False,  True,  True,  True, False,\n",
       "                    False, False, False,  True, False, False,  True, False,\n",
       "                    False, False, False, False, False, False,  True, False,\n",
       "                    False, False, False,  True, False,  True,  True,  True,\n",
       "                     True, False, False,  True,  True, False,  True,  True,\n",
       "                    False,  True, False, False, False,  True, False, False,\n",
       "                    False, False, False,  True, False, False, False,  True,\n",
       "                    False, False, False,  True, False,  True, False, False,\n",
       "                    False, False,  True, False,  True, False, False,  True,\n",
       "                    False, False, False,  True,  True, False, False, False,\n",
       "                     True,  True, False, False, False,  True,  True, False,\n",
       "                    False, False,  True,  True,  True,  True, False, False,\n",
       "                    False, False, False,  True, False,  True,  True,  True,\n",
       "                     True,  True,  True, False,  True],\n",
       "        fill_value=np.str_('?'),\n",
       "             dtype=object)}"
      ]
     },
     "execution_count": 57,
     "metadata": {},
     "output_type": "execute_result"
    }
   ],
   "source": [
    "# We can also convert this data to numpy array if we wish\n",
    "con.sql('SELECT * FROM conn_log WHERE duration > 600').fetchnumpy()"
   ]
  },
  {
   "cell_type": "code",
   "execution_count": 58,
   "metadata": {},
   "outputs": [
    {
     "data": {
      "text/plain": [
       "┌──────────────────┬────────────────────┬─────────────┬───────────┬─────────────┬───────────┬─────────┬────────────┬────────────┬────────────┬──────────────┬─────────┬───────────┬───────────────┬───────────┬───────────────┬───────────────────┬────────────┬────────────┬─────────┐\n",
       "│        ts        │        uid         │  id.orig_h  │ id.orig_p │  id.resp_h  │ id.resp_p │  proto  │ conn_state │ local_orig │ local_resp │ missed_bytes │ history │ orig_pkts │ orig_ip_bytes │ resp_pkts │ resp_ip_bytes │     duration      │ orig_bytes │ resp_bytes │ service │\n",
       "│      double      │      varchar       │   varchar   │   int64   │   varchar   │   int64   │ varchar │  varchar   │  boolean   │  boolean   │    int64     │ varchar │   int64   │     int64     │   int64   │     int64     │      double       │   int64    │   int64    │ varchar │\n",
       "├──────────────────┼────────────────────┼─────────────┼───────────┼─────────────┼───────────┼─────────┼────────────┼────────────┼────────────┼──────────────┼─────────┼───────────┼───────────────┼───────────┼───────────────┼───────────────────┼────────────┼────────────┼─────────┤\n",
       "│ 1696019471.58856 │ Cpzele2NdNUsEeyJC5 │ 192.168.0.4 │         3 │ 192.168.0.4 │         1 │ icmp    │ OTH        │ true       │ true       │            0 │ NULL    │        28 │         16128 │         0 │             0 │ 757.7559478282928 │      15344 │          0 │ NULL    │\n",
       "└──────────────────┴────────────────────┴─────────────┴───────────┴─────────────┴───────────┴─────────┴────────────┴────────────┴────────────┴──────────────┴─────────┴───────────┴───────────────┴───────────┴───────────────┴───────────────────┴────────────┴────────────┴─────────┘"
      ]
     },
     "execution_count": 58,
     "metadata": {},
     "output_type": "execute_result"
    }
   ],
   "source": [
    "# Earlier above, we said these dataframes can be queried as if they were SQL tables. Let us verify that\n",
    "# Finding records that are not TCP traffic\n",
    "duckdb.sql(\"SELECT * FROM tmp_df WHERE proto != 'tcp' \")"
   ]
  },
  {
   "cell_type": "code",
   "execution_count": 59,
   "metadata": {},
   "outputs": [
    {
     "data": {
      "text/plain": [
       "┌───────┬──────────┬─────────┬─────────┬────────────────────────┬─────────┐\n",
       "│  cid  │   name   │  type   │ notnull │       dflt_value       │   pk    │\n",
       "│ int32 │ varchar  │ varchar │ boolean │        varchar         │ boolean │\n",
       "├───────┼──────────┼─────────┼─────────┼────────────────────────┼─────────┤\n",
       "│     0 │ id       │ INTEGER │ true    │ nextval('id_sequence') │ true    │\n",
       "│     1 │ fname    │ VARCHAR │ false   │ NULL                   │ false   │\n",
       "│     2 │ lname    │ VARCHAR │ false   │ NULL                   │ false   │\n",
       "│     3 │ username │ VARCHAR │ false   │ NULL                   │ false   │\n",
       "└───────┴──────────┴─────────┴─────────┴────────────────────────┴─────────┘"
      ]
     },
     "execution_count": 59,
     "metadata": {},
     "output_type": "execute_result"
    }
   ],
   "source": [
    "# Let's now advance our skills a bit,\n",
    "# We know from earlier there is a relationship between users and bloggers\n",
    "# We see the id column is a primary key\n",
    "con.sql(query='PRAGMA table_info(users)')"
   ]
  },
  {
   "cell_type": "code",
   "execution_count": 60,
   "metadata": {},
   "outputs": [
    {
     "data": {
      "text/plain": [
       "┌───────┬──────────┬─────────┬─────────┬────────────────────────┬─────────┐\n",
       "│  cid  │   name   │  type   │ notnull │       dflt_value       │   pk    │\n",
       "│ int32 │ varchar  │ varchar │ boolean │        varchar         │ boolean │\n",
       "├───────┼──────────┼─────────┼─────────┼────────────────────────┼─────────┤\n",
       "│     0 │ id       │ INTEGER │ true    │ nextval('id_sequence') │ true    │\n",
       "│     1 │ username │ VARCHAR │ false   │ NULL                   │ false   │\n",
       "│     2 │ blog_url │ VARCHAR │ false   │ NULL                   │ false   │\n",
       "│     3 │ user_id  │ INTEGER │ false   │ NULL                   │ false   │\n",
       "└───────┴──────────┴─────────┴─────────┴────────────────────────┴─────────┘"
      ]
     },
     "execution_count": 60,
     "metadata": {},
     "output_type": "execute_result"
    }
   ],
   "source": [
    "# Similarly, we see the id column is a primary key\n",
    "con.sql(query='PRAGMA table_info(bloggers)')"
   ]
  },
  {
   "cell_type": "code",
   "execution_count": 61,
   "metadata": {},
   "outputs": [
    {
     "data": {
      "text/plain": [
       "┌────────────────────┬───────────────────┬──────────────────────────┬───────────────┬──────────────┬────────────┬─────────────┬──────────────────┬───────────────────────────────┐\n",
       "│ constraint_catalog │ constraint_schema │     constraint_name      │ table_catalog │ table_schema │ table_name │ column_name │ ordinal_position │ position_in_unique_constraint │\n",
       "│      varchar       │      varchar      │         varchar          │    varchar    │   varchar    │  varchar   │   varchar   │      int64       │             int32             │\n",
       "├────────────────────┼───────────────────┼──────────────────────────┼───────────────┼──────────────┼────────────┼─────────────┼──────────────────┼───────────────────────────────┤\n",
       "│ securitynik        │ main              │ bloggers_user_id_id_fkey │ securitynik   │ main         │ bloggers   │ user_id     │                1 │                             1 │\n",
       "│ securitynik        │ main              │ bloggers_id_pkey         │ securitynik   │ main         │ bloggers   │ id          │                1 │                          NULL │\n",
       "└────────────────────┴───────────────────┴──────────────────────────┴───────────────┴──────────────┴────────────┴─────────────┴──────────────────┴───────────────────────────────┘"
      ]
     },
     "execution_count": 61,
     "metadata": {},
     "output_type": "execute_result"
    }
   ],
   "source": [
    "# We can see the 3rd column below represents show the primary and foreign key columns\n",
    "con.sql(query='''SELECT * FROM INFORMATION_SCHEMA.KEY_COLUMN_USAGE WHERE TABLE_NAME='bloggers' ''')"
   ]
  },
  {
   "cell_type": "code",
   "execution_count": 62,
   "metadata": {},
   "outputs": [
    {
     "data": {
      "text/plain": [
       "┌───────┬─────────────────────┬─────────────────────┬────────────────────────┐\n",
       "│  id   │        fname        │        lname        │        username        │\n",
       "│ int32 │       varchar       │       varchar       │        varchar         │\n",
       "├───────┼─────────────────────┼─────────────────────┼────────────────────────┤\n",
       "│     4 │ guest_fname         │ guest_lname         │ guest_username         │\n",
       "│     5 │ anotehr_guest_fname │ anotehr_guest_lname │ anotehr_guest_username │\n",
       "│     6 │ you                 │ me                  │ somebody               │\n",
       "│     1 │ Security            │ Nik                 │ securitynik            │\n",
       "│     2 │ nik                 │ Alleyne             │ nika                   │\n",
       "│     3 │ SANS                │ Training            │ sans                   │\n",
       "│     7 │ Saadia              │ K                   │ sk                     │\n",
       "│     8 │ Tren                │ A                   │ tba                    │\n",
       "│     9 │ Pam                 │ K                   │ pk                     │\n",
       "│    10 │ User                │ Guest               │ guest                  │\n",
       "├───────┴─────────────────────┴─────────────────────┴────────────────────────┤\n",
       "│ 10 rows                                                          4 columns │\n",
       "└────────────────────────────────────────────────────────────────────────────┘"
      ]
     },
     "execution_count": 62,
     "metadata": {},
     "output_type": "execute_result"
    }
   ],
   "source": [
    "# Let us create some joins between those two tables now\n",
    "# but before we do, lets revisit our table outputs so they are infront of us\n",
    "con.sql(query=''' SELECT * FROM users''')"
   ]
  },
  {
   "cell_type": "code",
   "execution_count": 63,
   "metadata": {},
   "outputs": [
    {
     "data": {
      "text/plain": [
       "┌───────┬─────────────┬─────────────────────────┬─────────┐\n",
       "│  id   │  username   │        blog_url         │ user_id │\n",
       "│ int32 │   varchar   │         varchar         │  int32  │\n",
       "├───────┼─────────────┼─────────────────────────┼─────────┤\n",
       "│     2 │ securitynik │ securitynik.blogspot.ca │       1 │\n",
       "│     1 │ securitynik │ www.securitynik.com     │       1 │\n",
       "│     3 │ pk          │ www.pk.local            │       3 │\n",
       "│     4 │ nta         │ www.nta.local           │       3 │\n",
       "│     5 │ nsa         │ www.nsa.local           │       4 │\n",
       "│     6 │ nsa         │ nsa.local               │       4 │\n",
       "│     7 │ test        │ 404.local               │      10 │\n",
       "└───────┴─────────────┴─────────────────────────┴─────────┘"
      ]
     },
     "execution_count": 63,
     "metadata": {},
     "output_type": "execute_result"
    }
   ],
   "source": [
    "# Do the same thing with bloggers\n",
    "con.sql(query=''' SELECT * FROM bloggers''')"
   ]
  },
  {
   "cell_type": "code",
   "execution_count": 64,
   "metadata": {},
   "outputs": [
    {
     "data": {
      "text/plain": [
       "┌───────┬─────────┬─────────────┬─────────────────────────┐\n",
       "│  id   │ user_id │    fname    │        blog_url         │\n",
       "│ int32 │  int32  │   varchar   │         varchar         │\n",
       "├───────┼─────────┼─────────────┼─────────────────────────┤\n",
       "│     1 │       1 │ Security    │ securitynik.blogspot.ca │\n",
       "│     1 │       1 │ Security    │ www.securitynik.com     │\n",
       "│     3 │       3 │ SANS        │ www.pk.local            │\n",
       "│     3 │       3 │ SANS        │ www.nta.local           │\n",
       "│     4 │       4 │ guest_fname │ www.nsa.local           │\n",
       "│     4 │       4 │ guest_fname │ nsa.local               │\n",
       "│    10 │      10 │ User        │ 404.local               │\n",
       "└───────┴─────────┴─────────────┴─────────────────────────┘"
      ]
     },
     "execution_count": 64,
     "metadata": {},
     "output_type": "execute_result"
    }
   ],
   "source": [
    "# Perform the inner join, showing the matches on the primary and foreign key\n",
    "# Only where the two table matches\n",
    "# https://jordan-hay.github.io/jekyll/update/data/2024/09/22/duckdb.html\n",
    "\n",
    "con.sql(query=''' SELECT users.id, bloggers.user_id, users.fname, bloggers.blog_url \n",
    "        FROM bloggers \n",
    "        INNER JOIN users \n",
    "        ON users.id=bloggers.user_id\n",
    "        ORDER BY users.id; ''')"
   ]
  },
  {
   "cell_type": "code",
   "execution_count": 65,
   "metadata": {},
   "outputs": [
    {
     "data": {
      "text/plain": [
       "┌───────┬─────────┬─────────────────────┬─────────────────────────┐\n",
       "│  id   │ user_id │        fname        │        blog_url         │\n",
       "│ int32 │  int32  │       varchar       │         varchar         │\n",
       "├───────┼─────────┼─────────────────────┼─────────────────────────┤\n",
       "│     1 │       1 │ Security            │ securitynik.blogspot.ca │\n",
       "│     1 │       1 │ Security            │ www.securitynik.com     │\n",
       "│     2 │    NULL │ nik                 │ NULL                    │\n",
       "│     3 │       3 │ SANS                │ www.nta.local           │\n",
       "│     3 │       3 │ SANS                │ www.pk.local            │\n",
       "│     4 │       4 │ guest_fname         │ nsa.local               │\n",
       "│     4 │       4 │ guest_fname         │ www.nsa.local           │\n",
       "│     5 │    NULL │ anotehr_guest_fname │ NULL                    │\n",
       "│     6 │    NULL │ you                 │ NULL                    │\n",
       "│     7 │    NULL │ Saadia              │ NULL                    │\n",
       "│     8 │    NULL │ Tren                │ NULL                    │\n",
       "│     9 │    NULL │ Pam                 │ NULL                    │\n",
       "│    10 │      10 │ User                │ 404.local               │\n",
       "├───────┴─────────┴─────────────────────┴─────────────────────────┤\n",
       "│ 13 rows                                               4 columns │\n",
       "└─────────────────────────────────────────────────────────────────┘"
      ]
     },
     "execution_count": 65,
     "metadata": {},
     "output_type": "execute_result"
    }
   ],
   "source": [
    "# Perform the left join\n",
    "# Return all records on the left and the matching ones on the right\n",
    "con.sql(query=''' SELECT users.id, bloggers.user_id, users.fname, bloggers.blog_url \n",
    "        FROM users\n",
    "        LEFT JOIN bloggers ON users.id=bloggers.user_id,\n",
    "        ORDER BY users.id; ''')"
   ]
  },
  {
   "cell_type": "code",
   "execution_count": 66,
   "metadata": {},
   "outputs": [
    {
     "data": {
      "text/plain": [
       "┌───────┬─────────┬─────────────┬─────────────────────────┐\n",
       "│  id   │ user_id │    fname    │        blog_url         │\n",
       "│ int32 │  int32  │   varchar   │         varchar         │\n",
       "├───────┼─────────┼─────────────┼─────────────────────────┤\n",
       "│     1 │       1 │ Security    │ securitynik.blogspot.ca │\n",
       "│     1 │       1 │ Security    │ www.securitynik.com     │\n",
       "│     3 │       3 │ SANS        │ www.pk.local            │\n",
       "│     3 │       3 │ SANS        │ www.nta.local           │\n",
       "│     4 │       4 │ guest_fname │ www.nsa.local           │\n",
       "│     4 │       4 │ guest_fname │ nsa.local               │\n",
       "│    10 │      10 │ User        │ 404.local               │\n",
       "└───────┴─────────┴─────────────┴─────────────────────────┘"
      ]
     },
     "execution_count": 66,
     "metadata": {},
     "output_type": "execute_result"
    }
   ],
   "source": [
    "# Perform the right join\n",
    "# Return all records on the right and the matching ones on the left\n",
    "con.sql(query=''' SELECT users.id, bloggers.user_id, users.fname, bloggers.blog_url \n",
    "        FROM users\n",
    "        RIGHT JOIN bloggers ON users.id=bloggers.user_id,\n",
    "        ORDER BY users.id; ''')"
   ]
  },
  {
   "cell_type": "code",
   "execution_count": 67,
   "metadata": {},
   "outputs": [
    {
     "data": {
      "text/plain": [
       "┌───────┬─────────────────────────┐\n",
       "│  id   │          fname          │\n",
       "│ int32 │         varchar         │\n",
       "├───────┼─────────────────────────┤\n",
       "│     5 │ www.nsa.local           │\n",
       "│     1 │ www.securitynik.com     │\n",
       "│     4 │ www.nta.local           │\n",
       "│     2 │ securitynik.blogspot.ca │\n",
       "│     3 │ www.pk.local            │\n",
       "│     2 │ nik                     │\n",
       "│     6 │ nsa.local               │\n",
       "│     7 │ 404.local               │\n",
       "└───────┴─────────────────────────┘"
      ]
     },
     "execution_count": 67,
     "metadata": {},
     "output_type": "execute_result"
    }
   ],
   "source": [
    "# Run the UNION\n",
    "con.sql(query=''' SELECT users.id, users.fname \n",
    "        FROM users WHERE fname='nik' \n",
    "        UNION SELECT bloggers.id, blog_url \n",
    "        FROM bloggers   ''')"
   ]
  },
  {
   "cell_type": "code",
   "execution_count": 68,
   "metadata": {},
   "outputs": [
    {
     "data": {
      "text/plain": [
       "┌───────┬─────────┬─────────────────────┐\n",
       "│  id   │ user_id │        fname        │\n",
       "│ int32 │  int32  │       varchar       │\n",
       "├───────┼─────────┼─────────────────────┤\n",
       "│     4 │       4 │ guest_fname         │\n",
       "│     1 │       1 │ Security            │\n",
       "│     3 │       3 │ SANS                │\n",
       "│    10 │      10 │ User                │\n",
       "│     4 │       4 │ guest_fname         │\n",
       "│     1 │       1 │ Security            │\n",
       "│     3 │       3 │ SANS                │\n",
       "│     5 │    NULL │ anotehr_guest_fname │\n",
       "│     6 │    NULL │ you                 │\n",
       "│     2 │    NULL │ nik                 │\n",
       "│     7 │    NULL │ Saadia              │\n",
       "│     8 │    NULL │ Tren                │\n",
       "│     9 │    NULL │ Pam                 │\n",
       "├───────┴─────────┴─────────────────────┤\n",
       "│ 13 rows                     3 columns │\n",
       "└───────────────────────────────────────┘"
      ]
     },
     "execution_count": 68,
     "metadata": {},
     "output_type": "execute_result"
    }
   ],
   "source": [
    "# Run the FULL OUTER\n",
    "# Return all rows from both tables\n",
    "con.sql(query=''' SELECT users.id, bloggers.user_id, users.fname \n",
    "        FROM users \n",
    "        FULL OUTER JOIN bloggers  \n",
    "        ON users.id=bloggers.user_id ''')"
   ]
  },
  {
   "cell_type": "code",
   "execution_count": 69,
   "metadata": {},
   "outputs": [
    {
     "data": {
      "text/plain": [
       "┌───────┬─────────┬─────────────────────┐\n",
       "│  id   │ user_id │        fname        │\n",
       "│ int32 │  int32  │       varchar       │\n",
       "├───────┼─────────┼─────────────────────┤\n",
       "│     5 │    NULL │ anotehr_guest_fname │\n",
       "│     6 │    NULL │ you                 │\n",
       "│     2 │    NULL │ nik                 │\n",
       "│     7 │    NULL │ Saadia              │\n",
       "│     8 │    NULL │ Tren                │\n",
       "│     9 │    NULL │ Pam                 │\n",
       "└───────┴─────────┴─────────────────────┘"
      ]
     },
     "execution_count": 69,
     "metadata": {},
     "output_type": "execute_result"
    }
   ],
   "source": [
    "# Another full outer\n",
    "# This time non-matching records only\n",
    "con.sql(query=''' SELECT users.id, bloggers.user_id, users.fname \n",
    "        FROM users \n",
    "        FULL OUTER JOIN bloggers  \n",
    "        ON users.id=bloggers.user_id \n",
    "        WHERE users.id IS NULL OR bloggers.user_id IS NULL''')"
   ]
  },
  {
   "cell_type": "code",
   "execution_count": 70,
   "metadata": {},
   "outputs": [],
   "source": [
    "# Enough of joins,\n",
    "# Ending this session\n",
    "con.close()"
   ]
  },
  {
   "cell_type": "code",
   "execution_count": null,
   "metadata": {},
   "outputs": [],
   "source": []
  },
  {
   "cell_type": "code",
   "execution_count": 71,
   "metadata": {},
   "outputs": [
    {
     "data": {
      "text/plain": [
       "┌───────┬───────────────┬──────────────┬───────────────┬──────────────┬─────────────┐\n",
       "│  Id   │ SepalLengthCm │ SepalWidthCm │ PetalLengthCm │ PetalWidthCm │   Species   │\n",
       "│ int64 │    double     │    double    │    double     │    double    │   varchar   │\n",
       "├───────┼───────────────┼──────────────┼───────────────┼──────────────┼─────────────┤\n",
       "│     1 │           5.1 │          3.5 │           1.4 │          0.2 │ Iris-setosa │\n",
       "│     2 │           4.9 │          3.0 │           1.4 │          0.2 │ Iris-setosa │\n",
       "│     3 │           4.7 │          3.2 │           1.3 │          0.2 │ Iris-setosa │\n",
       "│     4 │           4.6 │          3.1 │           1.5 │          0.2 │ Iris-setosa │\n",
       "│     5 │           5.0 │          3.6 │           1.4 │          0.2 │ Iris-setosa │\n",
       "│     6 │           5.4 │          3.9 │           1.7 │          0.4 │ Iris-setosa │\n",
       "│     7 │           4.6 │          3.4 │           1.4 │          0.3 │ Iris-setosa │\n",
       "│     8 │           5.0 │          3.4 │           1.5 │          0.2 │ Iris-setosa │\n",
       "│     9 │           4.4 │          2.9 │           1.4 │          0.2 │ Iris-setosa │\n",
       "│    10 │           4.9 │          3.1 │           1.5 │          0.1 │ Iris-setosa │\n",
       "├───────┴───────────────┴──────────────┴───────────────┴──────────────┴─────────────┤\n",
       "│ 10 rows                                                                 6 columns │\n",
       "└───────────────────────────────────────────────────────────────────────────────────┘"
      ]
     },
     "execution_count": 71,
     "metadata": {},
     "output_type": "execute_result"
    }
   ],
   "source": [
    "# Let us read a file from remote \n",
    "# Define the Iris URL\n",
    "iris_con = duckdb.sql(\"SELECT * FROM 'https://raw.githubusercontent.com/SecurityNik/Data-Science-and-ML/refs/heads/main/DATASETS/Iris.csv', LIMIT 10\")\n",
    "iris_con"
   ]
  },
  {
   "cell_type": "code",
   "execution_count": 72,
   "metadata": {},
   "outputs": [
    {
     "data": {
      "text/html": [
       "<div>\n",
       "<style scoped>\n",
       "    .dataframe tbody tr th:only-of-type {\n",
       "        vertical-align: middle;\n",
       "    }\n",
       "\n",
       "    .dataframe tbody tr th {\n",
       "        vertical-align: top;\n",
       "    }\n",
       "\n",
       "    .dataframe thead th {\n",
       "        text-align: right;\n",
       "    }\n",
       "</style>\n",
       "<table border=\"1\" class=\"dataframe\">\n",
       "  <thead>\n",
       "    <tr style=\"text-align: right;\">\n",
       "      <th></th>\n",
       "      <th>SepalLengthCm</th>\n",
       "      <th>PetalLengthCm</th>\n",
       "      <th>Species</th>\n",
       "    </tr>\n",
       "  </thead>\n",
       "  <tbody>\n",
       "    <tr>\n",
       "      <th>0</th>\n",
       "      <td>5.1</td>\n",
       "      <td>1.4</td>\n",
       "      <td>Iris-setosa</td>\n",
       "    </tr>\n",
       "    <tr>\n",
       "      <th>1</th>\n",
       "      <td>4.9</td>\n",
       "      <td>1.4</td>\n",
       "      <td>Iris-setosa</td>\n",
       "    </tr>\n",
       "    <tr>\n",
       "      <th>2</th>\n",
       "      <td>4.7</td>\n",
       "      <td>1.3</td>\n",
       "      <td>Iris-setosa</td>\n",
       "    </tr>\n",
       "    <tr>\n",
       "      <th>3</th>\n",
       "      <td>4.6</td>\n",
       "      <td>1.5</td>\n",
       "      <td>Iris-setosa</td>\n",
       "    </tr>\n",
       "    <tr>\n",
       "      <th>4</th>\n",
       "      <td>5.0</td>\n",
       "      <td>1.4</td>\n",
       "      <td>Iris-setosa</td>\n",
       "    </tr>\n",
       "    <tr>\n",
       "      <th>5</th>\n",
       "      <td>5.4</td>\n",
       "      <td>1.7</td>\n",
       "      <td>Iris-setosa</td>\n",
       "    </tr>\n",
       "    <tr>\n",
       "      <th>6</th>\n",
       "      <td>4.6</td>\n",
       "      <td>1.4</td>\n",
       "      <td>Iris-setosa</td>\n",
       "    </tr>\n",
       "    <tr>\n",
       "      <th>7</th>\n",
       "      <td>5.0</td>\n",
       "      <td>1.5</td>\n",
       "      <td>Iris-setosa</td>\n",
       "    </tr>\n",
       "    <tr>\n",
       "      <th>8</th>\n",
       "      <td>4.4</td>\n",
       "      <td>1.4</td>\n",
       "      <td>Iris-setosa</td>\n",
       "    </tr>\n",
       "    <tr>\n",
       "      <th>9</th>\n",
       "      <td>4.9</td>\n",
       "      <td>1.5</td>\n",
       "      <td>Iris-setosa</td>\n",
       "    </tr>\n",
       "  </tbody>\n",
       "</table>\n",
       "</div>"
      ],
      "text/plain": [
       "   SepalLengthCm  PetalLengthCm      Species\n",
       "0            5.1            1.4  Iris-setosa\n",
       "1            4.9            1.4  Iris-setosa\n",
       "2            4.7            1.3  Iris-setosa\n",
       "3            4.6            1.5  Iris-setosa\n",
       "4            5.0            1.4  Iris-setosa\n",
       "5            5.4            1.7  Iris-setosa\n",
       "6            4.6            1.4  Iris-setosa\n",
       "7            5.0            1.5  Iris-setosa\n",
       "8            4.4            1.4  Iris-setosa\n",
       "9            4.9            1.5  Iris-setosa"
      ]
     },
     "execution_count": 72,
     "metadata": {},
     "output_type": "execute_result"
    }
   ],
   "source": [
    "# There was no need to download the file first. \n",
    "# just extract three columns from the dataframe just to see what can be done\n",
    "iris_con.to_df()[['SepalLengthCm', 'PetalLengthCm', 'Species']]\n"
   ]
  },
  {
   "cell_type": "code",
   "execution_count": 73,
   "metadata": {},
   "outputs": [
    {
     "data": {
      "text/html": [
       "<div>\n",
       "<style scoped>\n",
       "    .dataframe tbody tr th:only-of-type {\n",
       "        vertical-align: middle;\n",
       "    }\n",
       "\n",
       "    .dataframe tbody tr th {\n",
       "        vertical-align: top;\n",
       "    }\n",
       "\n",
       "    .dataframe thead th {\n",
       "        text-align: right;\n",
       "    }\n",
       "</style>\n",
       "<table border=\"1\" class=\"dataframe\">\n",
       "  <thead>\n",
       "    <tr style=\"text-align: right;\">\n",
       "      <th></th>\n",
       "      <th>Id</th>\n",
       "      <th>SepalLengthCm</th>\n",
       "      <th>SepalWidthCm</th>\n",
       "      <th>PetalLengthCm</th>\n",
       "      <th>PetalWidthCm</th>\n",
       "      <th>Species</th>\n",
       "    </tr>\n",
       "  </thead>\n",
       "  <tbody>\n",
       "    <tr>\n",
       "      <th>0</th>\n",
       "      <td>1</td>\n",
       "      <td>5.1</td>\n",
       "      <td>3.5</td>\n",
       "      <td>1.4</td>\n",
       "      <td>0.2</td>\n",
       "      <td>Iris-setosa</td>\n",
       "    </tr>\n",
       "    <tr>\n",
       "      <th>1</th>\n",
       "      <td>2</td>\n",
       "      <td>4.9</td>\n",
       "      <td>3.0</td>\n",
       "      <td>1.4</td>\n",
       "      <td>0.2</td>\n",
       "      <td>Iris-setosa</td>\n",
       "    </tr>\n",
       "    <tr>\n",
       "      <th>2</th>\n",
       "      <td>3</td>\n",
       "      <td>4.7</td>\n",
       "      <td>3.2</td>\n",
       "      <td>1.3</td>\n",
       "      <td>0.2</td>\n",
       "      <td>Iris-setosa</td>\n",
       "    </tr>\n",
       "    <tr>\n",
       "      <th>3</th>\n",
       "      <td>4</td>\n",
       "      <td>4.6</td>\n",
       "      <td>3.1</td>\n",
       "      <td>1.5</td>\n",
       "      <td>0.2</td>\n",
       "      <td>Iris-setosa</td>\n",
       "    </tr>\n",
       "    <tr>\n",
       "      <th>4</th>\n",
       "      <td>5</td>\n",
       "      <td>5.0</td>\n",
       "      <td>3.6</td>\n",
       "      <td>1.4</td>\n",
       "      <td>0.2</td>\n",
       "      <td>Iris-setosa</td>\n",
       "    </tr>\n",
       "    <tr>\n",
       "      <th>...</th>\n",
       "      <td>...</td>\n",
       "      <td>...</td>\n",
       "      <td>...</td>\n",
       "      <td>...</td>\n",
       "      <td>...</td>\n",
       "      <td>...</td>\n",
       "    </tr>\n",
       "    <tr>\n",
       "      <th>145</th>\n",
       "      <td>146</td>\n",
       "      <td>6.7</td>\n",
       "      <td>3.0</td>\n",
       "      <td>5.2</td>\n",
       "      <td>2.3</td>\n",
       "      <td>Iris-virginica</td>\n",
       "    </tr>\n",
       "    <tr>\n",
       "      <th>146</th>\n",
       "      <td>147</td>\n",
       "      <td>6.3</td>\n",
       "      <td>2.5</td>\n",
       "      <td>5.0</td>\n",
       "      <td>1.9</td>\n",
       "      <td>Iris-virginica</td>\n",
       "    </tr>\n",
       "    <tr>\n",
       "      <th>147</th>\n",
       "      <td>148</td>\n",
       "      <td>6.5</td>\n",
       "      <td>3.0</td>\n",
       "      <td>5.2</td>\n",
       "      <td>2.0</td>\n",
       "      <td>Iris-virginica</td>\n",
       "    </tr>\n",
       "    <tr>\n",
       "      <th>148</th>\n",
       "      <td>149</td>\n",
       "      <td>6.2</td>\n",
       "      <td>3.4</td>\n",
       "      <td>5.4</td>\n",
       "      <td>2.3</td>\n",
       "      <td>Iris-virginica</td>\n",
       "    </tr>\n",
       "    <tr>\n",
       "      <th>149</th>\n",
       "      <td>150</td>\n",
       "      <td>5.9</td>\n",
       "      <td>3.0</td>\n",
       "      <td>5.1</td>\n",
       "      <td>1.8</td>\n",
       "      <td>Iris-virginica</td>\n",
       "    </tr>\n",
       "  </tbody>\n",
       "</table>\n",
       "<p>150 rows × 6 columns</p>\n",
       "</div>"
      ],
      "text/plain": [
       "      Id  SepalLengthCm  SepalWidthCm  PetalLengthCm  PetalWidthCm  \\\n",
       "0      1            5.1           3.5            1.4           0.2   \n",
       "1      2            4.9           3.0            1.4           0.2   \n",
       "2      3            4.7           3.2            1.3           0.2   \n",
       "3      4            4.6           3.1            1.5           0.2   \n",
       "4      5            5.0           3.6            1.4           0.2   \n",
       "..   ...            ...           ...            ...           ...   \n",
       "145  146            6.7           3.0            5.2           2.3   \n",
       "146  147            6.3           2.5            5.0           1.9   \n",
       "147  148            6.5           3.0            5.2           2.0   \n",
       "148  149            6.2           3.4            5.4           2.3   \n",
       "149  150            5.9           3.0            5.1           1.8   \n",
       "\n",
       "            Species  \n",
       "0       Iris-setosa  \n",
       "1       Iris-setosa  \n",
       "2       Iris-setosa  \n",
       "3       Iris-setosa  \n",
       "4       Iris-setosa  \n",
       "..              ...  \n",
       "145  Iris-virginica  \n",
       "146  Iris-virginica  \n",
       "147  Iris-virginica  \n",
       "148  Iris-virginica  \n",
       "149  Iris-virginica  \n",
       "\n",
       "[150 rows x 6 columns]"
      ]
     },
     "execution_count": 73,
     "metadata": {},
     "output_type": "execute_result"
    }
   ],
   "source": [
    "# Make a connection again. This time by setting up the database\n",
    "iris_con = duckdb.connect() \n",
    "\n",
    "# Store the results in a table\n",
    "iris_con.sql('''SELECT * FROM 'https://raw.githubusercontent.com/SecurityNik/Data-Science-and-ML/refs/heads/main/DATASETS/Iris.csv' ''').to_table('iris_table')\n",
    "\n",
    "# Present that table\n",
    "iris_con.table('iris_table').df()"
   ]
  },
  {
   "cell_type": "code",
   "execution_count": 74,
   "metadata": {},
   "outputs": [
    {
     "name": "stdout",
     "output_type": "stream",
     "text": [
      "┌───────────────┬────────────────────────────────────────────────────────────────────────────────────────────────────────────────────────────────────────────────────────────────────────────────────────────────────────────────────────────────────────────────────────────────────────────────────────────────────────────────────────────────────────────────────────────────────────────────────────────────────────────────────────────────────────────────────────────────────────────────────────────────────────────────────────────────────────────────────────────────────────────────────────────────────────────────────────────────────────────────────────────────────────────────────────────────────────────────────────────────────────────────────────────────────────────────────────────────────────────────────────────────────────────────────────────────────────────────────────────────────────────────────────────────────────────────────────────────────────────────────────────────────────────────────────────────────────────────────────────────────────────────────────────────────────────────────────────────────────────────────────────────────────────────────────────────────────────────────────────────────────────────────────────────────────────────────────────────────────────────────────────────────────────────────────────────────────────────────────────────────────────────────────────────────────────────────────────────────────────────────────────────────────────────────────────────────────────────────────────────────────────────────────────────────────────────────────────────────────────────────────────────────────────────────────────────────────────────────────────────────────────────────────────────────────────────────────────────────────────────────────────────────────────────────────────────────────────────────────────────────────────────────────────────────────────────────────────────────────────────────────────────────────────────────────────────────────────────────────────────────────────────────────────────────────────────────────────────────────────────────────────────────────────────────────────────────────────────────────────────────────────────────────────────────────────────────────────────────────────────────────────────────────────────────────────────────────────────────────────────────────────────────────────────────────────────────────────────────────────────────────────────────────────────────────────────────────────────────────────────────────────────────────────────────────────────────────────────────────────────────────────────────────────────────────────────────────────────────────────────────────────────────────────────────────────────────────────────────────────────────────────────────────────────────────────────────────────────────────────────────────────────────────────────────────────────────────────────────────────────────────────────────────────────────────────────────────────────────────────────────────────────────────────────────────────────────────────────────────────────────────────────────────────────────────────────────────────────────────────────────────────────────────────────────────────────────────────────────────────────────────────────────────────────────────────────────────────────────────────────────────────────────────────────────────────────────────────────────────────────────────────────────────────────────────────────────────────────────────────────────────────────────────────────────────────────────────────────────────────────────────────────────────────────────────────────────────────────────────────────────────────┐\n",
      "│  explain_key  │                                                                                                                                                                                                                                                                                                                                                                                                                                                                                                                                                                                                                                                                                                                                                                                                                                                                                                                                                                                                                                                                                                                                                                                                                                                                                                                                                                                                                                                                                                                                                                                                                                                                                                                                                                                                                                                               explain_value                                                                                                                                                                                                                                                                                                                                                                                                                                                                                                                                                                                                                                                                                                                                                                                                                                                                                                                                                                                                                                                                                                                                                                                                                                                                                                                                                                                                                                                                                                                                                                                                                                                                                                                                                                                                                                                                │\n",
      "│    varchar    │                                                                                                                                                                                                                                                                                                                                                                                                                                                                                                                                                                                                                                                                                                                                                                                                                                                                                                                                                                                                                                                                                                                                                                                                                                                                                                                                                                                                                                                                                                                                                                                                                                                                                                                                                                                                                                                                  varchar                                                                                                                                                                                                                                                                                                                                                                                                                                                                                                                                                                                                                                                                                                                                                                                                                                                                                                                                                                                                                                                                                                                                                                                                                                                                                                                                                                                                                                                                                                                                                                                                                                                                                                                                                                                                                                                                   │\n",
      "├───────────────┼────────────────────────────────────────────────────────────────────────────────────────────────────────────────────────────────────────────────────────────────────────────────────────────────────────────────────────────────────────────────────────────────────────────────────────────────────────────────────────────────────────────────────────────────────────────────────────────────────────────────────────────────────────────────────────────────────────────────────────────────────────────────────────────────────────────────────────────────────────────────────────────────────────────────────────────────────────────────────────────────────────────────────────────────────────────────────────────────────────────────────────────────────────────────────────────────────────────────────────────────────────────────────────────────────────────────────────────────────────────────────────────────────────────────────────────────────────────────────────────────────────────────────────────────────────────────────────────────────────────────────────────────────────────────────────────────────────────────────────────────────────────────────────────────────────────────────────────────────────────────────────────────────────────────────────────────────────────────────────────────────────────────────────────────────────────────────────────────────────────────────────────────────────────────────────────────────────────────────────────────────────────────────────────────────────────────────────────────────────────────────────────────────────────────────────────────────────────────────────────────────────────────────────────────────────────────────────────────────────────────────────────────────────────────────────────────────────────────────────────────────────────────────────────────────────────────────────────────────────────────────────────────────────────────────────────────────────────────────────────────────────────────────────────────────────────────────────────────────────────────────────────────────────────────────────────────────────────────────────────────────────────────────────────────────────────────────────────────────────────────────────────────────────────────────────────────────────────────────────────────────────────────────────────────────────────────────────────────────────────────────────────────────────────────────────────────────────────────────────────────────────────────────────────────────────────────────────────────────────────────────────────────────────────────────────────────────────────────────────────────────────────────────────────────────────────────────────────────────────────────────────────────────────────────────────────────────────────────────────────────────────────────────────────────────────────────────────────────────────────────────────────────────────────────────────────────────────────────────────────────────────────────────────────────────────────────────────────────────────────────────────────────────────────────────────────────────────────────────────────────────────────────────────────────────────────────────────────────────────────────────────────────────────────────────────────────────────────────────────────────────────────────────────────────────────────────────────────────────────────────────────────────────────────────────────────────────────────────────────────────────────────────────────────────────────────────────────────────────────────────────────────────────────────────────────────────────────────────────────────────────────────────────────────────────────────────────────────────────────────┤\n",
      "│ physical_plan │ \\n<!DOCTYPE html>\\n<html lang=\"en\">\\n<head>\\n    <meta charset=\"UTF-8\">\\n    <meta name=\"viewport\" content=\"width=device-width, initial-scale=1.0\">\\n    <link rel=\"stylesheet\" href=\"https://unpkg.com/treeflex/dist/css/treeflex.css\">\\n    <title>DuckDB Query Plan</title>\\n    \\n    <style>\\n        body {\\n            font-family: Arial, sans-serif;\\n        }\\n\\n        .tf-tree .tf-nc {\\n            padding: 0px;\\n            border: 1px solid #E5E5E5;\\n        }\\n\\n        .tf-nc {\\n            border-radius: 0.5rem;\\n            padding: 0px;\\n            min-width: 150px;\\n            width: auto;\\n            background-color: #FAFAFA;\\n            text-align: center;\\n            position: relative;\\n        }\\n\\n        .collapse_button {\\n            position:relative;\\n            color: black;\\n            z-index: 2;\\n            width: 2em;\\n            background-color: white;\\n            height: 2em;\\n            border-radius: 50%;\\n            top: 2.25em;\\n        }\\n\\n        .collapse_button:hover {\\n            background-color: #f0f0f0; /* Light gray */\\n        }\\n\\n        .collapse_button:active {\\n            background-color: #e0e0e0; /* Slightly darker gray */\\n        }\\n\\n        .hidden {\\n            display: none !important;\\n        }\\n\\n        .title {\\n            font-weight: bold;\\n            padding-bottom: 5px;\\n            color: #fff100;\\n            box-sizing: border-box;\\n            background-color: black;\\n            border-top-left-radius: 0.5rem;\\n            border-top-right-radius: 0.5rem;\\n            padding: 10px;\\n        }\\n\\n        .content {\\n            border-top: 1px solid #000;\\n            text-align: center;\\n            border-bottom-left-radius: 0.5rem;\\n            border-bottom-right-radius: 0.5rem;\\n            padding: 10px;\\n        }\\n\\n        .sub-title {\\n            color: black;\\n            font-weight: bold;\\n            padding-top: 5px;\\n        }\\n\\n        .sub-title:not(:first-child) {\\n            border-top: 1px solid #ADADAD;\\n        }\\n\\n        .value {\\n            margin-left: 10px;\\n            margin-top: 5px;\\n            color: #3B3B3B;\\n            margin-bottom: 5px;\\n        }\\n\\n        .tf-tree {\\n            width: 100%;\\n            height: 100%;\\n            overflow: visible;\\n        }\\n    </style>\\n    \\n</head>\\n    \\n<body>\\n    <div class=\"tf-tree\">\\n        <ul><li>\\n        <div class=\"tf-nc\">\\n            <div class=\"title\">SEQ_SCAN </div>\\n            <div class=\"content\">\\n                <div class=\"sub-title\">Table</div>\\n                <div class=\"value\">iris_table</div>\\n                <div class=\"sub-title\">Type</div>\\n                <div class=\"value\">Sequential Scan</div>\\n                <div class=\"sub-title\">Projections</div>\\n                <div class=\"value\">SepalLengthCm</div>\\n                <div class=\"sub-title\">Estimated Cardinality</div>\\n                <div class=\"value\">150</div>\\n            </div>\\n    \\n        </div>\\n    </li></ul>\\n    </div>\\n\\n<script>\\nfunction toggleDisplay(button) {\\n    const parentLi = button.closest('li');\\n    const nestedUl = parentLi.querySelector('ul');\\n    if (nestedUl) {\\n        const currentDisplay = getComputedStyle(nestedUl).getPropertyValue('display');\\n        if (currentDisplay === 'none') {\\n            nestedUl.classList.toggle('hidden');\\n            button.textContent = '-';\\n        } else {\\n            nestedUl.classList.toggle('hidden');\\n            button.textContent = '+';\\n        }\\n    }\\n}\\n</script>\\n\\n</body>\\n</html>\\n     │\n",
      "└───────────────┴────────────────────────────────────────────────────────────────────────────────────────────────────────────────────────────────────────────────────────────────────────────────────────────────────────────────────────────────────────────────────────────────────────────────────────────────────────────────────────────────────────────────────────────────────────────────────────────────────────────────────────────────────────────────────────────────────────────────────────────────────────────────────────────────────────────────────────────────────────────────────────────────────────────────────────────────────────────────────────────────────────────────────────────────────────────────────────────────────────────────────────────────────────────────────────────────────────────────────────────────────────────────────────────────────────────────────────────────────────────────────────────────────────────────────────────────────────────────────────────────────────────────────────────────────────────────────────────────────────────────────────────────────────────────────────────────────────────────────────────────────────────────────────────────────────────────────────────────────────────────────────────────────────────────────────────────────────────────────────────────────────────────────────────────────────────────────────────────────────────────────────────────────────────────────────────────────────────────────────────────────────────────────────────────────────────────────────────────────────────────────────────────────────────────────────────────────────────────────────────────────────────────────────────────────────────────────────────────────────────────────────────────────────────────────────────────────────────────────────────────────────────────────────────────────────────────────────────────────────────────────────────────────────────────────────────────────────────────────────────────────────────────────────────────────────────────────────────────────────────────────────────────────────────────────────────────────────────────────────────────────────────────────────────────────────────────────────────────────────────────────────────────────────────────────────────────────────────────────────────────────────────────────────────────────────────────────────────────────────────────────────────────────────────────────────────────────────────────────────────────────────────────────────────────────────────────────────────────────────────────────────────────────────────────────────────────────────────────────────────────────────────────────────────────────────────────────────────────────────────────────────────────────────────────────────────────────────────────────────────────────────────────────────────────────────────────────────────────────────────────────────────────────────────────────────────────────────────────────────────────────────────────────────────────────────────────────────────────────────────────────────────────────────────────────────────────────────────────────────────────────────────────────────────────────────────────────────────────────────────────────────────────────────────────────────────────────────────────────────────────────────────────────────────────────────────────────────────────────────────────────────────────────────────────────────────────────────────────────────────────────────────────────────────────────────────────────────────────────────────────────────────────────────────────────────────────────────────────────────────────────────────────────────────────────────────────────────────────────────────┘\n",
      "\n"
     ]
    }
   ],
   "source": [
    "# Explain a table\n",
    "print(iris_con.sql(query='EXPLAIN (FORMAT HTML) SELECT SepalLengthCm FROM iris_table'))"
   ]
  },
  {
   "cell_type": "code",
   "execution_count": 75,
   "metadata": {},
   "outputs": [
    {
     "data": {
      "text/plain": [
       "┌──────────────┐\n",
       "│ count_star() │\n",
       "│    int64     │\n",
       "├──────────────┤\n",
       "│          150 │\n",
       "└──────────────┘"
      ]
     },
     "execution_count": 75,
     "metadata": {},
     "output_type": "execute_result"
    }
   ],
   "source": [
    "# Get some statistics\n",
    "# How many rows are there\n",
    "iris_con.sql(query=''' SELECT COUNT(*) FROM  iris_table''')"
   ]
  },
  {
   "cell_type": "code",
   "execution_count": 76,
   "metadata": {},
   "outputs": [
    {
     "data": {
      "text/plain": [
       "┌─────────────────┐\n",
       "│     Species     │\n",
       "│     varchar     │\n",
       "├─────────────────┤\n",
       "│ Iris-setosa     │\n",
       "│ Iris-versicolor │\n",
       "│ Iris-virginica  │\n",
       "└─────────────────┘"
      ]
     },
     "execution_count": 76,
     "metadata": {},
     "output_type": "execute_result"
    }
   ],
   "source": [
    "# Get the unique species\n",
    "iris_con.sql(query=''' SELECT DISTINCT(Species) FROM  iris_table''')"
   ]
  },
  {
   "cell_type": "code",
   "execution_count": 77,
   "metadata": {},
   "outputs": [
    {
     "data": {
      "text/plain": [
       "┌─────────────────────────┐\n",
       "│ count(DISTINCT Species) │\n",
       "│          int64          │\n",
       "├─────────────────────────┤\n",
       "│                       3 │\n",
       "└─────────────────────────┘"
      ]
     },
     "execution_count": 77,
     "metadata": {},
     "output_type": "execute_result"
    }
   ],
   "source": [
    "# Get a count\n",
    "# Get the unique species count\n",
    "iris_con.sql(query=''' SELECT COUNT ( DISTINCT(Species) ) FROM  iris_table''')"
   ]
  },
  {
   "cell_type": "code",
   "execution_count": 78,
   "metadata": {},
   "outputs": [
    {
     "data": {
      "text/plain": [
       "┌────────────────────┐\n",
       "│ sum(SepalLengthCm) │\n",
       "│       double       │\n",
       "├────────────────────┤\n",
       "│  876.5000000000002 │\n",
       "└────────────────────┘"
      ]
     },
     "execution_count": 78,
     "metadata": {},
     "output_type": "execute_result"
    }
   ],
   "source": [
    "# Get the sum of the SepalLengthCm column\n",
    "iris_con.sql(query=''' SELECT SUM(SepalLengthCm) FROM  iris_table''')"
   ]
  },
  {
   "cell_type": "code",
   "execution_count": 79,
   "metadata": {},
   "outputs": [
    {
     "data": {
      "text/plain": [
       "┌─────────────────┬────────────────────┐\n",
       "│     Species     │   specs_prod_sum   │\n",
       "│     varchar     │       double       │\n",
       "├─────────────────┼────────────────────┤\n",
       "│ Iris-setosa     │           320.3581 │\n",
       "│ Iris-versicolor │  4867.516699999998 │\n",
       "│ Iris-virginica  │ 11372.547999999997 │\n",
       "└─────────────────┴────────────────────┘"
      ]
     },
     "execution_count": 79,
     "metadata": {},
     "output_type": "execute_result"
    }
   ],
   "source": [
    "# Multiply all the rows and then sum them up\n",
    "# Then group them by he Species\n",
    "iris_con.sql(query=''' SELECT Species, \n",
    "             SUM( SepalLengthCm * SepalWidthCm  * PetalLengthCm * PetalWidthCm ) AS specs_prod_sum\n",
    "             FROM iris_table  \n",
    "             GROUP BY Species\n",
    "             \n",
    "             ''')"
   ]
  },
  {
   "cell_type": "code",
   "execution_count": 80,
   "metadata": {},
   "outputs": [
    {
     "data": {
      "text/plain": [
       "┌─────────────────┬─────────────────────┐\n",
       "│     Species     │   specs_prod_sum    │\n",
       "│     varchar     │       double        │\n",
       "├─────────────────┼─────────────────────┤\n",
       "│ Iris-virginica  │ -198.19999999999993 │\n",
       "│ Iris-setosa     │                -6.0 │\n",
       "│ Iris-versicolor │              -121.0 │\n",
       "└─────────────────┴─────────────────────┘"
      ]
     },
     "execution_count": 80,
     "metadata": {},
     "output_type": "execute_result"
    }
   ],
   "source": [
    "# Try something different\n",
    "# Just minus\n",
    "iris_con.sql(query=''' SELECT Species, \n",
    "             SUM( SepalLengthCm - SepalWidthCm  - PetalLengthCm - PetalWidthCm ) AS specs_prod_sum\n",
    "             FROM iris_table  \n",
    "             GROUP BY Species\n",
    "             \n",
    "             ''')"
   ]
  },
  {
   "cell_type": "code",
   "execution_count": 81,
   "metadata": {},
   "outputs": [
    {
     "data": {
      "text/plain": [
       "┌────────────────────┐\n",
       "│ avg(SepalLengthCm) │\n",
       "│       double       │\n",
       "├────────────────────┤\n",
       "│  5.843333333333335 │\n",
       "└────────────────────┘"
      ]
     },
     "execution_count": 81,
     "metadata": {},
     "output_type": "execute_result"
    }
   ],
   "source": [
    "# Get the average of the SepalLengthCm column\n",
    "iris_con.sql(query=''' SELECT AVG(SepalLengthCm) FROM  iris_table''')"
   ]
  },
  {
   "cell_type": "code",
   "execution_count": 82,
   "metadata": {},
   "outputs": [
    {
     "data": {
      "text/plain": [
       "┌───────────────┬─────────────────┬────────────────────┐\n",
       "│ PetalLengthCm │     Species     │     avg_sepal      │\n",
       "│    double     │     varchar     │       double       │\n",
       "├───────────────┼─────────────────┼────────────────────┤\n",
       "│           1.1 │ Iris-setosa     │                4.3 │\n",
       "│           1.0 │ Iris-setosa     │                4.6 │\n",
       "│           1.3 │ Iris-setosa     │ 4.8428571428571425 │\n",
       "│           4.5 │ Iris-virginica  │                4.9 │\n",
       "│           1.6 │ Iris-setosa     │  4.914285714285714 │\n",
       "│           1.4 │ Iris-setosa     │  4.916666666666667 │\n",
       "│           1.9 │ Iris-setosa     │  4.949999999999999 │\n",
       "│           3.3 │ Iris-versicolor │               4.95 │\n",
       "│           3.0 │ Iris-versicolor │                5.1 │\n",
       "│           1.5 │ Iris-setosa     │  5.128571428571428 │\n",
       "│            ·  │      ·          │                 ·  │\n",
       "│            ·  │      ·          │                 ·  │\n",
       "│            ·  │      ·          │                 ·  │\n",
       "│           6.0 │ Iris-virginica  │               6.75 │\n",
       "│           5.7 │ Iris-virginica  │  6.766666666666667 │\n",
       "│           5.8 │ Iris-virginica  │                6.8 │\n",
       "│           5.9 │ Iris-virginica  │  6.949999999999999 │\n",
       "│           6.3 │ Iris-virginica  │                7.3 │\n",
       "│           6.1 │ Iris-virginica  │  7.433333333333334 │\n",
       "│           6.6 │ Iris-virginica  │                7.6 │\n",
       "│           6.7 │ Iris-virginica  │                7.7 │\n",
       "│           6.9 │ Iris-virginica  │                7.7 │\n",
       "│           6.4 │ Iris-virginica  │                7.9 │\n",
       "├───────────────┴─────────────────┴────────────────────┤\n",
       "│ 48 rows (20 shown)                         3 columns │\n",
       "└──────────────────────────────────────────────────────┘"
      ]
     },
     "execution_count": 82,
     "metadata": {},
     "output_type": "execute_result"
    }
   ],
   "source": [
    "# Get the average of SepalLength again but only show two columns and group by those two columns\n",
    "iris_con.sql(query=''' SELECT PetalLengthCM,Species, \n",
    "             AVG(SepalLengthCm) AS avg_sepal \n",
    "             FROM  iris_table\n",
    "             GROUP BY PetalLengthCM,Species \n",
    "             ORDER BY avg_sepal''')"
   ]
  },
  {
   "cell_type": "code",
   "execution_count": 83,
   "metadata": {},
   "outputs": [
    {
     "data": {
      "text/plain": [
       "┌────────────────────┐\n",
       "│ max(SepalLengthCm) │\n",
       "│       double       │\n",
       "├────────────────────┤\n",
       "│                7.9 │\n",
       "└────────────────────┘"
      ]
     },
     "execution_count": 83,
     "metadata": {},
     "output_type": "execute_result"
    }
   ],
   "source": [
    "# Get the MAX of the SepalLengthCm column\n",
    "iris_con.sql(query=''' SELECT MAX(SepalLengthCm) FROM  iris_table''')"
   ]
  },
  {
   "cell_type": "code",
   "execution_count": 84,
   "metadata": {},
   "outputs": [
    {
     "data": {
      "text/plain": [
       "┌───────────────────────┐\n",
       "│ stddev(SepalLengthCm) │\n",
       "│        double         │\n",
       "├───────────────────────┤\n",
       "│    0.8280661279778637 │\n",
       "└───────────────────────┘"
      ]
     },
     "execution_count": 84,
     "metadata": {},
     "output_type": "execute_result"
    }
   ],
   "source": [
    "# Get the standard deviation of the SepalLengthCm column\n",
    "iris_con.sql(query=''' SELECT STDDEV(SepalLengthCm) FROM  iris_table''')"
   ]
  },
  {
   "cell_type": "code",
   "execution_count": 85,
   "metadata": {},
   "outputs": [
    {
     "data": {
      "text/plain": [
       "┌────────────────────────────┐\n",
       "│ stddev_samp(SepalLengthCm) │\n",
       "│           double           │\n",
       "├────────────────────────────┤\n",
       "│         0.8280661279778637 │\n",
       "└────────────────────────────┘"
      ]
     },
     "execution_count": 85,
     "metadata": {},
     "output_type": "execute_result"
    }
   ],
   "source": [
    "# Get the standard deviation of the SepalLengthCm column\n",
    "# Same thing from a different perspective.\n",
    "# Looking at the sample\n",
    "iris_con.sql(query=''' SELECT STDDEV_SAMP(SepalLengthCm) FROM  iris_table''')"
   ]
  },
  {
   "cell_type": "code",
   "execution_count": 86,
   "metadata": {},
   "outputs": [
    {
     "data": {
      "text/plain": [
       "┌───────────────────────────┐\n",
       "│ stddev_pop(SepalLengthCm) │\n",
       "│          double           │\n",
       "├───────────────────────────┤\n",
       "│        0.8253012917851417 │\n",
       "└───────────────────────────┘"
      ]
     },
     "execution_count": 86,
     "metadata": {},
     "output_type": "execute_result"
    }
   ],
   "source": [
    "# Get the standard deviation of the SepalLengthCm column\n",
    "# Same thing from a different perspective.\n",
    "# Looking at the Population\n",
    "iris_con.sql(query=''' SELECT STDDEV_POP(SepalLengthCm) FROM  iris_table''')"
   ]
  },
  {
   "cell_type": "code",
   "execution_count": 87,
   "metadata": {},
   "outputs": [
    {
     "data": {
      "text/plain": [
       "┌─────────────────────────┐\n",
       "│ variance(SepalLengthCm) │\n",
       "│         double          │\n",
       "├─────────────────────────┤\n",
       "│      0.6856935123042518 │\n",
       "└─────────────────────────┘"
      ]
     },
     "execution_count": 87,
     "metadata": {},
     "output_type": "execute_result"
    }
   ],
   "source": [
    "# Get the variance  of the SepalLengthCm column\n",
    "iris_con.sql(query=''' SELECT VARIANCE(SepalLengthCm) FROM  iris_table''')"
   ]
  },
  {
   "cell_type": "code",
   "execution_count": 88,
   "metadata": {},
   "outputs": [
    {
     "data": {
      "text/plain": [
       "┌───────────────────────────────────┐\n",
       "│ corr(SepalLengthCm, SepalWidthCm) │\n",
       "│              double               │\n",
       "├───────────────────────────────────┤\n",
       "│              -0.10936924995064935 │\n",
       "└───────────────────────────────────┘"
      ]
     },
     "execution_count": 88,
     "metadata": {},
     "output_type": "execute_result"
    }
   ],
   "source": [
    "# Get the correlation between the Sepal Length and Sepal Width\n",
    "iris_con.sql(query=''' SELECT CORR(SepalLengthCm,SepalWidthCm) FROM  iris_table''')"
   ]
  },
  {
   "cell_type": "code",
   "execution_count": 89,
   "metadata": {},
   "outputs": [
    {
     "data": {
      "text/plain": [
       "┌───────────────────────────────────┐\n",
       "│ corr(PetalLengthCm, PetalWidthCm) │\n",
       "│              double               │\n",
       "├───────────────────────────────────┤\n",
       "│                0.9627570970509665 │\n",
       "└───────────────────────────────────┘"
      ]
     },
     "execution_count": 89,
     "metadata": {},
     "output_type": "execute_result"
    }
   ],
   "source": [
    "# Get the correlation between the Petal Length and Petal Width\n",
    "iris_con.sql(query=''' SELECT CORR(PetalLengthCm,PetalWidthCm) FROM  iris_table''')"
   ]
  },
  {
   "cell_type": "code",
   "execution_count": 90,
   "metadata": {},
   "outputs": [
    {
     "data": {
      "text/plain": [
       "┌────────────────────────────────────────┐\n",
       "│ covar_pop(PetalLengthCm, PetalWidthCm) │\n",
       "│                 double                 │\n",
       "├────────────────────────────────────────┤\n",
       "│                      1.287744888888889 │\n",
       "└────────────────────────────────────────┘"
      ]
     },
     "execution_count": 90,
     "metadata": {},
     "output_type": "execute_result"
    }
   ],
   "source": [
    "# Get the Covariance between the Petal Length and Petal Width\n",
    "iris_con.sql(query=''' SELECT COVAR_POP(PetalLengthCm,PetalWidthCm) FROM  iris_table''')"
   ]
  },
  {
   "cell_type": "code",
   "execution_count": 91,
   "metadata": {},
   "outputs": [
    {
     "data": {
      "text/plain": [
       "┌───────────────────────┐\n",
       "│ median(PetalLengthCm) │\n",
       "│        double         │\n",
       "├───────────────────────┤\n",
       "│                  4.35 │\n",
       "└───────────────────────┘"
      ]
     },
     "execution_count": 91,
     "metadata": {},
     "output_type": "execute_result"
    }
   ],
   "source": [
    "# Get the Median of PetalLengthCM\n",
    "iris_con.sql(query=''' SELECT MEDIAN(PetalLengthCm) FROM  iris_table''')"
   ]
  },
  {
   "cell_type": "code",
   "execution_count": 92,
   "metadata": {},
   "outputs": [
    {
     "data": {
      "text/plain": [
       "┌────────────────────┐\n",
       "│ mad(PetalLengthCm) │\n",
       "│       double       │\n",
       "├────────────────────┤\n",
       "│               1.25 │\n",
       "└────────────────────┘"
      ]
     },
     "execution_count": 92,
     "metadata": {},
     "output_type": "execute_result"
    }
   ],
   "source": [
    "# Get the Median Absolute Deviation\n",
    "iris_con.sql(query=''' SELECT MAD(PetalLengthCm) FROM  iris_table''')"
   ]
  },
  {
   "cell_type": "code",
   "execution_count": 93,
   "metadata": {},
   "outputs": [
    {
     "data": {
      "text/plain": [
       "┌───────────────────────┐\n",
       "│ \"mode\"(PetalLengthCm) │\n",
       "│        double         │\n",
       "├───────────────────────┤\n",
       "│                   1.5 │\n",
       "└───────────────────────┘"
      ]
     },
     "execution_count": 93,
     "metadata": {},
     "output_type": "execute_result"
    }
   ],
   "source": [
    "# Get the mode\n",
    "iris_con.sql(query=''' SELECT MODE(PetalLengthCm) FROM  iris_table''')"
   ]
  },
  {
   "cell_type": "code",
   "execution_count": 94,
   "metadata": {},
   "outputs": [
    {
     "data": {
      "text/plain": [
       "┌───────────────────────────────────┐\n",
       "│ quantile_cont(PetalLengthCm, .50) │\n",
       "│              double               │\n",
       "├───────────────────────────────────┤\n",
       "│                              4.35 │\n",
       "└───────────────────────────────────┘"
      ]
     },
     "execution_count": 94,
     "metadata": {},
     "output_type": "execute_result"
    }
   ],
   "source": [
    "# Get the 50 percentile which is the same as the median\n",
    "iris_con.sql(query=''' SELECT QUANTILE_CONT(PetalLengthCm, .50) FROM  iris_table''')"
   ]
  },
  {
   "cell_type": "code",
   "execution_count": 95,
   "metadata": {},
   "outputs": [
    {
     "data": {
      "text/plain": [
       "┌─────────────────────────────────────────────┐\n",
       "│ regr_intercept(PetalLengthCm, PetalWidthCm) │\n",
       "│                   double                    │\n",
       "├─────────────────────────────────────────────┤\n",
       "│                          1.0905721458773812 │\n",
       "└─────────────────────────────────────────────┘"
      ]
     },
     "execution_count": 95,
     "metadata": {},
     "output_type": "execute_result"
    }
   ],
   "source": [
    "# Get the regression intercept and Petal Width\n",
    "iris_con.sql(query=''' SELECT REGR_INTERCEPT(PetalLengthCm,PetalWidthCm) \n",
    "             FROM  iris_table''')"
   ]
  },
  {
   "cell_type": "code",
   "execution_count": 96,
   "metadata": {},
   "outputs": [
    {
     "data": {
      "text/plain": [
       "┌─────────────────────────────────────────┐\n",
       "│ regr_slope(PetalLengthCm, PetalWidthCm) │\n",
       "│                 double                  │\n",
       "├─────────────────────────────────────────┤\n",
       "│                        2.22588530655391 │\n",
       "└─────────────────────────────────────────┘"
      ]
     },
     "execution_count": 96,
     "metadata": {},
     "output_type": "execute_result"
    }
   ],
   "source": [
    "# Get the regression SLOPE and Petal Width\n",
    "iris_con.sql(query=''' SELECT REGR_SLOPE(PetalLengthCm,PetalWidthCm) \n",
    "             FROM  iris_table''')"
   ]
  },
  {
   "cell_type": "code",
   "execution_count": null,
   "metadata": {},
   "outputs": [],
   "source": []
  },
  {
   "cell_type": "code",
   "execution_count": 97,
   "metadata": {},
   "outputs": [
    {
     "data": {
      "text/plain": [
       "┌────────────────────────────────────────────────────────────────────────────────────────────────────────────────────────────────────────────────────────────────────────────────────────────────────────────────────────────────────────────────────────────────────────────────────────────────────────────────────────────────────────────────────────────────────────────────────────────────────────────────────────────────────────────────────────────────────────────────────────────────────────────────────────────────────────────────────────────────────────────────────────────────────────────────────────────────────────────────────────────────────────────────────────────────────────────────────────────────────────────────────────────────────────────────┐\n",
       "│                                                                                                                                                                                                                                                                                                                                                                            array_agg(SepalLengthCm)                                                                                                                                                                                                                                                                                                                                                                            │\n",
       "│                                                                                                                                                                                                                                                                                                                                                                                    double[]                                                                                                                                                                                                                                                                                                                                                                                    │\n",
       "├────────────────────────────────────────────────────────────────────────────────────────────────────────────────────────────────────────────────────────────────────────────────────────────────────────────────────────────────────────────────────────────────────────────────────────────────────────────────────────────────────────────────────────────────────────────────────────────────────────────────────────────────────────────────────────────────────────────────────────────────────────────────────────────────────────────────────────────────────────────────────────────────────────────────────────────────────────────────────────────────────────────────────────────────────────────────────────────────────────────────────────────────────────────────┤\n",
       "│ [5.1, 4.9, 4.7, 4.6, 5.0, 5.4, 4.6, 5.0, 4.4, 4.9, 5.4, 4.8, 4.8, 4.3, 5.8, 5.7, 5.4, 5.1, 5.7, 5.1, 5.4, 5.1, 4.6, 5.1, 4.8, 5.0, 5.0, 5.2, 5.2, 4.7, 4.8, 5.4, 5.2, 5.5, 4.9, 5.0, 5.5, 4.9, 4.4, 5.1, 5.0, 4.5, 4.4, 5.0, 5.1, 4.8, 5.1, 4.6, 5.3, 5.0, 7.0, 6.4, 6.9, 5.5, 6.5, 5.7, 6.3, 4.9, 6.6, 5.2, 5.0, 5.9, 6.0, 6.1, 5.6, 6.7, 5.6, 5.8, 6.2, 5.6, 5.9, 6.1, 6.3, 6.1, 6.4, 6.6, 6.8, 6.7, 6.0, 5.7, 5.5, 5.5, 5.8, 6.0, 5.4, 6.0, 6.7, 6.3, 5.6, 5.5, 5.5, 6.1, 5.8, 5.0, 5.6, 5.7, 5.7, 6.2, 5.1, 5.7, 6.3, 5.8, 7.1, 6.3, 6.5, 7.6, 4.9, 7.3, 6.7, 7.2, 6.5, 6.4, 6.8, 5.7, 5.8, 6.4, 6.5, 7.7, 7.7, 6.0, 6.9, 5.6, 7.7, 6.3, 6.7, 7.2, 6.2, 6.1, 6.4, 7.2, 7.4, 7.9, 6.4, 6.3, 6.1, 7.7, 6.3, 6.4, 6.0, 6.9, 6.7, 6.9, 5.8, 6.8, 6.7, 6.7, 6.3, 6.5, 6.2, 5.9] │\n",
       "└────────────────────────────────────────────────────────────────────────────────────────────────────────────────────────────────────────────────────────────────────────────────────────────────────────────────────────────────────────────────────────────────────────────────────────────────────────────────────────────────────────────────────────────────────────────────────────────────────────────────────────────────────────────────────────────────────────────────────────────────────────────────────────────────────────────────────────────────────────────────────────────────────────────────────────────────────────────────────────────────────────────────────────────────────────────────────────────────────────────────────────────────────────────────┘"
      ]
     },
     "execution_count": 97,
     "metadata": {},
     "output_type": "execute_result"
    }
   ],
   "source": [
    "# Get the values into an array\n",
    "iris_con.sql(query=''' SELECT ARRAY_AGG(SepalLengthCm) FROM  iris_table''')"
   ]
  },
  {
   "cell_type": "code",
   "execution_count": 98,
   "metadata": {},
   "outputs": [
    {
     "data": {
      "text/plain": [
       "┌────────────────────────────────────────────────────────────────────────────────────────────────────────────────────────────────────────────────────────────────────────────────────────────────────────────────────────────────────────────────────────────┐\n",
       "│                                                                                                                  array_agg(SepalLengthCm)                                                                                                                  │\n",
       "│                                                                                                                          double[]                                                                                                                          │\n",
       "├────────────────────────────────────────────────────────────────────────────────────────────────────────────────────────────────────────────────────────────────────────────────────────────────────────────────────────────────────────────────────────────┤\n",
       "│ [6.3, 5.8, 7.1, 6.3, 6.5, 7.6, 4.9, 7.3, 6.7, 7.2, 6.5, 6.4, 6.8, 5.7, 5.8, 6.4, 6.5, 7.7, 7.7, 6.0, 6.9, 5.6, 7.7, 6.3, 6.7, 7.2, 6.2, 6.1, 6.4, 7.2, 7.4, 7.9, 6.4, 6.3, 6.1, 7.7, 6.3, 6.4, 6.0, 6.9, 6.7, 6.9, 5.8, 6.8, 6.7, 6.7, 6.3, 6.5, 6.2, 5.9] │\n",
       "│ [5.1, 4.9, 4.7, 4.6, 5.0, 5.4, 4.6, 5.0, 4.4, 4.9, 5.4, 4.8, 4.8, 4.3, 5.8, 5.7, 5.4, 5.1, 5.7, 5.1, 5.4, 5.1, 4.6, 5.1, 4.8, 5.0, 5.0, 5.2, 5.2, 4.7, 4.8, 5.4, 5.2, 5.5, 4.9, 5.0, 5.5, 4.9, 4.4, 5.1, 5.0, 4.5, 4.4, 5.0, 5.1, 4.8, 5.1, 4.6, 5.3, 5.0] │\n",
       "│ [7.0, 6.4, 6.9, 5.5, 6.5, 5.7, 6.3, 4.9, 6.6, 5.2, 5.0, 5.9, 6.0, 6.1, 5.6, 6.7, 5.6, 5.8, 6.2, 5.6, 5.9, 6.1, 6.3, 6.1, 6.4, 6.6, 6.8, 6.7, 6.0, 5.7, 5.5, 5.5, 5.8, 6.0, 5.4, 6.0, 6.7, 6.3, 5.6, 5.5, 5.5, 6.1, 5.8, 5.0, 5.6, 5.7, 5.7, 6.2, 5.1, 5.7] │\n",
       "└────────────────────────────────────────────────────────────────────────────────────────────────────────────────────────────────────────────────────────────────────────────────────────────────────────────────────────────────────────────────────────────┘"
      ]
     },
     "execution_count": 98,
     "metadata": {},
     "output_type": "execute_result"
    }
   ],
   "source": [
    "# Get the values into an array\n",
    "# Order by the species\n",
    "iris_con.sql(query=''' SELECT ARRAY_AGG(SepalLengthCm) FROM  iris_table\n",
    "             GROUP BY Species ''')"
   ]
  },
  {
   "cell_type": "code",
   "execution_count": 99,
   "metadata": {},
   "outputs": [
    {
     "data": {
      "text/html": [
       "<div>\n",
       "<style scoped>\n",
       "    .dataframe tbody tr th:only-of-type {\n",
       "        vertical-align: middle;\n",
       "    }\n",
       "\n",
       "    .dataframe tbody tr th {\n",
       "        vertical-align: top;\n",
       "    }\n",
       "\n",
       "    .dataframe thead th {\n",
       "        text-align: right;\n",
       "    }\n",
       "</style>\n",
       "<table border=\"1\" class=\"dataframe\">\n",
       "  <thead>\n",
       "    <tr style=\"text-align: right;\">\n",
       "      <th></th>\n",
       "      <th>Id</th>\n",
       "      <th>SepalLengthCm</th>\n",
       "      <th>SepalWidthCm</th>\n",
       "      <th>PetalLengthCm</th>\n",
       "      <th>PetalWidthCm</th>\n",
       "      <th>Species</th>\n",
       "    </tr>\n",
       "  </thead>\n",
       "  <tbody>\n",
       "    <tr>\n",
       "      <th>0</th>\n",
       "      <td>1</td>\n",
       "      <td>5.1</td>\n",
       "      <td>3.5</td>\n",
       "      <td>1.4</td>\n",
       "      <td>0.2</td>\n",
       "      <td>Iris-setosa</td>\n",
       "    </tr>\n",
       "    <tr>\n",
       "      <th>1</th>\n",
       "      <td>2</td>\n",
       "      <td>4.9</td>\n",
       "      <td>3.0</td>\n",
       "      <td>1.4</td>\n",
       "      <td>0.2</td>\n",
       "      <td>Iris-setosa</td>\n",
       "    </tr>\n",
       "    <tr>\n",
       "      <th>2</th>\n",
       "      <td>3</td>\n",
       "      <td>4.7</td>\n",
       "      <td>3.2</td>\n",
       "      <td>1.3</td>\n",
       "      <td>0.2</td>\n",
       "      <td>Iris-setosa</td>\n",
       "    </tr>\n",
       "    <tr>\n",
       "      <th>3</th>\n",
       "      <td>4</td>\n",
       "      <td>4.6</td>\n",
       "      <td>3.1</td>\n",
       "      <td>1.5</td>\n",
       "      <td>0.2</td>\n",
       "      <td>Iris-setosa</td>\n",
       "    </tr>\n",
       "    <tr>\n",
       "      <th>4</th>\n",
       "      <td>5</td>\n",
       "      <td>5.0</td>\n",
       "      <td>3.6</td>\n",
       "      <td>1.4</td>\n",
       "      <td>0.2</td>\n",
       "      <td>Iris-setosa</td>\n",
       "    </tr>\n",
       "    <tr>\n",
       "      <th>5</th>\n",
       "      <td>6</td>\n",
       "      <td>5.4</td>\n",
       "      <td>3.9</td>\n",
       "      <td>1.7</td>\n",
       "      <td>0.4</td>\n",
       "      <td>Iris-setosa</td>\n",
       "    </tr>\n",
       "    <tr>\n",
       "      <th>6</th>\n",
       "      <td>7</td>\n",
       "      <td>4.6</td>\n",
       "      <td>3.4</td>\n",
       "      <td>1.4</td>\n",
       "      <td>0.3</td>\n",
       "      <td>Iris-setosa</td>\n",
       "    </tr>\n",
       "    <tr>\n",
       "      <th>7</th>\n",
       "      <td>8</td>\n",
       "      <td>5.0</td>\n",
       "      <td>3.4</td>\n",
       "      <td>1.5</td>\n",
       "      <td>0.2</td>\n",
       "      <td>Iris-setosa</td>\n",
       "    </tr>\n",
       "    <tr>\n",
       "      <th>8</th>\n",
       "      <td>9</td>\n",
       "      <td>4.4</td>\n",
       "      <td>2.9</td>\n",
       "      <td>1.4</td>\n",
       "      <td>0.2</td>\n",
       "      <td>Iris-setosa</td>\n",
       "    </tr>\n",
       "    <tr>\n",
       "      <th>9</th>\n",
       "      <td>10</td>\n",
       "      <td>4.9</td>\n",
       "      <td>3.1</td>\n",
       "      <td>1.5</td>\n",
       "      <td>0.1</td>\n",
       "      <td>Iris-setosa</td>\n",
       "    </tr>\n",
       "  </tbody>\n",
       "</table>\n",
       "</div>"
      ],
      "text/plain": [
       "   Id  SepalLengthCm  SepalWidthCm  PetalLengthCm  PetalWidthCm      Species\n",
       "0   1            5.1           3.5            1.4           0.2  Iris-setosa\n",
       "1   2            4.9           3.0            1.4           0.2  Iris-setosa\n",
       "2   3            4.7           3.2            1.3           0.2  Iris-setosa\n",
       "3   4            4.6           3.1            1.5           0.2  Iris-setosa\n",
       "4   5            5.0           3.6            1.4           0.2  Iris-setosa\n",
       "5   6            5.4           3.9            1.7           0.4  Iris-setosa\n",
       "6   7            4.6           3.4            1.4           0.3  Iris-setosa\n",
       "7   8            5.0           3.4            1.5           0.2  Iris-setosa\n",
       "8   9            4.4           2.9            1.4           0.2  Iris-setosa\n",
       "9  10            4.9           3.1            1.5           0.1  Iris-setosa"
      ]
     },
     "execution_count": 99,
     "metadata": {},
     "output_type": "execute_result"
    }
   ],
   "source": [
    "# Create a pandas dataframe\n",
    "iris_df = iris_con.sql(''' SELECT * FROM iris_table,\n",
    "             LIMIT 10''').df()\n",
    "\n",
    "iris_df"
   ]
  },
  {
   "cell_type": "code",
   "execution_count": 100,
   "metadata": {},
   "outputs": [
    {
     "data": {
      "text/plain": [
       "<duckdb.duckdb.DuckDBPyConnection at 0x7faed242fbf0>"
      ]
     },
     "execution_count": 100,
     "metadata": {},
     "output_type": "execute_result"
    }
   ],
   "source": [
    "# Write the dataframe back to a database table\n",
    "iris_con.register('securitynik_iris', iris_df)"
   ]
  },
  {
   "cell_type": "code",
   "execution_count": 101,
   "metadata": {},
   "outputs": [
    {
     "data": {
      "text/plain": [
       "┌──────────────────┐\n",
       "│       name       │\n",
       "│     varchar      │\n",
       "├──────────────────┤\n",
       "│ iris_table       │\n",
       "│ securitynik_iris │\n",
       "└──────────────────┘"
      ]
     },
     "execution_count": 101,
     "metadata": {},
     "output_type": "execute_result"
    }
   ],
   "source": [
    "# Confirm the table is there\n",
    "iris_con.sql(query=''' PRAGMA show_tables ''')"
   ]
  },
  {
   "cell_type": "code",
   "execution_count": null,
   "metadata": {},
   "outputs": [],
   "source": []
  },
  {
   "cell_type": "code",
   "execution_count": null,
   "metadata": {},
   "outputs": [],
   "source": []
  },
  {
   "cell_type": "code",
   "execution_count": null,
   "metadata": {},
   "outputs": [],
   "source": []
  },
  {
   "cell_type": "code",
   "execution_count": null,
   "metadata": {},
   "outputs": [],
   "source": []
  },
  {
   "cell_type": "code",
   "execution_count": null,
   "metadata": {},
   "outputs": [],
   "source": []
  },
  {
   "cell_type": "code",
   "execution_count": null,
   "metadata": {},
   "outputs": [],
   "source": []
  },
  {
   "cell_type": "code",
   "execution_count": 102,
   "metadata": {},
   "outputs": [],
   "source": [
    "# Well if we opened a connection to a table, we should close it too\n",
    "iris_con.close()"
   ]
  },
  {
   "cell_type": "code",
   "execution_count": null,
   "metadata": {},
   "outputs": [],
   "source": []
  },
  {
   "cell_type": "code",
   "execution_count": null,
   "metadata": {},
   "outputs": [],
   "source": []
  },
  {
   "cell_type": "code",
   "execution_count": null,
   "metadata": {},
   "outputs": [],
   "source": []
  },
  {
   "cell_type": "code",
   "execution_count": null,
   "metadata": {},
   "outputs": [],
   "source": []
  },
  {
   "cell_type": "code",
   "execution_count": null,
   "metadata": {},
   "outputs": [],
   "source": []
  },
  {
   "cell_type": "code",
   "execution_count": null,
   "metadata": {},
   "outputs": [],
   "source": []
  },
  {
   "cell_type": "code",
   "execution_count": null,
   "metadata": {},
   "outputs": [],
   "source": []
  },
  {
   "cell_type": "code",
   "execution_count": null,
   "metadata": {},
   "outputs": [],
   "source": []
  },
  {
   "cell_type": "code",
   "execution_count": null,
   "metadata": {},
   "outputs": [],
   "source": []
  },
  {
   "cell_type": "markdown",
   "metadata": {},
   "source": [
    "*References*    \n",
    "- https://duckdb.org/docs/installation/index?version=stable&environment=python  \n",
    "- https://duckdb.org/2024/03/29/external-aggregation  \n",
    "- https://duckdb.org/docs/api/python/data_ingestion.html  \n",
    "- https://duckdb.org/docs/sql/statements/create_table.html  \n",
    "- https://duckdb.org/docs/sql/statements/create_table.html  \n",
    "- https://duckdb.org/why_duckdb\n",
    "- https://motherduck.com/blog/duckdb-ecosystem-newsletter-november-2024/  \n",
    "- https://duckdb.org/2024/10/04/duckdb-user-survey-analysis.html  \n",
    "- https://practicaldataengineering.substack.com/p/building-data-pipeline-using-duckdb  \n",
    "- https://practicaldataengineering.substack.com/p/duckdb-beyond-the-hype  \n",
    "- https://duckdb.org/pdf/SIGMOD2019-demo-duckdb.pdf   \n",
    "- https://medium.com/@bruhhmx/introduction-to-duckdb-7d0b4c0de7f5  \n",
    "- https://r.duckdb.org/reference/duckdb_register.html  \n",
    "- https://duckdb.org/docs/configuration/pragmas.html  \n",
    "- https://duckdb.org/docs/configuration/overview.html   \n",
    "- https://duckdb.org/docs/guides/overview.html  \n",
    "- https://duckdb.org/2024/09/25/changing-data-with-confidence-and-acid.html  \n",
    "- https://maximebeauchemin.medium.com/functional-data-engineering-a-modern-paradigm-for-batch-data-processing-2327ec32c42a  \n",
    "- https://duckdb.org/docs/api/cli/dot_commands  \n",
    "- https://duckdb.org/2024/03/29/external-aggregation  \n",
    "- https://duckdb.org/2022/03/07/aggregate-hashtable.html  \n",
    "- https://shekhargulati.com/2019/12/15/the-5-minute-introduction-to-duckdb-the-sqlite-for-analytics/\n",
    "- https://open.spotify.com/episode/7mp1QYRJR5Q8Hg9gHACVGG  "
   ]
  }
 ],
 "metadata": {
  "kernelspec": {
   "display_name": "main_playground",
   "language": "python",
   "name": "python3"
  },
  "language_info": {
   "codemirror_mode": {
    "name": "ipython",
    "version": 3
   },
   "file_extension": ".py",
   "mimetype": "text/x-python",
   "name": "python",
   "nbconvert_exporter": "python",
   "pygments_lexer": "ipython3",
   "version": "3.12.8"
  }
 },
 "nbformat": 4,
 "nbformat_minor": 2
}
